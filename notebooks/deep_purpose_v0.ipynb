{
  "cells": [
    {
      "cell_type": "markdown",
      "metadata": {
        "id": "iX9M9IDWnYUN"
      },
      "source": [
        "https://github.com/kexinhuang12345/DeepPurpose\n"
      ]
    },
    {
      "cell_type": "code",
      "source": [
        "!pip install -q condacolab\n",
        "import condacolab\n",
        "condacolab.install()\n"
      ],
      "metadata": {
        "id": "X5NDzGgKoUJP",
        "outputId": "ecabf257-496a-4196-ac80-a13b4e3e92ab",
        "colab": {
          "base_uri": "https://localhost:8080/"
        }
      },
      "execution_count": 1,
      "outputs": [
        {
          "output_type": "stream",
          "name": "stdout",
          "text": [
            "✨🍰✨ Everything looks OK!\n"
          ]
        }
      ]
    },
    {
      "cell_type": "code",
      "source": [
        "!mamba install -c conda-forge -c rdkit rdkit notebook -y"
      ],
      "metadata": {
        "colab": {
          "base_uri": "https://localhost:8080/"
        },
        "id": "W4MGhHHFsHr1",
        "outputId": "7ed1afe7-d352-4d91-ff21-98d51d1b2668"
      },
      "execution_count": 2,
      "outputs": [
        {
          "output_type": "stream",
          "name": "stdout",
          "text": [
            "\n",
            "                  __    __    __    __\n",
            "                 /  \\  /  \\  /  \\  /  \\\n",
            "                /    \\/    \\/    \\/    \\\n",
            "███████████████/  /██/  /██/  /██/  /████████████████████████\n",
            "              /  / \\   / \\   / \\   / \\  \\____\n",
            "             /  /   \\_/   \\_/   \\_/   \\    o \\__,\n",
            "            / _/                       \\_____/  `\n",
            "            |/\n",
            "        ███╗   ███╗ █████╗ ███╗   ███╗██████╗  █████╗\n",
            "        ████╗ ████║██╔══██╗████╗ ████║██╔══██╗██╔══██╗\n",
            "        ██╔████╔██║███████║██╔████╔██║██████╔╝███████║\n",
            "        ██║╚██╔╝██║██╔══██║██║╚██╔╝██║██╔══██╗██╔══██║\n",
            "        ██║ ╚═╝ ██║██║  ██║██║ ╚═╝ ██║██████╔╝██║  ██║\n",
            "        ╚═╝     ╚═╝╚═╝  ╚═╝╚═╝     ╚═╝╚═════╝ ╚═╝  ╚═╝\n",
            "\n",
            "        Supported by @QuantStack\n",
            "\n",
            "        GitHub:  https://github.com/QuantStack/mamba\n",
            "        Twitter: https://twitter.com/QuantStack\n",
            "\n",
            "█████████████████████████████████████████████████████████████\n",
            "\n",
            "Getting  conda-forge linux-64\n",
            "Getting  conda-forge noarch\n",
            "Getting  rdkit linux-64\n",
            "Getting  rdkit noarch\n",
            "Getting  pkgs/main linux-64\n",
            "Getting  pkgs/main noarch\n",
            "Getting  pkgs/r linux-64\n",
            "Getting  pkgs/r noarch\n",
            "\n",
            "Looking for: ['rdkit', 'notebook', 'python 3.7.10']\n",
            "\n",
            "241375 packages in https://conda.anaconda.org/conda-forge/linux-64\n",
            "82198 packages in https://conda.anaconda.org/conda-forge/noarch\n",
            "225 packages in https://conda.anaconda.org/rdkit/linux-64\n",
            "1 packages in https://conda.anaconda.org/rdkit/noarch\n",
            "24489 packages in https://repo.anaconda.com/pkgs/main/linux-64\n",
            "4596 packages in https://repo.anaconda.com/pkgs/main/noarch\n",
            "6637 packages in https://repo.anaconda.com/pkgs/r/linux-64\n",
            "5025 packages in https://repo.anaconda.com/pkgs/r/noarch\n",
            "\n",
            "# All requested packages already installed.\n",
            "\n"
          ]
        }
      ]
    },
    {
      "cell_type": "code",
      "source": [
        "import os\n",
        "os.environ['CUDA_LAUNCH_BLOCKING'] = \"1\""
      ],
      "metadata": {
        "id": "UPq5mEKw6WvP"
      },
      "execution_count": 3,
      "outputs": []
    },
    {
      "cell_type": "code",
      "source": [
        "# !source activate DeepPurpose\n",
        "!pip install scikit-learn numpy pandas\n",
        "!pip install torch==1.9.0+cu111 torchvision==0.10.0+cu111 torchaudio==0.9.0 -f https://download.pytorch.org/whl/torch_stable.html\n",
        "!pip install git+https://github.com/bp-kelley/descriptastorus \n",
        "!pip install DeepPurpose prody"
      ],
      "metadata": {
        "id": "T8z6AxTQnev8",
        "outputId": "1442595e-3ac9-4751-83eb-886d8ca88287",
        "colab": {
          "base_uri": "https://localhost:8080/"
        }
      },
      "execution_count": 4,
      "outputs": [
        {
          "output_type": "stream",
          "name": "stdout",
          "text": [
            "Requirement already satisfied: scikit-learn in /usr/local/lib/python3.7/site-packages (1.0.2)\n",
            "Requirement already satisfied: numpy in /usr/local/lib/python3.7/site-packages (1.21.5)\n",
            "Requirement already satisfied: pandas in /usr/local/lib/python3.7/site-packages (1.3.5)\n",
            "Requirement already satisfied: python-dateutil>=2.7.3 in /usr/local/lib/python3.7/site-packages (from pandas) (2.8.2)\n",
            "Requirement already satisfied: pytz>=2017.3 in /usr/local/lib/python3.7/site-packages (from pandas) (2021.3)\n",
            "Requirement already satisfied: six>=1.5 in /usr/local/lib/python3.7/site-packages (from python-dateutil>=2.7.3->pandas) (1.15.0)\n",
            "Requirement already satisfied: joblib>=0.11 in /usr/local/lib/python3.7/site-packages (from scikit-learn) (1.1.0)\n",
            "Requirement already satisfied: scipy>=1.1.0 in /usr/local/lib/python3.7/site-packages (from scikit-learn) (1.7.3)\n",
            "Requirement already satisfied: threadpoolctl>=2.0.0 in /usr/local/lib/python3.7/site-packages (from scikit-learn) (3.1.0)\n",
            "Looking in links: https://download.pytorch.org/whl/torch_stable.html\n",
            "Requirement already satisfied: torch==1.9.0+cu111 in /usr/local/lib/python3.7/site-packages (1.9.0+cu111)\n",
            "Requirement already satisfied: torchvision==0.10.0+cu111 in /usr/local/lib/python3.7/site-packages (0.10.0+cu111)\n",
            "Requirement already satisfied: torchaudio==0.9.0 in /usr/local/lib/python3.7/site-packages (0.9.0)\n",
            "Requirement already satisfied: typing-extensions in /usr/local/lib/python3.7/site-packages (from torch==1.9.0+cu111) (4.1.0)\n",
            "Requirement already satisfied: numpy in /usr/local/lib/python3.7/site-packages (from torchvision==0.10.0+cu111) (1.21.5)\n",
            "Requirement already satisfied: pillow>=5.3.0 in /usr/local/lib/python3.7/site-packages (from torchvision==0.10.0+cu111) (9.0.1)\n",
            "Collecting git+https://github.com/bp-kelley/descriptastorus\n",
            "  Cloning https://github.com/bp-kelley/descriptastorus to /tmp/pip-req-build-o1to_j51\n",
            "  Running command git clone -q https://github.com/bp-kelley/descriptastorus /tmp/pip-req-build-o1to_j51\n",
            "Requirement already satisfied: pandas_flavor in /usr/local/lib/python3.7/site-packages (from descriptastorus==2.3.0.5) (0.2.0)\n",
            "Requirement already satisfied: xarray in /usr/local/lib/python3.7/site-packages (from pandas_flavor->descriptastorus==2.3.0.5) (0.20.2)\n",
            "Requirement already satisfied: pandas in /usr/local/lib/python3.7/site-packages (from pandas_flavor->descriptastorus==2.3.0.5) (1.3.5)\n",
            "Requirement already satisfied: python-dateutil>=2.7.3 in /usr/local/lib/python3.7/site-packages (from pandas->pandas_flavor->descriptastorus==2.3.0.5) (2.8.2)\n",
            "Requirement already satisfied: pytz>=2017.3 in /usr/local/lib/python3.7/site-packages (from pandas->pandas_flavor->descriptastorus==2.3.0.5) (2021.3)\n",
            "Requirement already satisfied: numpy>=1.17.3 in /usr/local/lib/python3.7/site-packages (from pandas->pandas_flavor->descriptastorus==2.3.0.5) (1.21.5)\n",
            "Requirement already satisfied: six>=1.5 in /usr/local/lib/python3.7/site-packages (from python-dateutil>=2.7.3->pandas->pandas_flavor->descriptastorus==2.3.0.5) (1.15.0)\n",
            "Requirement already satisfied: typing-extensions>=3.7 in /usr/local/lib/python3.7/site-packages (from xarray->pandas_flavor->descriptastorus==2.3.0.5) (4.1.0)\n",
            "Requirement already satisfied: importlib-metadata in /usr/local/lib/python3.7/site-packages (from xarray->pandas_flavor->descriptastorus==2.3.0.5) (4.11.0)\n",
            "Requirement already satisfied: zipp>=0.5 in /usr/local/lib/python3.7/site-packages (from importlib-metadata->xarray->pandas_flavor->descriptastorus==2.3.0.5) (3.7.0)\n",
            "Requirement already satisfied: DeepPurpose in /usr/local/lib/python3.7/site-packages (0.1.5)\n",
            "Requirement already satisfied: prody in /usr/local/lib/python3.7/site-packages (2.0.1)\n",
            "Requirement already satisfied: pandas in /usr/local/lib/python3.7/site-packages (from DeepPurpose) (1.3.5)\n",
            "Requirement already satisfied: prettytable in /usr/local/lib/python3.7/site-packages (from DeepPurpose) (3.1.0)\n",
            "Requirement already satisfied: subword-nmt in /usr/local/lib/python3.7/site-packages (from DeepPurpose) (0.3.8)\n",
            "Requirement already satisfied: numpy in /usr/local/lib/python3.7/site-packages (from DeepPurpose) (1.21.5)\n",
            "Requirement already satisfied: wget in /usr/local/lib/python3.7/site-packages (from DeepPurpose) (3.2)\n",
            "Requirement already satisfied: ax-platform in /usr/local/lib/python3.7/site-packages (from DeepPurpose) (0.2.3)\n",
            "Requirement already satisfied: lifelines in /usr/local/lib/python3.7/site-packages (from DeepPurpose) (0.26.4)\n",
            "Requirement already satisfied: tqdm in /usr/local/lib/python3.7/site-packages (from DeepPurpose) (4.59.0)\n",
            "Requirement already satisfied: requests in /usr/local/lib/python3.7/site-packages (from DeepPurpose) (2.25.1)\n",
            "Requirement already satisfied: torch in /usr/local/lib/python3.7/site-packages (from DeepPurpose) (1.9.0+cu111)\n",
            "Requirement already satisfied: tensorboard in /usr/local/lib/python3.7/site-packages (from DeepPurpose) (2.8.0)\n",
            "Requirement already satisfied: dgllife in /usr/local/lib/python3.7/site-packages (from DeepPurpose) (0.2.9)\n",
            "Requirement already satisfied: scikit-learn in /usr/local/lib/python3.7/site-packages (from DeepPurpose) (1.0.2)\n",
            "Requirement already satisfied: pandas-flavor in /usr/local/lib/python3.7/site-packages (from DeepPurpose) (0.2.0)\n",
            "Requirement already satisfied: matplotlib in /usr/local/lib/python3.7/site-packages (from DeepPurpose) (3.5.1)\n",
            "Requirement already satisfied: scipy in /usr/local/lib/python3.7/site-packages (from prody) (1.7.3)\n",
            "Requirement already satisfied: pyparsing in /usr/local/lib/python3.7/site-packages (from prody) (3.0.7)\n",
            "Requirement already satisfied: biopython in /usr/local/lib/python3.7/site-packages (from prody) (1.79)\n",
            "Requirement already satisfied: botorch==0.6.0 in /usr/local/lib/python3.7/site-packages (from ax-platform->DeepPurpose) (0.6.0)\n",
            "Requirement already satisfied: plotly in /usr/local/lib/python3.7/site-packages (from ax-platform->DeepPurpose) (5.6.0)\n",
            "Requirement already satisfied: jinja2 in /usr/local/lib/python3.7/site-packages (from ax-platform->DeepPurpose) (3.0.3)\n",
            "Requirement already satisfied: typeguard in /usr/local/lib/python3.7/site-packages (from ax-platform->DeepPurpose) (2.13.3)\n",
            "Requirement already satisfied: gpytorch>=1.6 in /usr/local/lib/python3.7/site-packages (from botorch==0.6.0->ax-platform->DeepPurpose) (1.6.0)\n",
            "Requirement already satisfied: typing-extensions in /usr/local/lib/python3.7/site-packages (from torch->DeepPurpose) (4.1.0)\n",
            "Requirement already satisfied: networkx>=2.1 in /usr/local/lib/python3.7/site-packages (from dgllife->DeepPurpose) (2.6.3)\n",
            "Requirement already satisfied: joblib in /usr/local/lib/python3.7/site-packages (from dgllife->DeepPurpose) (1.1.0)\n",
            "Requirement already satisfied: hyperopt in /usr/local/lib/python3.7/site-packages (from dgllife->DeepPurpose) (0.2.7)\n",
            "Requirement already satisfied: idna<3,>=2.5 in /usr/local/lib/python3.7/site-packages (from requests->DeepPurpose) (2.10)\n",
            "Requirement already satisfied: certifi>=2017.4.17 in /usr/local/lib/python3.7/site-packages (from requests->DeepPurpose) (2021.10.8)\n",
            "Requirement already satisfied: urllib3<1.27,>=1.21.1 in /usr/local/lib/python3.7/site-packages (from requests->DeepPurpose) (1.26.3)\n",
            "Requirement already satisfied: chardet<5,>=3.0.2 in /usr/local/lib/python3.7/site-packages (from requests->DeepPurpose) (4.0.0)\n",
            "Requirement already satisfied: threadpoolctl>=2.0.0 in /usr/local/lib/python3.7/site-packages (from scikit-learn->DeepPurpose) (3.1.0)\n",
            "Requirement already satisfied: six in /usr/local/lib/python3.7/site-packages (from hyperopt->dgllife->DeepPurpose) (1.15.0)\n",
            "Requirement already satisfied: py4j in /usr/local/lib/python3.7/site-packages (from hyperopt->dgllife->DeepPurpose) (0.10.9.3)\n",
            "Requirement already satisfied: future in /usr/local/lib/python3.7/site-packages (from hyperopt->dgllife->DeepPurpose) (0.18.2)\n",
            "Requirement already satisfied: cloudpickle in /usr/local/lib/python3.7/site-packages (from hyperopt->dgllife->DeepPurpose) (2.0.0)\n",
            "Requirement already satisfied: MarkupSafe>=2.0 in /usr/local/lib/python3.7/site-packages (from jinja2->ax-platform->DeepPurpose) (2.0.1)\n",
            "Requirement already satisfied: autograd>=1.3 in /usr/local/lib/python3.7/site-packages (from lifelines->DeepPurpose) (1.3)\n",
            "Requirement already satisfied: formulaic<0.3,>=0.2.2 in /usr/local/lib/python3.7/site-packages (from lifelines->DeepPurpose) (0.2.4)\n",
            "Requirement already satisfied: autograd-gamma>=0.3 in /usr/local/lib/python3.7/site-packages (from lifelines->DeepPurpose) (0.5.0)\n",
            "Requirement already satisfied: astor in /usr/local/lib/python3.7/site-packages (from formulaic<0.3,>=0.2.2->lifelines->DeepPurpose) (0.8.1)\n",
            "Requirement already satisfied: wrapt in /usr/local/lib/python3.7/site-packages (from formulaic<0.3,>=0.2.2->lifelines->DeepPurpose) (1.13.3)\n",
            "Requirement already satisfied: interface-meta>=1.2 in /usr/local/lib/python3.7/site-packages (from formulaic<0.3,>=0.2.2->lifelines->DeepPurpose) (1.2.4)\n",
            "Requirement already satisfied: packaging>=20.0 in /usr/local/lib/python3.7/site-packages (from matplotlib->DeepPurpose) (21.3)\n",
            "Requirement already satisfied: python-dateutil>=2.7 in /usr/local/lib/python3.7/site-packages (from matplotlib->DeepPurpose) (2.8.2)\n",
            "Requirement already satisfied: cycler>=0.10 in /usr/local/lib/python3.7/site-packages (from matplotlib->DeepPurpose) (0.11.0)\n",
            "Requirement already satisfied: pillow>=6.2.0 in /usr/local/lib/python3.7/site-packages (from matplotlib->DeepPurpose) (9.0.1)\n",
            "Requirement already satisfied: fonttools>=4.22.0 in /usr/local/lib/python3.7/site-packages (from matplotlib->DeepPurpose) (4.29.1)\n",
            "Requirement already satisfied: kiwisolver>=1.0.1 in /usr/local/lib/python3.7/site-packages (from matplotlib->DeepPurpose) (1.3.2)\n",
            "Requirement already satisfied: pytz>=2017.3 in /usr/local/lib/python3.7/site-packages (from pandas->DeepPurpose) (2021.3)\n",
            "Requirement already satisfied: xarray in /usr/local/lib/python3.7/site-packages (from pandas-flavor->DeepPurpose) (0.20.2)\n",
            "Requirement already satisfied: tenacity>=6.2.0 in /usr/local/lib/python3.7/site-packages (from plotly->ax-platform->DeepPurpose) (8.0.1)\n",
            "Requirement already satisfied: wcwidth in /usr/local/lib/python3.7/site-packages (from prettytable->DeepPurpose) (0.2.5)\n",
            "Requirement already satisfied: importlib-metadata in /usr/local/lib/python3.7/site-packages (from prettytable->DeepPurpose) (4.11.0)\n",
            "Requirement already satisfied: zipp>=0.5 in /usr/local/lib/python3.7/site-packages (from importlib-metadata->prettytable->DeepPurpose) (3.7.0)\n",
            "Requirement already satisfied: mock in /usr/local/lib/python3.7/site-packages (from subword-nmt->DeepPurpose) (4.0.3)\n",
            "Requirement already satisfied: google-auth-oauthlib<0.5,>=0.4.1 in /usr/local/lib/python3.7/site-packages (from tensorboard->DeepPurpose) (0.4.6)\n",
            "Requirement already satisfied: google-auth<3,>=1.6.3 in /usr/local/lib/python3.7/site-packages (from tensorboard->DeepPurpose) (2.6.0)\n",
            "Requirement already satisfied: tensorboard-plugin-wit>=1.6.0 in /usr/local/lib/python3.7/site-packages (from tensorboard->DeepPurpose) (1.8.1)\n",
            "Requirement already satisfied: werkzeug>=0.11.15 in /usr/local/lib/python3.7/site-packages (from tensorboard->DeepPurpose) (2.0.3)\n",
            "Requirement already satisfied: protobuf>=3.6.0 in /usr/local/lib/python3.7/site-packages (from tensorboard->DeepPurpose) (3.19.4)\n",
            "Requirement already satisfied: grpcio>=1.24.3 in /usr/local/lib/python3.7/site-packages (from tensorboard->DeepPurpose) (1.43.0)\n",
            "Requirement already satisfied: tensorboard-data-server<0.7.0,>=0.6.0 in /usr/local/lib/python3.7/site-packages (from tensorboard->DeepPurpose) (0.6.1)\n",
            "Requirement already satisfied: wheel>=0.26 in /usr/local/lib/python3.7/site-packages (from tensorboard->DeepPurpose) (0.36.2)\n",
            "Requirement already satisfied: absl-py>=0.4 in /usr/local/lib/python3.7/site-packages (from tensorboard->DeepPurpose) (1.0.0)\n",
            "Requirement already satisfied: setuptools>=41.0.0 in /usr/local/lib/python3.7/site-packages (from tensorboard->DeepPurpose) (49.6.0.post20210108)\n",
            "Requirement already satisfied: markdown>=2.6.8 in /usr/local/lib/python3.7/site-packages (from tensorboard->DeepPurpose) (3.3.6)\n",
            "Requirement already satisfied: cachetools<6.0,>=2.0.0 in /usr/local/lib/python3.7/site-packages (from google-auth<3,>=1.6.3->tensorboard->DeepPurpose) (5.0.0)\n",
            "Requirement already satisfied: pyasn1-modules>=0.2.1 in /usr/local/lib/python3.7/site-packages (from google-auth<3,>=1.6.3->tensorboard->DeepPurpose) (0.2.8)\n",
            "Requirement already satisfied: rsa<5,>=3.1.4 in /usr/local/lib/python3.7/site-packages (from google-auth<3,>=1.6.3->tensorboard->DeepPurpose) (4.8)\n",
            "Requirement already satisfied: requests-oauthlib>=0.7.0 in /usr/local/lib/python3.7/site-packages (from google-auth-oauthlib<0.5,>=0.4.1->tensorboard->DeepPurpose) (1.3.1)\n",
            "Requirement already satisfied: pyasn1<0.5.0,>=0.4.6 in /usr/local/lib/python3.7/site-packages (from pyasn1-modules>=0.2.1->google-auth<3,>=1.6.3->tensorboard->DeepPurpose) (0.4.8)\n",
            "Requirement already satisfied: oauthlib>=3.0.0 in /usr/local/lib/python3.7/site-packages (from requests-oauthlib>=0.7.0->google-auth-oauthlib<0.5,>=0.4.1->tensorboard->DeepPurpose) (3.2.0)\n"
          ]
        }
      ]
    },
    {
      "cell_type": "code",
      "source": [
        "!python -V\n"
      ],
      "metadata": {
        "colab": {
          "base_uri": "https://localhost:8080/"
        },
        "id": "WiFTTlojwWmd",
        "outputId": "aaee5dce-8287-4ba6-dfdf-259cb9533999"
      },
      "execution_count": 5,
      "outputs": [
        {
          "output_type": "stream",
          "name": "stdout",
          "text": [
            "Python 3.7.10\n"
          ]
        }
      ]
    },
    {
      "cell_type": "code",
      "execution_count": 6,
      "metadata": {
        "id": "ER9OdUIDnYUQ",
        "colab": {
          "base_uri": "https://localhost:8080/"
        },
        "outputId": "9a43dacd-34da-4511-c1b4-c2d04472bcd4"
      },
      "outputs": [
        {
          "output_type": "stream",
          "name": "stderr",
          "text": [
            "WARNING:root:No normalization for BCUT2D_MWHI\n",
            "WARNING:root:No normalization for BCUT2D_MWLOW\n",
            "WARNING:root:No normalization for BCUT2D_CHGHI\n",
            "WARNING:root:No normalization for BCUT2D_CHGLO\n",
            "WARNING:root:No normalization for BCUT2D_LOGPHI\n",
            "WARNING:root:No normalization for BCUT2D_LOGPLOW\n",
            "WARNING:root:No normalization for BCUT2D_MRHI\n",
            "WARNING:root:No normalization for BCUT2D_MRLOW\n"
          ]
        }
      ],
      "source": [
        "import warnings\n",
        "warnings.filterwarnings(\"ignore\")\n",
        "from pathlib import Path\n",
        "import pandas as pd\n",
        "from DeepPurpose import DTI as models\n",
        "from DeepPurpose.utils import *\n",
        "from DeepPurpose.dataset import *\n"
      ]
    },
    {
      "cell_type": "code",
      "source": [
        "#!wget https://drive.google.com/file/d/1qnvNxd6SvhwHPxD0huTpmODB270ENs7j/view?usp=sharing -O data.tar.gz\n"
      ],
      "metadata": {
        "id": "q51U41Bv0xom"
      },
      "execution_count": 7,
      "outputs": []
    },
    {
      "cell_type": "code",
      "source": [
        "import numpy as np\n",
        "import random\n",
        "import torch\n",
        "\n",
        "def seed_everything(seed=42):\n",
        "    np.random.seed(seed)\n",
        "    random.seed(seed)\n",
        "    torch.manual_seed(seed)\n",
        "    pass"
      ],
      "metadata": {
        "id": "nQ7iRs5d-nTC"
      },
      "execution_count": 8,
      "outputs": []
    },
    {
      "cell_type": "code",
      "execution_count": 9,
      "metadata": {
        "id": "lCtsg6uPnYUR"
      },
      "outputs": [],
      "source": [
        "# Cell with constants\n",
        "DATADIR = Path(\"data\")\n",
        "if not DATADIR.exists():\n",
        "  # DATADIR.mkdir(DATADIR)\n",
        "  !gdown --id 1qnvNxd6SvhwHPxD0huTpmODB270ENs7j\n",
        "  !tar -xzvf inhibitors_data.tar.gz\n",
        "\n",
        "RANDOM_SEED = 2407\n",
        "seed_everything(RANDOM_SEED)\n",
        "TMP_DIR = Path(\"tmp\")\n",
        "TMP_DIR.mkdir(exist_ok=True)\n",
        "\n",
        "train_df = pd.read_csv(DATADIR / \"train.csv\", index_col=0)\n",
        "test_df = pd.read_csv(DATADIR / \"test.csv\", index_col=0)\n",
        "\n",
        "MODEL_NAME = 'Daylight_AAC_BindingDB'  # 'Morgan_AAC_BindingDB'"
      ]
    },
    {
      "cell_type": "code",
      "source": [
        "!ls"
      ],
      "metadata": {
        "colab": {
          "base_uri": "https://localhost:8080/"
        },
        "id": "rnZp5rQ21mAn",
        "outputId": "a04cda7c-cfcf-4e8f-ca51-0d19f9fb7c1b"
      },
      "execution_count": 10,
      "outputs": [
        {
          "output_type": "stream",
          "name": "stdout",
          "text": [
            " condacolab_install.log   result        submission_deeppurpose_v0.csv\n",
            " data\t\t\t  runs\t        tmp\n",
            " data.tar.gz\t\t  sample_data  'view?usp=sharing'\n",
            " inhibitors_data.tar.gz   save_folder   workdir\n"
          ]
        }
      ]
    },
    {
      "cell_type": "code",
      "execution_count": 11,
      "metadata": {
        "id": "YvnlG3VfnYUR",
        "outputId": "812082d7-4ff0-45fe-c911-a771763154de",
        "colab": {
          "base_uri": "https://localhost:8080/",
          "height": 90
        }
      },
      "outputs": [
        {
          "output_type": "stream",
          "name": "stderr",
          "text": [
            "@> 2874 atoms and 1 coordinate set(s) were parsed in 0.04s.\n",
            "DEBUG:.prody:2874 atoms and 1 coordinate set(s) were parsed in 0.04s.\n"
          ]
        },
        {
          "output_type": "execute_result",
          "data": {
            "application/vnd.google.colaboratory.intrinsic+json": {
              "type": "string"
            },
            "text/plain": [
              "'EVNSFSGYLKLTDNVYIKNADIVEEAKKVKPTVVVNAANVYLKHGGGVAGALNKATNNAMQVESDDYIATNGPLKVGGSCVLSGHNLAKHCLHVVGPNVNKGEDIQLLKSAYENFNQHEVLLAPLLSAGIFGADPIHSLRVCVDTVRTNVYLAVFDKNLYDKLVSSFLE'"
            ]
          },
          "metadata": {},
          "execution_count": 11
        }
      ],
      "source": [
        "from prody import parsePDB\n",
        "structure = parsePDB((DATADIR / 'target.pdb').as_posix(), debug=False)\n",
        "#[x.name for x in structure.get_atoms() if not x.is_disordered()]\n",
        "# [x.get_resname() for x in structure.get_residues()]\n",
        "#structure.getSequence(), structure.getResnums(), [a for a in structure.iterAtoms()]\n",
        "list(structure.iterChains())\n",
        "calphas = structure.chain_A_and_calpha\n",
        "sequence = calphas.getSequence()\n",
        "sequence"
      ]
    },
    {
      "cell_type": "code",
      "execution_count": 12,
      "metadata": {
        "id": "Vg-ut4yZnYUT"
      },
      "outputs": [],
      "source": [
        "def balance_data(train_df, target_col=\"Label\"):\n",
        "    df = train_df[target_col].value_counts()\n",
        "    m = df.max()\n",
        "    new_index = []\n",
        "    for i, c in df.reset_index().values:\n",
        "        ids = train_df[target_col]==i\n",
        "        values = train_df[ids].index\n",
        "        if c == m:\n",
        "            new_index.extend(values)\n",
        "        else:\n",
        "            new_index.extend(np.random.choice(values, m))\n",
        "    np.random.shuffle(new_index)\n",
        "    return train_df.loc[new_index]"
      ]
    },
    {
      "cell_type": "code",
      "execution_count": 13,
      "metadata": {
        "id": "MU7L-hkEnYUU",
        "outputId": "d3408f18-cfb5-4762-ce3f-040ed74c2b40",
        "colab": {
          "base_uri": "https://localhost:8080/",
          "height": 1000
        }
      },
      "outputs": [
        {
          "output_type": "stream",
          "name": "stdout",
          "text": [
            "Drug Target Interaction Prediction Mode...\n",
            "in total: 5557 drug-target pairs\n",
            "encoding drug...\n",
            "unique drugs: 5557\n",
            "rdkit not found this smiles: [I-].[K+] convert to all 0 features\n",
            "encoding protein...\n",
            "unique target sequence: 1\n",
            "-- Encoding AAC takes time. Time Reference: 24s for ~100 sequences in a CPU.\t\t\t\t Calculate your time by the unique target sequence #, instead of the entire dataset.\n",
            "splitting dataset...\n",
            "Done.\n",
            "Dataset already downloaded in the local system...\n",
            "Let's use 1 GPU!\n",
            "--- Data Preparation ---\n",
            "--- Go for Training ---\n",
            "Training at Epoch 1 iteration 0 with loss 3.32781. Total time 0.0 hours\n",
            "Training at Epoch 1 iteration 100 with loss 0.39335. Total time 0.00083 hours\n",
            "Validation at Epoch 1, AUROC: 0.61335 , AUPRC: 0.07660 , F1: 0.12048 , Cross-entropy Loss: 9.06972\n",
            "Training at Epoch 2 iteration 0 with loss 0.18944. Total time 0.00111 hours\n",
            "Training at Epoch 2 iteration 100 with loss 0.02369. Total time 0.00194 hours\n",
            "Validation at Epoch 2, AUROC: 0.63101 , AUPRC: 0.08349 , F1: 0.09302 , Cross-entropy Loss: 4.84545\n",
            "Training at Epoch 3 iteration 0 with loss 0.01953. Total time 0.0025 hours\n",
            "Training at Epoch 3 iteration 100 with loss 0.03289. Total time 0.00305 hours\n",
            "Validation at Epoch 3, AUROC: 0.66613 , AUPRC: 0.09109 , F1: 0.13793 , Cross-entropy Loss: 3.10605\n",
            "Training at Epoch 4 iteration 0 with loss 0.02370. Total time 0.00361 hours\n",
            "Training at Epoch 4 iteration 100 with loss 0.00954. Total time 0.00416 hours\n",
            "Validation at Epoch 4, AUROC: 0.65046 , AUPRC: 0.10412 , F1: 0.125 , Cross-entropy Loss: 2.60907\n",
            "Training at Epoch 5 iteration 0 with loss 0.08185. Total time 0.00472 hours\n",
            "Training at Epoch 5 iteration 100 with loss 0.01720. Total time 0.00555 hours\n",
            "Validation at Epoch 5, AUROC: 0.65776 , AUPRC: 0.09805 , F1: 0.14285 , Cross-entropy Loss: 2.23634\n",
            "Training at Epoch 6 iteration 0 with loss 0.03964. Total time 0.00583 hours\n",
            "Training at Epoch 6 iteration 100 with loss 0.01446. Total time 0.00666 hours\n",
            "Validation at Epoch 6, AUROC: 0.64477 , AUPRC: 0.10418 , F1: 0.18181 , Cross-entropy Loss: 2.23635\n",
            "Training at Epoch 7 iteration 0 with loss 0.03954. Total time 0.00694 hours\n",
            "Training at Epoch 7 iteration 100 with loss 0.03857. Total time 0.00777 hours\n",
            "Validation at Epoch 7, AUROC: 0.60071 , AUPRC: 0.09007 , F1: 0.14285 , Cross-entropy Loss: 2.98180\n",
            "Training at Epoch 8 iteration 0 with loss 0.00414. Total time 0.00833 hours\n",
            "Training at Epoch 8 iteration 100 with loss 0.04269. Total time 0.00888 hours\n",
            "Validation at Epoch 8, AUROC: 0.63355 , AUPRC: 0.17800 , F1: 0.18604 , Cross-entropy Loss: 2.17422\n",
            "Training at Epoch 9 iteration 0 with loss 0.06554. Total time 0.00944 hours\n",
            "Training at Epoch 9 iteration 100 with loss 0.00162. Total time 0.01 hours\n",
            "Validation at Epoch 9, AUROC: 0.57881 , AUPRC: 0.14203 , F1: 0.16393 , Cross-entropy Loss: 3.16817\n",
            "Training at Epoch 10 iteration 0 with loss 0.00628. Total time 0.01055 hours\n",
            "Training at Epoch 10 iteration 100 with loss 0.00112. Total time 0.01138 hours\n",
            "Validation at Epoch 10, AUROC: 0.60987 , AUPRC: 0.15826 , F1: 0.22857 , Cross-entropy Loss: 1.67725\n",
            "Training at Epoch 11 iteration 0 with loss 0.01263. Total time 0.01166 hours\n",
            "Training at Epoch 11 iteration 100 with loss 0.00034. Total time 0.0125 hours\n",
            "Validation at Epoch 11, AUROC: 0.64761 , AUPRC: 0.13231 , F1: 0.21052 , Cross-entropy Loss: 1.86362\n",
            "Training at Epoch 12 iteration 0 with loss 0.02345. Total time 0.01277 hours\n",
            "Training at Epoch 12 iteration 100 with loss 0.00320. Total time 0.01361 hours\n",
            "Validation at Epoch 12, AUROC: 0.62309 , AUPRC: 0.12514 , F1: 0.16326 , Cross-entropy Loss: 2.54695\n",
            "Training at Epoch 13 iteration 0 with loss 4.39672. Total time 0.01416 hours\n",
            "Training at Epoch 13 iteration 100 with loss 0.00153. Total time 0.01472 hours\n",
            "Validation at Epoch 13, AUROC: 0.62394 , AUPRC: 0.13449 , F1: 0.15789 , Cross-entropy Loss: 1.98786\n",
            "Training at Epoch 14 iteration 0 with loss 0.00324. Total time 0.01527 hours\n",
            "Training at Epoch 14 iteration 100 with loss 8.07566. Total time 0.01583 hours\n",
            "Validation at Epoch 14, AUROC: 0.64370 , AUPRC: 0.10985 , F1: 0.15686 , Cross-entropy Loss: 2.67120\n",
            "Training at Epoch 15 iteration 0 with loss 0.12721. Total time 0.01638 hours\n",
            "Training at Epoch 15 iteration 100 with loss 0.00355. Total time 0.01722 hours\n",
            "Validation at Epoch 15, AUROC: 0.64655 , AUPRC: 0.12846 , F1: 0.19512 , Cross-entropy Loss: 2.04998\n",
            "Training at Epoch 16 iteration 0 with loss 0.00072. Total time 0.0175 hours\n",
            "Training at Epoch 16 iteration 100 with loss 0.00047. Total time 0.01833 hours\n",
            "Validation at Epoch 16, AUROC: 0.64712 , AUPRC: 0.14856 , F1: 0.14084 , Cross-entropy Loss: 3.78939\n",
            "Training at Epoch 17 iteration 0 with loss 0.00080. Total time 0.01861 hours\n",
            "Training at Epoch 17 iteration 100 with loss 0.05139. Total time 0.01944 hours\n",
            "Validation at Epoch 17, AUROC: 0.60649 , AUPRC: 0.13558 , F1: 0.13559 , Cross-entropy Loss: 3.16817\n",
            "Training at Epoch 18 iteration 0 with loss 0.02941. Total time 0.01972 hours\n",
            "Training at Epoch 18 iteration 100 with loss 0.05322. Total time 0.02055 hours\n",
            "Validation at Epoch 18, AUROC: 0.65322 , AUPRC: 0.18260 , F1: 0.15789 , Cross-entropy Loss: 1.98786\n",
            "Training at Epoch 19 iteration 0 with loss 0.00912. Total time 0.02111 hours\n",
            "Training at Epoch 19 iteration 100 with loss 0.00162. Total time 0.02166 hours\n",
            "Validation at Epoch 19, AUROC: 0.65740 , AUPRC: 0.15119 , F1: 0.19047 , Cross-entropy Loss: 2.11210\n",
            "Training at Epoch 20 iteration 0 with loss 0.00013. Total time 0.02222 hours\n",
            "Training at Epoch 20 iteration 100 with loss 0.00039. Total time 0.02305 hours\n",
            "Validation at Epoch 20, AUROC: 0.65852 , AUPRC: 0.14490 , F1: 0.2 , Cross-entropy Loss: 1.98786\n",
            "Training at Epoch 21 iteration 0 with loss 0.00069. Total time 0.02333 hours\n",
            "Training at Epoch 21 iteration 100 with loss 0.00089. Total time 0.02416 hours\n",
            "Validation at Epoch 21, AUROC: 0.66537 , AUPRC: 0.13624 , F1: 0.2 , Cross-entropy Loss: 1.98786\n",
            "Training at Epoch 22 iteration 0 with loss 0.00131. Total time 0.02444 hours\n",
            "Training at Epoch 22 iteration 100 with loss 0.00111. Total time 0.02527 hours\n",
            "Validation at Epoch 22, AUROC: 0.66617 , AUPRC: 0.08817 , F1: 0.10344 , Cross-entropy Loss: 3.23029\n",
            "Training at Epoch 23 iteration 0 with loss 0.14213. Total time 0.02555 hours\n",
            "Training at Epoch 23 iteration 100 with loss 0.01939. Total time 0.02638 hours\n",
            "Validation at Epoch 23, AUROC: 0.62705 , AUPRC: 0.07650 , F1: 0.13793 , Cross-entropy Loss: 3.10605\n",
            "Training at Epoch 24 iteration 0 with loss 0.02897. Total time 0.02694 hours\n",
            "Training at Epoch 24 iteration 100 with loss 0.23348. Total time 0.0275 hours\n",
            "Validation at Epoch 24, AUROC: 0.71401 , AUPRC: 0.11752 , F1: 0.0 , Cross-entropy Loss: 1.73937\n",
            "Training at Epoch 25 iteration 0 with loss 0.15237. Total time 0.02805 hours\n",
            "Training at Epoch 25 iteration 100 with loss 0.00042. Total time 0.02888 hours\n",
            "Validation at Epoch 25, AUROC: 0.59626 , AUPRC: 0.06401 , F1: 0.09448 , Cross-entropy Loss: 7.14395\n",
            "Training at Epoch 26 iteration 0 with loss 0.09955. Total time 0.02916 hours\n",
            "Training at Epoch 26 iteration 100 with loss 0.00204. Total time 0.03 hours\n",
            "Validation at Epoch 26, AUROC: 0.65282 , AUPRC: 0.12515 , F1: 0.23529 , Cross-entropy Loss: 1.61513\n",
            "Training at Epoch 27 iteration 0 with loss 2.94416. Total time 0.03027 hours\n",
            "Training at Epoch 27 iteration 100 with loss 0.00226. Total time 0.03111 hours\n",
            "Validation at Epoch 27, AUROC: 0.66577 , AUPRC: 0.13265 , F1: 0.23529 , Cross-entropy Loss: 1.61513\n",
            "Training at Epoch 28 iteration 0 with loss 0.00153. Total time 0.03138 hours\n",
            "Training at Epoch 28 iteration 100 with loss 0.00031. Total time 0.03222 hours\n",
            "Validation at Epoch 28, AUROC: 0.63097 , AUPRC: 0.09741 , F1: 0.13559 , Cross-entropy Loss: 3.16817\n",
            "Training at Epoch 29 iteration 0 with loss 8.17936. Total time 0.03277 hours\n",
            "Training at Epoch 29 iteration 100 with loss 0.00229. Total time 0.03333 hours\n",
            "Validation at Epoch 29, AUROC: 0.64481 , AUPRC: 0.11693 , F1: 0.20512 , Cross-entropy Loss: 1.92574\n",
            "Training at Epoch 30 iteration 0 with loss 0.00316. Total time 0.03388 hours\n",
            "Training at Epoch 30 iteration 100 with loss 5.47037. Total time 0.03444 hours\n",
            "Validation at Epoch 30, AUROC: 0.60907 , AUPRC: 0.10650 , F1: 0.13793 , Cross-entropy Loss: 3.10605\n",
            "--- Training Finished ---\n"
          ]
        },
        {
          "output_type": "display_data",
          "data": {
            "image/png": "[encoded data removed]",
            "text/plain": [
              "<Figure size 432x288 with 1 Axes>"
            ]
          },
          "metadata": {
            "needs_background": "light"
          }
        }
      ],
      "source": [
        "\n",
        "# Load Data, an array of SMILES for drug, an array of Amino Acid Sequence for Target and an array of binding values/0-1 label.\n",
        "# e.g. ['Cc1ccc(CNS(=O)(=O)c2ccc(s2)S(N)(=O)=O)cc1', ...], ['MSHHWGYGKHNGPEHWHKDFPIAKGERQSPVDIDTH...', ...], [0.46, 0.49, ...]\n",
        "# In this example, BindingDB with Kd binding score is used.\n",
        "# X_drug, X_target, y  = process_BindingDB(download_BindingDB(SAVE_PATH),\n",
        "# \t\t\t\t\t y = 'Kd', \n",
        "# \t\t\t\t\t binary = False, \n",
        "# \t\t\t\t\t convert_to_log = True)\n",
        "\n",
        "X_drug = list(train_df.Smiles.values)\n",
        "X_target = [sequence] *train_df.shape[0]\n",
        "y = train_df.Active.values*1\n",
        "# Type in the encoding names for drug/protein.\n",
        "drug_encoding, target_encoding = 'Daylight', 'AAC'\n",
        "\n",
        "# Data processing, here we select cold protein split setup.\n",
        "train, val, test = data_process(\n",
        "    X_drug, X_target, y, \n",
        "    drug_encoding, target_encoding, \n",
        "    split_method='random', \n",
        "    frac=[0.9, 0.1, 0.0],\n",
        "    random_seed=RANDOM_SEED\n",
        ")\n",
        "train_balanced = balance_data(train)\n",
        "\n",
        "net = models.model_pretrained(model=MODEL_NAME, path_dir=TMP_DIR, )\n",
        "net.config['train_epoch'] = 15*2\n",
        "net.config['batch_size'] = 64\n",
        "net.train(train_balanced, val)\n"
      ]
    },
    {
      "cell_type": "code",
      "execution_count": 14,
      "metadata": {
        "id": "VqRFo-2rnYUV",
        "outputId": "948e37c1-069b-4529-da24-fc7c159958ad",
        "colab": {
          "base_uri": "https://localhost:8080/",
          "height": 54
        }
      },
      "outputs": [
        {
          "output_type": "execute_result",
          "data": {
            "application/vnd.google.colaboratory.intrinsic+json": {
              "type": "string"
            },
            "text/plain": [
              "'EVNSFSGYLKLTDNVYIKNADIVEEAKKVKPTVVVNAANVYLKHGGGVAGALNKATNNAMQVESDDYIATNGPLKVGGSCVLSGHNLAKHCLHVVGPNVNKGEDIQLLKSAYENFNQHEVLLAPLLSAGIFGADPIHSLRVCVDTVRTNVYLAVFDKNLYDKLVSSFLE'"
            ]
          },
          "metadata": {},
          "execution_count": 14
        }
      ],
      "source": [
        "sequence"
      ]
    },
    {
      "cell_type": "code",
      "execution_count": 15,
      "metadata": {
        "id": "PdP6tIINnYUV",
        "outputId": "d9c1fae9-5217-4073-c0b6-2d1ee98819d0",
        "colab": {
          "base_uri": "https://localhost:8080/"
        }
      },
      "outputs": [
        {
          "output_type": "stream",
          "name": "stdout",
          "text": [
            "Drug Target Interaction Prediction Mode...\n",
            "in total: 1614 drug-target pairs\n",
            "encoding drug...\n",
            "unique drugs: 1614\n",
            "encoding protein...\n",
            "unique target sequence: 1\n",
            "-- Encoding AAC takes time. Time Reference: 24s for ~100 sequences in a CPU.\t\t\t\t Calculate your time by the unique target sequence #, instead of the entire dataset.\n",
            "splitting dataset...\n",
            "do not do train/test split on the data for already splitted data\n",
            "predicting...\n"
          ]
        }
      ],
      "source": [
        "X_drug = test_df.Smiles.values  # ['CC1=C2C=C(C=CC2=NN1)C3=CC(=CN=C3)OCC(CC4=CC=CC=C4)N']\n",
        "X_target = [sequence]*len(X_drug) # ['MKKFFDSRREQGGSGLGSGSSGGGGSTSGLGSGYIGRVFGIGRQQVTVDEVLAEGGFAIVFLVRTSNGMKCALKRMFVNNEHDLQVCKREIQIMRDLSGHKNIVGYIDSSINNVSSGDVWEVLILMDFCRGGQVVNLMNQRLQTGFTENEVLQIFCDTCEAVARLHQCKTPIIHRDLKVENILLHDRGHYVLCDFGSATNKFQNPQTEGVNAVEDEIKKYTTLSYRAPEMVNLYSGKIITTKADIWALGCLLYKLCYFTLPFGESQVAICDGNFTIPDNSRYSQDMHCLIRYMLEPDPDKRPDIYQVSYFSFKLLKKECPIPNVQNSPIPAKLPEPVKASEAAAKKTQPKARLTDPIPTTETSIAPRQRPKAGQTQPNPGILPIQPALTPRKRATVQPPPQAAGSSNQPGLLASVPQPKPQAPPSQPLPQTQAKQPQAPPTPQQTPSTQAQGLPAQAQATPQHQQQLFLKQQQQQQQPPPAQQQPAGTFYQQQQAQTQQFQAVHPATQKPAIAQFPVVSQGGSQQQLMQNFYQQQQQQQQQQQQQQLATALHQQQLMTQQAALQQKPTMAAGQQPQPQPAAAPQPAPAQEPAIQAPVRQQPKVQTTPPPAVQGQKVGSLTPPSSPKTQRAGHRRILSDVTHSAVFGVPASKSTQLLQAAAAEASLNKSKSATTTPSGSPRTSQQNVYNPSEGSTWNPFDDDNFSKLTAEELLNKDFAKLGEGKHPEKLGGSAESLIPGFQSTQGDAFATTSFSAGTAEKRKGGQTVDSGLPLLSVSDPFIPLQVPDAPEKLIEGLKSPDTSLLLPDLLPMTDPFGSTSDAVIEKADVAVESLIPGLEPPVPQRLPSQTESVTSNRTDSLTGEDSLLDCSLLSNPTTDLLEEFAPTAISAPVHKAAEDSNLISGFDVPEGSDKVAEDEFDPIPVLITKNPQGGHSRNSSGSSESSLPNLARSLLLVDQLIDL']\n",
        "y = [0.5]*len(X_drug)\n",
        "# from DeepPurpose import utils\n",
        "X_pred = data_process(\n",
        "    X_drug, X_target, y, \n",
        "    drug_encoding, target_encoding, \n",
        "    split_method='no_split')\n",
        "y_pred = net.predict(X_pred, )"
      ]
    },
    {
      "cell_type": "code",
      "execution_count": 16,
      "metadata": {
        "id": "dDfUuW_SnYUW"
      },
      "outputs": [],
      "source": [
        "# todo: add cv\n",
        "y_pred = np.asarray(y_pred)"
      ]
    },
    {
      "cell_type": "code",
      "execution_count": 17,
      "metadata": {
        "id": "3hsxkfF7nYUW",
        "colab": {
          "base_uri": "https://localhost:8080/"
        },
        "outputId": "941ac989-c115-4cf6-819a-c0d8699a4b08"
      },
      "outputs": [
        {
          "output_type": "execute_result",
          "data": {
            "text/plain": [
              "89"
            ]
          },
          "metadata": {},
          "execution_count": 17
        }
      ],
      "source": [
        "np.sum([y > 0.02 for y in y_pred])"
      ]
    },
    {
      "cell_type": "code",
      "source": [
        "top_k = 60\n",
        "threshold = y_pred[np.argsort(y_pred)[-top_k]]\n",
        "test_df['Active'] = y_pred >= threshold"
      ],
      "metadata": {
        "id": "w2kHMXenH2ZP"
      },
      "execution_count": 18,
      "outputs": []
    },
    {
      "cell_type": "code",
      "source": [
        "SUBMISSION_NAME = \"submission_deeppurpose_v0.csv\"\n",
        "test_df.to_csv(SUBMISSION_NAME)"
      ],
      "metadata": {
        "id": "4BHOHvo8ITQq"
      },
      "execution_count": 19,
      "outputs": []
    },
    {
      "cell_type": "code",
      "source": [
        "from google.colab import files\n",
        "files.download(SUBMISSION_NAME) "
      ],
      "metadata": {
        "colab": {
          "base_uri": "https://localhost:8080/",
          "height": 17
        },
        "id": "M2ZjVDZyJWYT",
        "outputId": "7371e88b-1dd4-4f0b-d5e1-f2cc0e97b726"
      },
      "execution_count": 20,
      "outputs": [
        {
          "output_type": "display_data",
          "data": {
            "application/javascript": [
              "\n",
              "    async function download(id, filename, size) {\n",
              "      if (!google.colab.kernel.accessAllowed) {\n",
              "        return;\n",
              "      }\n",
              "      const div = document.createElement('div');\n",
              "      const label = document.createElement('label');\n",
              "      label.textContent = `Downloading \"${filename}\": `;\n",
              "      div.appendChild(label);\n",
              "      const progress = document.createElement('progress');\n",
              "      progress.max = size;\n",
              "      div.appendChild(progress);\n",
              "      document.body.appendChild(div);\n",
              "\n",
              "      const buffers = [];\n",
              "      let downloaded = 0;\n",
              "\n",
              "      const channel = await google.colab.kernel.comms.open(id);\n",
              "      // Send a message to notify the kernel that we're ready.\n",
              "      channel.send({})\n",
              "\n",
              "      for await (const message of channel.messages) {\n",
              "        // Send a message to notify the kernel that we're ready.\n",
              "        channel.send({})\n",
              "        if (message.buffers) {\n",
              "          for (const buffer of message.buffers) {\n",
              "            buffers.push(buffer);\n",
              "            downloaded += buffer.byteLength;\n",
              "            progress.value = downloaded;\n",
              "          }\n",
              "        }\n",
              "      }\n",
              "      const blob = new Blob(buffers, {type: 'application/binary'});\n",
              "      const a = document.createElement('a');\n",
              "      a.href = window.URL.createObjectURL(blob);\n",
              "      a.download = filename;\n",
              "      div.appendChild(a);\n",
              "      a.click();\n",
              "      div.remove();\n",
              "    }\n",
              "  "
            ],
            "text/plain": [
              "<IPython.core.display.Javascript object>"
            ]
          },
          "metadata": {}
        },
        {
          "output_type": "display_data",
          "data": {
            "application/javascript": [
              "download(\"download_07c375fc-f11f-44bb-bc76-cc090290088e\", \"submission_deeppurpose_v0.csv\", 102249)"
            ],
            "text/plain": [
              "<IPython.core.display.Javascript object>"
            ]
          },
          "metadata": {}
        }
      ]
    },
    {
      "cell_type": "code",
      "source": [
        ""
      ],
      "metadata": {
        "id": "pafrNnh7JwJd"
      },
      "execution_count": 20,
      "outputs": []
    }
  ],
  "metadata": {
    "interpreter": {
      "hash": "d632e93423067b2b9b1b8d52846f85c868da433699adad534ad2cc6673775271"
    },
    "kernelspec": {
      "display_name": "Python 3.7.12 ('data_env')",
      "language": "python",
      "name": "python3"
    },
    "language_info": {
      "codemirror_mode": {
        "name": "ipython",
        "version": 3
      },
      "file_extension": ".py",
      "mimetype": "text/x-python",
      "name": "python",
      "nbconvert_exporter": "python",
      "pygments_lexer": "ipython3",
      "version": "3.7.12"
    },
    "orig_nbformat": 4,
    "colab": {
      "name": "deep_purpose_v0.ipynb",
      "provenance": [],
      "collapsed_sections": []
    },
    "accelerator": "GPU"
  },
  "nbformat": 4,
  "nbformat_minor": 0
}