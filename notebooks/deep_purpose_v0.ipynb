{
  "cells": [
    {
      "cell_type": "markdown",
      "metadata": {
        "id": "iX9M9IDWnYUN"
      },
      "source": [
        "https://github.com/kexinhuang12345/DeepPurpose\n"
      ]
    },
    {
      "cell_type": "code",
      "source": [
        "!pip install -q condacolab\n",
        "import condacolab\n",
        "condacolab.install()\n"
      ],
      "metadata": {
        "id": "X5NDzGgKoUJP",
        "outputId": "81456a97-09d2-4c0d-d621-9c9d930c49cd",
        "colab": {
          "base_uri": "https://localhost:8080/"
        }
      },
      "execution_count": 1,
      "outputs": [
        {
          "output_type": "stream",
          "name": "stdout",
          "text": [
            "✨🍰✨ Everything looks OK!\n"
          ]
        }
      ]
    },
    {
      "cell_type": "code",
      "source": [
        "!mamba install -c conda-forge -c rdkit rdkit notebook -y"
      ],
      "metadata": {
        "colab": {
          "base_uri": "https://localhost:8080/"
        },
        "id": "W4MGhHHFsHr1",
        "outputId": "a61faabf-25b8-4190-f729-ac5ae2087a24"
      },
      "execution_count": 2,
      "outputs": [
        {
          "output_type": "stream",
          "name": "stdout",
          "text": [
            "\n",
            "                  __    __    __    __\n",
            "                 /  \\  /  \\  /  \\  /  \\\n",
            "                /    \\/    \\/    \\/    \\\n",
            "███████████████/  /██/  /██/  /██/  /████████████████████████\n",
            "              /  / \\   / \\   / \\   / \\  \\____\n",
            "             /  /   \\_/   \\_/   \\_/   \\    o \\__,\n",
            "            / _/                       \\_____/  `\n",
            "            |/\n",
            "        ███╗   ███╗ █████╗ ███╗   ███╗██████╗  █████╗\n",
            "        ████╗ ████║██╔══██╗████╗ ████║██╔══██╗██╔══██╗\n",
            "        ██╔████╔██║███████║██╔████╔██║██████╔╝███████║\n",
            "        ██║╚██╔╝██║██╔══██║██║╚██╔╝██║██╔══██╗██╔══██║\n",
            "        ██║ ╚═╝ ██║██║  ██║██║ ╚═╝ ██║██████╔╝██║  ██║\n",
            "        ╚═╝     ╚═╝╚═╝  ╚═╝╚═╝     ╚═╝╚═════╝ ╚═╝  ╚═╝\n",
            "\n",
            "        Supported by @QuantStack\n",
            "\n",
            "        GitHub:  https://github.com/QuantStack/mamba\n",
            "        Twitter: https://twitter.com/QuantStack\n",
            "\n",
            "█████████████████████████████████████████████████████████████\n",
            "\n",
            "Getting  conda-forge linux-64\n",
            "Getting  conda-forge noarch\n",
            "Getting  rdkit linux-64\n",
            "Getting  rdkit noarch\n",
            "Getting  pkgs/main linux-64\n",
            "Getting  pkgs/main noarch\n",
            "Getting  pkgs/r linux-64\n",
            "Getting  pkgs/r noarch\n",
            "\n",
            "Looking for: ['rdkit', 'notebook', 'python 3.7.10']\n",
            "\n",
            "241485 packages in https://conda.anaconda.org/conda-forge/linux-64\n",
            "82245 packages in https://conda.anaconda.org/conda-forge/noarch\n",
            "225 packages in https://conda.anaconda.org/rdkit/linux-64\n",
            "1 packages in https://conda.anaconda.org/rdkit/noarch\n",
            "24489 packages in https://repo.anaconda.com/pkgs/main/linux-64\n",
            "4596 packages in https://repo.anaconda.com/pkgs/main/noarch\n",
            "6637 packages in https://repo.anaconda.com/pkgs/r/linux-64\n",
            "5025 packages in https://repo.anaconda.com/pkgs/r/noarch\n",
            "\n",
            "# All requested packages already installed.\n",
            "\n"
          ]
        }
      ]
    },
    {
      "cell_type": "code",
      "source": [
        "import os\n",
        "os.environ['CUDA_LAUNCH_BLOCKING'] = \"1\""
      ],
      "metadata": {
        "id": "UPq5mEKw6WvP"
      },
      "execution_count": 3,
      "outputs": []
    },
    {
      "cell_type": "code",
      "source": [
        "# !source activate DeepPurpose\n",
        "!pip install scikit-learn numpy pandas\n",
        "!pip install torch==1.9.0+cu111 torchvision==0.10.0+cu111 torchaudio==0.9.0 -f https://download.pytorch.org/whl/torch_stable.html\n",
        "!pip install git+https://github.com/bp-kelley/descriptastorus \n",
        "!pip install DeepPurpose prody"
      ],
      "metadata": {
        "id": "T8z6AxTQnev8",
        "outputId": "34a92ce5-4a79-47a7-a786-f6a1f3bff3cd",
        "colab": {
          "base_uri": "https://localhost:8080/"
        }
      },
      "execution_count": 4,
      "outputs": [
        {
          "output_type": "stream",
          "name": "stdout",
          "text": [
            "Requirement already satisfied: scikit-learn in /usr/local/lib/python3.7/site-packages (1.0.2)\n",
            "Requirement already satisfied: numpy in /usr/local/lib/python3.7/site-packages (1.21.5)\n",
            "Requirement already satisfied: pandas in /usr/local/lib/python3.7/site-packages (1.3.5)\n",
            "Requirement already satisfied: python-dateutil>=2.7.3 in /usr/local/lib/python3.7/site-packages (from pandas) (2.8.2)\n",
            "Requirement already satisfied: pytz>=2017.3 in /usr/local/lib/python3.7/site-packages (from pandas) (2021.3)\n",
            "Requirement already satisfied: six>=1.5 in /usr/local/lib/python3.7/site-packages (from python-dateutil>=2.7.3->pandas) (1.15.0)\n",
            "Requirement already satisfied: threadpoolctl>=2.0.0 in /usr/local/lib/python3.7/site-packages (from scikit-learn) (3.1.0)\n",
            "Requirement already satisfied: joblib>=0.11 in /usr/local/lib/python3.7/site-packages (from scikit-learn) (1.1.0)\n",
            "Requirement already satisfied: scipy>=1.1.0 in /usr/local/lib/python3.7/site-packages (from scikit-learn) (1.7.3)\n",
            "Looking in links: https://download.pytorch.org/whl/torch_stable.html\n",
            "Requirement already satisfied: torch==1.9.0+cu111 in /usr/local/lib/python3.7/site-packages (1.9.0+cu111)\n",
            "Requirement already satisfied: torchvision==0.10.0+cu111 in /usr/local/lib/python3.7/site-packages (0.10.0+cu111)\n",
            "Requirement already satisfied: torchaudio==0.9.0 in /usr/local/lib/python3.7/site-packages (0.9.0)\n",
            "Requirement already satisfied: typing-extensions in /usr/local/lib/python3.7/site-packages (from torch==1.9.0+cu111) (4.0.1)\n",
            "Requirement already satisfied: pillow>=5.3.0 in /usr/local/lib/python3.7/site-packages (from torchvision==0.10.0+cu111) (9.0.1)\n",
            "Requirement already satisfied: numpy in /usr/local/lib/python3.7/site-packages (from torchvision==0.10.0+cu111) (1.21.5)\n",
            "Collecting git+https://github.com/bp-kelley/descriptastorus\n",
            "  Cloning https://github.com/bp-kelley/descriptastorus to /tmp/pip-req-build-nb43k25h\n",
            "  Running command git clone -q https://github.com/bp-kelley/descriptastorus /tmp/pip-req-build-nb43k25h\n",
            "Requirement already satisfied: pandas_flavor in /usr/local/lib/python3.7/site-packages (from descriptastorus==2.3.0.5) (0.2.0)\n",
            "Requirement already satisfied: pandas in /usr/local/lib/python3.7/site-packages (from pandas_flavor->descriptastorus==2.3.0.5) (1.3.5)\n",
            "Requirement already satisfied: xarray in /usr/local/lib/python3.7/site-packages (from pandas_flavor->descriptastorus==2.3.0.5) (0.20.2)\n",
            "Requirement already satisfied: python-dateutil>=2.7.3 in /usr/local/lib/python3.7/site-packages (from pandas->pandas_flavor->descriptastorus==2.3.0.5) (2.8.2)\n",
            "Requirement already satisfied: pytz>=2017.3 in /usr/local/lib/python3.7/site-packages (from pandas->pandas_flavor->descriptastorus==2.3.0.5) (2021.3)\n",
            "Requirement already satisfied: numpy>=1.17.3 in /usr/local/lib/python3.7/site-packages (from pandas->pandas_flavor->descriptastorus==2.3.0.5) (1.21.5)\n",
            "Requirement already satisfied: six>=1.5 in /usr/local/lib/python3.7/site-packages (from python-dateutil>=2.7.3->pandas->pandas_flavor->descriptastorus==2.3.0.5) (1.15.0)\n",
            "Requirement already satisfied: typing-extensions>=3.7 in /usr/local/lib/python3.7/site-packages (from xarray->pandas_flavor->descriptastorus==2.3.0.5) (4.0.1)\n",
            "Requirement already satisfied: importlib-metadata in /usr/local/lib/python3.7/site-packages (from xarray->pandas_flavor->descriptastorus==2.3.0.5) (4.11.0)\n",
            "Requirement already satisfied: zipp>=0.5 in /usr/local/lib/python3.7/site-packages (from importlib-metadata->xarray->pandas_flavor->descriptastorus==2.3.0.5) (3.7.0)\n",
            "Requirement already satisfied: DeepPurpose in /usr/local/lib/python3.7/site-packages (0.1.5)\n",
            "Requirement already satisfied: prody in /usr/local/lib/python3.7/site-packages (2.0.1)\n",
            "Requirement already satisfied: lifelines in /usr/local/lib/python3.7/site-packages (from DeepPurpose) (0.26.4)\n",
            "Requirement already satisfied: numpy in /usr/local/lib/python3.7/site-packages (from DeepPurpose) (1.21.5)\n",
            "Requirement already satisfied: pandas-flavor in /usr/local/lib/python3.7/site-packages (from DeepPurpose) (0.2.0)\n",
            "Requirement already satisfied: scikit-learn in /usr/local/lib/python3.7/site-packages (from DeepPurpose) (1.0.2)\n",
            "Requirement already satisfied: requests in /usr/local/lib/python3.7/site-packages (from DeepPurpose) (2.25.1)\n",
            "Requirement already satisfied: tqdm in /usr/local/lib/python3.7/site-packages (from DeepPurpose) (4.59.0)\n",
            "Requirement already satisfied: tensorboard in /usr/local/lib/python3.7/site-packages (from DeepPurpose) (2.8.0)\n",
            "Requirement already satisfied: subword-nmt in /usr/local/lib/python3.7/site-packages (from DeepPurpose) (0.3.8)\n",
            "Requirement already satisfied: pandas in /usr/local/lib/python3.7/site-packages (from DeepPurpose) (1.3.5)\n",
            "Requirement already satisfied: prettytable in /usr/local/lib/python3.7/site-packages (from DeepPurpose) (3.1.0)\n",
            "Requirement already satisfied: torch in /usr/local/lib/python3.7/site-packages (from DeepPurpose) (1.9.0+cu111)\n",
            "Requirement already satisfied: wget in /usr/local/lib/python3.7/site-packages (from DeepPurpose) (3.2)\n",
            "Requirement already satisfied: matplotlib in /usr/local/lib/python3.7/site-packages (from DeepPurpose) (3.5.1)\n",
            "Requirement already satisfied: dgllife in /usr/local/lib/python3.7/site-packages (from DeepPurpose) (0.2.9)\n",
            "Requirement already satisfied: ax-platform in /usr/local/lib/python3.7/site-packages (from DeepPurpose) (0.2.3)\n",
            "Requirement already satisfied: pyparsing in /usr/local/lib/python3.7/site-packages (from prody) (3.0.7)\n",
            "Requirement already satisfied: scipy in /usr/local/lib/python3.7/site-packages (from prody) (1.7.3)\n",
            "Requirement already satisfied: biopython in /usr/local/lib/python3.7/site-packages (from prody) (1.79)\n",
            "Requirement already satisfied: jinja2 in /usr/local/lib/python3.7/site-packages (from ax-platform->DeepPurpose) (3.0.3)\n",
            "Requirement already satisfied: plotly in /usr/local/lib/python3.7/site-packages (from ax-platform->DeepPurpose) (5.6.0)\n",
            "Requirement already satisfied: typeguard in /usr/local/lib/python3.7/site-packages (from ax-platform->DeepPurpose) (2.13.3)\n",
            "Requirement already satisfied: botorch==0.6.0 in /usr/local/lib/python3.7/site-packages (from ax-platform->DeepPurpose) (0.6.0)\n",
            "Requirement already satisfied: gpytorch>=1.6 in /usr/local/lib/python3.7/site-packages (from botorch==0.6.0->ax-platform->DeepPurpose) (1.6.0)\n",
            "Requirement already satisfied: typing-extensions in /usr/local/lib/python3.7/site-packages (from torch->DeepPurpose) (4.0.1)\n",
            "Requirement already satisfied: hyperopt in /usr/local/lib/python3.7/site-packages (from dgllife->DeepPurpose) (0.2.7)\n",
            "Requirement already satisfied: joblib in /usr/local/lib/python3.7/site-packages (from dgllife->DeepPurpose) (1.1.0)\n",
            "Requirement already satisfied: networkx>=2.1 in /usr/local/lib/python3.7/site-packages (from dgllife->DeepPurpose) (2.6.3)\n",
            "Requirement already satisfied: certifi>=2017.4.17 in /usr/local/lib/python3.7/site-packages (from requests->DeepPurpose) (2021.10.8)\n",
            "Requirement already satisfied: urllib3<1.27,>=1.21.1 in /usr/local/lib/python3.7/site-packages (from requests->DeepPurpose) (1.26.3)\n",
            "Requirement already satisfied: chardet<5,>=3.0.2 in /usr/local/lib/python3.7/site-packages (from requests->DeepPurpose) (4.0.0)\n",
            "Requirement already satisfied: idna<3,>=2.5 in /usr/local/lib/python3.7/site-packages (from requests->DeepPurpose) (2.10)\n",
            "Requirement already satisfied: threadpoolctl>=2.0.0 in /usr/local/lib/python3.7/site-packages (from scikit-learn->DeepPurpose) (3.1.0)\n",
            "Requirement already satisfied: six in /usr/local/lib/python3.7/site-packages (from hyperopt->dgllife->DeepPurpose) (1.15.0)\n",
            "Requirement already satisfied: future in /usr/local/lib/python3.7/site-packages (from hyperopt->dgllife->DeepPurpose) (0.18.2)\n",
            "Requirement already satisfied: py4j in /usr/local/lib/python3.7/site-packages (from hyperopt->dgllife->DeepPurpose) (0.10.9.3)\n",
            "Requirement already satisfied: cloudpickle in /usr/local/lib/python3.7/site-packages (from hyperopt->dgllife->DeepPurpose) (2.0.0)\n",
            "Requirement already satisfied: MarkupSafe>=2.0 in /usr/local/lib/python3.7/site-packages (from jinja2->ax-platform->DeepPurpose) (2.0.1)\n",
            "Requirement already satisfied: autograd>=1.3 in /usr/local/lib/python3.7/site-packages (from lifelines->DeepPurpose) (1.3)\n",
            "Requirement already satisfied: autograd-gamma>=0.3 in /usr/local/lib/python3.7/site-packages (from lifelines->DeepPurpose) (0.5.0)\n",
            "Requirement already satisfied: formulaic<0.3,>=0.2.2 in /usr/local/lib/python3.7/site-packages (from lifelines->DeepPurpose) (0.2.4)\n",
            "Requirement already satisfied: astor in /usr/local/lib/python3.7/site-packages (from formulaic<0.3,>=0.2.2->lifelines->DeepPurpose) (0.8.1)\n",
            "Requirement already satisfied: interface-meta>=1.2 in /usr/local/lib/python3.7/site-packages (from formulaic<0.3,>=0.2.2->lifelines->DeepPurpose) (1.2.4)\n",
            "Requirement already satisfied: wrapt in /usr/local/lib/python3.7/site-packages (from formulaic<0.3,>=0.2.2->lifelines->DeepPurpose) (1.13.3)\n",
            "Requirement already satisfied: pillow>=6.2.0 in /usr/local/lib/python3.7/site-packages (from matplotlib->DeepPurpose) (9.0.1)\n",
            "Requirement already satisfied: packaging>=20.0 in /usr/local/lib/python3.7/site-packages (from matplotlib->DeepPurpose) (21.3)\n",
            "Requirement already satisfied: python-dateutil>=2.7 in /usr/local/lib/python3.7/site-packages (from matplotlib->DeepPurpose) (2.8.2)\n",
            "Requirement already satisfied: kiwisolver>=1.0.1 in /usr/local/lib/python3.7/site-packages (from matplotlib->DeepPurpose) (1.3.2)\n",
            "Requirement already satisfied: cycler>=0.10 in /usr/local/lib/python3.7/site-packages (from matplotlib->DeepPurpose) (0.11.0)\n",
            "Requirement already satisfied: fonttools>=4.22.0 in /usr/local/lib/python3.7/site-packages (from matplotlib->DeepPurpose) (4.29.1)\n",
            "Requirement already satisfied: pytz>=2017.3 in /usr/local/lib/python3.7/site-packages (from pandas->DeepPurpose) (2021.3)\n",
            "Requirement already satisfied: xarray in /usr/local/lib/python3.7/site-packages (from pandas-flavor->DeepPurpose) (0.20.2)\n",
            "Requirement already satisfied: tenacity>=6.2.0 in /usr/local/lib/python3.7/site-packages (from plotly->ax-platform->DeepPurpose) (8.0.1)\n",
            "Requirement already satisfied: importlib-metadata in /usr/local/lib/python3.7/site-packages (from prettytable->DeepPurpose) (4.11.0)\n",
            "Requirement already satisfied: wcwidth in /usr/local/lib/python3.7/site-packages (from prettytable->DeepPurpose) (0.2.5)\n",
            "Requirement already satisfied: zipp>=0.5 in /usr/local/lib/python3.7/site-packages (from importlib-metadata->prettytable->DeepPurpose) (3.7.0)\n",
            "Requirement already satisfied: mock in /usr/local/lib/python3.7/site-packages (from subword-nmt->DeepPurpose) (4.0.3)\n",
            "Requirement already satisfied: google-auth-oauthlib<0.5,>=0.4.1 in /usr/local/lib/python3.7/site-packages (from tensorboard->DeepPurpose) (0.4.6)\n",
            "Requirement already satisfied: google-auth<3,>=1.6.3 in /usr/local/lib/python3.7/site-packages (from tensorboard->DeepPurpose) (2.6.0)\n",
            "Requirement already satisfied: tensorboard-plugin-wit>=1.6.0 in /usr/local/lib/python3.7/site-packages (from tensorboard->DeepPurpose) (1.8.1)\n",
            "Requirement already satisfied: tensorboard-data-server<0.7.0,>=0.6.0 in /usr/local/lib/python3.7/site-packages (from tensorboard->DeepPurpose) (0.6.1)\n",
            "Requirement already satisfied: werkzeug>=0.11.15 in /usr/local/lib/python3.7/site-packages (from tensorboard->DeepPurpose) (2.0.3)\n",
            "Requirement already satisfied: wheel>=0.26 in /usr/local/lib/python3.7/site-packages (from tensorboard->DeepPurpose) (0.36.2)\n",
            "Requirement already satisfied: markdown>=2.6.8 in /usr/local/lib/python3.7/site-packages (from tensorboard->DeepPurpose) (3.3.6)\n",
            "Requirement already satisfied: grpcio>=1.24.3 in /usr/local/lib/python3.7/site-packages (from tensorboard->DeepPurpose) (1.43.0)\n",
            "Requirement already satisfied: setuptools>=41.0.0 in /usr/local/lib/python3.7/site-packages (from tensorboard->DeepPurpose) (49.6.0.post20210108)\n",
            "Requirement already satisfied: absl-py>=0.4 in /usr/local/lib/python3.7/site-packages (from tensorboard->DeepPurpose) (1.0.0)\n",
            "Requirement already satisfied: protobuf>=3.6.0 in /usr/local/lib/python3.7/site-packages (from tensorboard->DeepPurpose) (3.19.4)\n",
            "Requirement already satisfied: cachetools<6.0,>=2.0.0 in /usr/local/lib/python3.7/site-packages (from google-auth<3,>=1.6.3->tensorboard->DeepPurpose) (5.0.0)\n",
            "Requirement already satisfied: pyasn1-modules>=0.2.1 in /usr/local/lib/python3.7/site-packages (from google-auth<3,>=1.6.3->tensorboard->DeepPurpose) (0.2.8)\n",
            "Requirement already satisfied: rsa<5,>=3.1.4 in /usr/local/lib/python3.7/site-packages (from google-auth<3,>=1.6.3->tensorboard->DeepPurpose) (4.8)\n",
            "Requirement already satisfied: requests-oauthlib>=0.7.0 in /usr/local/lib/python3.7/site-packages (from google-auth-oauthlib<0.5,>=0.4.1->tensorboard->DeepPurpose) (1.3.1)\n",
            "Requirement already satisfied: pyasn1<0.5.0,>=0.4.6 in /usr/local/lib/python3.7/site-packages (from pyasn1-modules>=0.2.1->google-auth<3,>=1.6.3->tensorboard->DeepPurpose) (0.4.8)\n",
            "Requirement already satisfied: oauthlib>=3.0.0 in /usr/local/lib/python3.7/site-packages (from requests-oauthlib>=0.7.0->google-auth-oauthlib<0.5,>=0.4.1->tensorboard->DeepPurpose) (3.2.0)\n"
          ]
        }
      ]
    },
    {
      "cell_type": "code",
      "source": [
        "!python -V\n"
      ],
      "metadata": {
        "colab": {
          "base_uri": "https://localhost:8080/"
        },
        "id": "WiFTTlojwWmd",
        "outputId": "ec9b8f24-ef65-4d69-ed69-7926a0f07099"
      },
      "execution_count": 5,
      "outputs": [
        {
          "output_type": "stream",
          "name": "stdout",
          "text": [
            "Python 3.7.10\n"
          ]
        }
      ]
    },
    {
      "cell_type": "code",
      "execution_count": 6,
      "metadata": {
        "id": "ER9OdUIDnYUQ",
        "colab": {
          "base_uri": "https://localhost:8080/"
        },
        "outputId": "00e49b97-c289-4fbc-b020-5f909d1eb5b4"
      },
      "outputs": [
        {
          "output_type": "stream",
          "name": "stderr",
          "text": [
            "WARNING:root:No normalization for BCUT2D_MWHI\n",
            "WARNING:root:No normalization for BCUT2D_MWLOW\n",
            "WARNING:root:No normalization for BCUT2D_CHGHI\n",
            "WARNING:root:No normalization for BCUT2D_CHGLO\n",
            "WARNING:root:No normalization for BCUT2D_LOGPHI\n",
            "WARNING:root:No normalization for BCUT2D_LOGPLOW\n",
            "WARNING:root:No normalization for BCUT2D_MRHI\n",
            "WARNING:root:No normalization for BCUT2D_MRLOW\n"
          ]
        }
      ],
      "source": [
        "import warnings\n",
        "warnings.filterwarnings(\"ignore\")\n",
        "from pathlib import Path\n",
        "import pandas as pd\n",
        "from DeepPurpose import DTI as models\n",
        "from DeepPurpose.utils import *\n",
        "from DeepPurpose.dataset import *\n"
      ]
    },
    {
      "cell_type": "code",
      "source": [
        "#!wget https://drive.google.com/file/d/1qnvNxd6SvhwHPxD0huTpmODB270ENs7j/view?usp=sharing -O data.tar.gz\n"
      ],
      "metadata": {
        "id": "q51U41Bv0xom"
      },
      "execution_count": 7,
      "outputs": []
    },
    {
      "cell_type": "code",
      "source": [
        "import numpy as np\n",
        "import random\n",
        "import torch\n",
        "from prody import parsePDB\n",
        "\n",
        "def seed_everything(seed=42):\n",
        "    np.random.seed(seed)\n",
        "    random.seed(seed)\n",
        "    torch.manual_seed(seed)\n",
        "    pass"
      ],
      "metadata": {
        "id": "nQ7iRs5d-nTC"
      },
      "execution_count": 8,
      "outputs": []
    },
    {
      "cell_type": "code",
      "source": [
        "\n",
        "from rdkit.Chem import AllChem\n",
        "\n",
        "def smiles2canonical(smiles):\n",
        "    m = AllChem.MolFromSmiles(smiles, sanitize=True)\n",
        "    # m = AllChem.AddHs(m)\n",
        "    # isomeric = AllChem.MolToSmiles(m, isomericSmiles=True)\n",
        "    canonical = AllChem.MolToSmiles(m, isomericSmiles=False, canonical=True)\n",
        "    return canonical"
      ],
      "metadata": {
        "id": "3UWwKAdI2ppo"
      },
      "execution_count": 9,
      "outputs": []
    },
    {
      "cell_type": "code",
      "execution_count": 10,
      "metadata": {
        "id": "lCtsg6uPnYUR"
      },
      "outputs": [],
      "source": [
        "# Cell with constants\n",
        "DATADIR = Path(\"data\")\n",
        "if not DATADIR.exists():\n",
        "  # DATADIR.mkdir(DATADIR)\n",
        "  !gdown --id 1qnvNxd6SvhwHPxD0huTpmODB270ENs7j\n",
        "  !tar -xzvf inhibitors_data.tar.gz\n",
        "\n",
        "RANDOM_SEED = 2407\n",
        "seed_everything(RANDOM_SEED)\n",
        "TMP_DIR = Path(\"tmp\")\n",
        "TMP_DIR.mkdir(exist_ok=True)\n",
        "\n",
        "train_df = pd.read_csv(DATADIR / \"train.csv\", index_col=0)\n",
        "test_df = pd.read_csv(DATADIR / \"test.csv\", index_col=0)\n",
        "\n",
        "train_df['canonical'] = train_df.Smiles.apply(smiles2canonical)\n",
        "test_df['canonical'] = test_df.Smiles.apply(smiles2canonical)\n",
        "\n",
        "MODEL_NAME = 'Daylight_AAC_BindingDB'  # 'Morgan_AAC_BindingDB'\n",
        "SMILES_COL = \"canonical\"  # \"Smiles\"\n",
        "NFOLDS = 5"
      ]
    },
    {
      "cell_type": "code",
      "source": [
        "from torch.utils.data import DataLoader, SequentialSampler\n",
        "import torch.nn as nn\n",
        "import copy\n",
        "from prettytable import PrettyTable\n",
        "import DeepPurpose.utils as utils\n",
        "from torch.utils.tensorboard import SummaryWriter\n",
        "from time import time\n",
        "from torch.autograd import Variable\n",
        "import matplotlib.pyplot as plt\n",
        "\n",
        "class ImbalancedDBTA(models.DBTA):\n",
        "  def train(self, train, val = None, test = None, verbose = True):\n",
        "      if len(train.Label.unique()) == 2:\n",
        "          self.binary = True\n",
        "          self.config['binary'] = True\n",
        "\n",
        "      lr = self.config['LR']\n",
        "      decay = self.config['decay']\n",
        "      BATCH_SIZE = self.config['batch_size']\n",
        "      train_epoch = self.config['train_epoch']\n",
        "      if 'test_every_X_epoch' in self.config.keys():\n",
        "          test_every_X_epoch = self.config['test_every_X_epoch']\n",
        "      else:     \n",
        "          test_every_X_epoch = 40\n",
        "      loss_history = []\n",
        "\n",
        "      self.model = self.model.to(self.device)\n",
        "\n",
        "      # support multiple GPUs\n",
        "      if torch.cuda.device_count() > 1:\n",
        "          if verbose:\n",
        "              print(\"Let's use \" + str(torch.cuda.device_count()) + \" GPUs!\")\n",
        "          self.model = nn.DataParallel(self.model, dim = 0)\n",
        "      elif torch.cuda.device_count() == 1:\n",
        "          if verbose:\n",
        "              print(\"Let's use \" + str(torch.cuda.device_count()) + \" GPU!\")\n",
        "      else:\n",
        "          if verbose:\n",
        "              print(\"Let's use CPU/s!\")\n",
        "      # Future TODO: support multiple optimizers with parameters\n",
        "      opt = torch.optim.Adam(self.model.parameters(), lr=lr, weight_decay=decay)\n",
        "      if verbose:\n",
        "          print('--- Data Preparation ---')\n",
        "\n",
        "      params = {\n",
        "          'batch_size': BATCH_SIZE,\n",
        "          'shuffle': True,\n",
        "          'num_workers': self.config['num_workers'],\n",
        "          'drop_last': False\n",
        "      }\n",
        "      if (self.drug_encoding == \"MPNN\"):\n",
        "          params['collate_fn'] = utils.mpnn_collate_func\n",
        "      elif self.drug_encoding in ['DGL_GCN', 'DGL_NeuralFP', 'DGL_GIN_AttrMasking', 'DGL_GIN_ContextPred', 'DGL_AttentiveFP']:\n",
        "          params['collate_fn'] = utils.dgl_collate_func\n",
        "\n",
        "      training_generator = DataLoader(utils.data_process_loader(train.index.values, train.Label.values, train, **self.config), **params)\n",
        "      if val is not None:\n",
        "          validation_generator = DataLoader(utils.data_process_loader(val.index.values, val.Label.values, val, **self.config), **params)\n",
        "      \n",
        "      if test is not None:\n",
        "          info = data_process_loader(test.index.values, test.Label.values, test, **self.config)\n",
        "          params_test = {\n",
        "              'batch_size': BATCH_SIZE,\n",
        "              'shuffle': False,\n",
        "              'num_workers': self.config['num_workers'],\n",
        "              'drop_last': False,\n",
        "              'sampler': SequentialSampler(info)\n",
        "          }\n",
        "          if (self.drug_encoding == \"MPNN\"):\n",
        "              params_test['collate_fn'] = utils.mpnn_collate_func\n",
        "          elif self.drug_encoding in ['DGL_GCN', 'DGL_NeuralFP', 'DGL_GIN_AttrMasking', 'DGL_GIN_ContextPred', 'DGL_AttentiveFP']:\n",
        "              params_test['collate_fn'] = utils.dgl_collate_func\n",
        "          testing_generator = DataLoader(utils.data_process_loader(test.index.values, test.Label.values, test, **self.config), **params_test)\n",
        "      # early stopping\n",
        "      if self.binary:\n",
        "          max_auc = 0\n",
        "          max_auprc = 0\n",
        "      else:\n",
        "          max_MSE = 10000\n",
        "      model_max = copy.deepcopy(self.model)\n",
        "\n",
        "      valid_metric_record = []\n",
        "      valid_metric_header = [\"# epoch\"] \n",
        "      if self.binary:\n",
        "          valid_metric_header.extend([\"AUROC\", \"AUPRC\", \"F1\"])\n",
        "      else:\n",
        "          valid_metric_header.extend([\"MSE\", \"Pearson Correlation\", \"with p-value\", \"Concordance Index\"])\n",
        "      table = PrettyTable(valid_metric_header)\n",
        "      float2str = lambda x:'%0.4f'%x\n",
        "      if verbose:\n",
        "          print('--- Go for Training ---')\n",
        "      writer = SummaryWriter()\n",
        "      t_start = time() \n",
        "      iteration_loss = 0\n",
        "      for epo in range(train_epoch):\n",
        "          for i, (v_d, v_p, label) in enumerate(training_generator):\n",
        "              if self.target_encoding == 'Transformer':\n",
        "                  v_p = v_p\n",
        "              else:\n",
        "                  v_p = v_p.float().to(self.device) \n",
        "              if self.drug_encoding in [\"MPNN\", 'Transformer', 'DGL_GCN', 'DGL_NeuralFP', 'DGL_GIN_AttrMasking', 'DGL_GIN_ContextPred', 'DGL_AttentiveFP']:\n",
        "                  v_d = v_d\n",
        "              else:\n",
        "                  v_d = v_d.float().to(self.device)                \n",
        "                  #score = self.model(v_d, v_p.float().to(self.device))\n",
        "                  \n",
        "              score = self.model(v_d, v_p)\n",
        "              label = Variable(torch.from_numpy(np.array(label)).float()).to(self.device)\n",
        "\n",
        "              if self.binary:\n",
        "                  loss_fct = torch.nn.BCELoss()\n",
        "                  m = torch.nn.Sigmoid()\n",
        "                  n = torch.squeeze(m(score), 1)\n",
        "                  loss = loss_fct(n, label)\n",
        "              else:\n",
        "                  loss_fct = torch.nn.MSELoss()\n",
        "                  n = torch.squeeze(score, 1)\n",
        "                  loss = loss_fct(n, label)\n",
        "              loss_history.append(loss.item())\n",
        "              writer.add_scalar(\"Loss/train\", loss.item(), iteration_loss)\n",
        "              iteration_loss += 1\n",
        "\n",
        "              opt.zero_grad()\n",
        "              loss.backward()\n",
        "              opt.step()\n",
        "\n",
        "              if verbose:\n",
        "                  if (i % 100 == 0):\n",
        "                      t_now = time()\n",
        "                      print('Training at Epoch ' + str(epo + 1) + ' iteration ' + str(i) + \\\n",
        "                        ' with loss ' + str(loss.cpu().detach().numpy())[:7] +\\\n",
        "                        \". Total time \" + str(int(t_now - t_start)/3600)[:7] + \" hours\") \n",
        "                      ### record total run time\n",
        "\n",
        "          if val is not None:\n",
        "              ##### validate, select the best model up to now \n",
        "              with torch.set_grad_enabled(False):\n",
        "                  if self.binary:  \n",
        "                      ## binary: ROC-AUC, PR-AUC, F1, cross-entropy loss\n",
        "                      auc, auprc, f1, loss, logits = self.test_(validation_generator, self.model)\n",
        "                      lst = [\"epoch \" + str(epo)] + list(map(float2str,[auc, auprc, f1]))\n",
        "                      valid_metric_record.append(lst)\n",
        "                      # if auc > max_auc:\n",
        "                      if auprc > max_auprc:\n",
        "                          model_max = copy.deepcopy(self.model)\n",
        "                          max_auprc = auprc\n",
        "                      if verbose:\n",
        "                          print('Validation at Epoch '+ str(epo + 1) + ', AUROC: ' + str(auc)[:7] + \\\n",
        "                            ' , AUPRC: ' + str(auprc)[:7] + ' , F1: '+str(f1)[:7] + ' , Cross-entropy Loss: ' + \\\n",
        "                            str(loss)[:7])\n",
        "                  else:  \n",
        "                      ### regression: MSE, Pearson Correlation, with p-value, Concordance Index  \n",
        "                      mse, r2, p_val, CI, logits, loss_val = self.test_(validation_generator, self.model)\n",
        "                      lst = [\"epoch \" + str(epo)] + list(map(float2str,[mse, r2, p_val, CI]))\n",
        "                      valid_metric_record.append(lst)\n",
        "                      if mse < max_MSE:\n",
        "                          model_max = copy.deepcopy(self.model)\n",
        "                          max_MSE = mse\n",
        "                      if verbose:\n",
        "                          print('Validation at Epoch '+ str(epo + 1) + ' with loss:' + str(loss_val.item())[:7] +', MSE: ' + str(mse)[:7] + ' , Pearson Correlation: '\\\n",
        "                          + str(r2)[:7] + ' with p-value: ' + str(f\"{p_val:.2E}\") +' , Concordance Index: '+str(CI)[:7])\n",
        "                          writer.add_scalar(\"valid/mse\", mse, epo)\n",
        "                          writer.add_scalar(\"valid/pearson_correlation\", r2, epo)\n",
        "                          writer.add_scalar(\"valid/concordance_index\", CI, epo)\n",
        "                          writer.add_scalar(\"Loss/valid\", loss_val.item(), iteration_loss)\n",
        "              table.add_row(lst)\n",
        "          else:\n",
        "              model_max = copy.deepcopy(self.model)\n",
        "\n",
        "      # load early stopped model\n",
        "      self.model = model_max\n",
        "\n",
        "      if val is not None:\n",
        "          #### after training \n",
        "          prettytable_file = os.path.join(self.result_folder, \"valid_markdowntable.txt\")\n",
        "          with open(prettytable_file, 'w') as fp:\n",
        "              fp.write(table.get_string())\n",
        "\n",
        "      if test is not None:\n",
        "          if verbose:\n",
        "              print('--- Go for Testing ---')\n",
        "          if self.binary:\n",
        "              auc, auprc, f1, loss, logits = self.test_(testing_generator, model_max, test = True)\n",
        "              test_table = PrettyTable([\"AUROC\", \"AUPRC\", \"F1\"])\n",
        "              test_table.add_row(list(map(float2str, [auc, auprc, f1])))\n",
        "              if verbose:\n",
        "                  print('Validation at Epoch '+ str(epo + 1) + ' , AUROC: ' + str(auc)[:7] + \\\n",
        "                    ' , AUPRC: ' + str(auprc)[:7] + ' , F1: '+str(f1)[:7] + ' , Cross-entropy Loss: ' + \\\n",
        "                    str(loss)[:7])\t\t\t\t\n",
        "          else:\n",
        "              mse, r2, p_val, CI, logits, loss_test = self.test_(testing_generator, model_max)\n",
        "              test_table = PrettyTable([\"MSE\", \"Pearson Correlation\", \"with p-value\", \"Concordance Index\"])\n",
        "              test_table.add_row(list(map(float2str, [mse, r2, p_val, CI])))\n",
        "              if verbose:\n",
        "                  print('Testing MSE: ' + str(mse) + ' , Pearson Correlation: ' + str(r2) \n",
        "                    + ' with p-value: ' + str(f\"{p_val:.2E}\") +' , Concordance Index: '+str(CI))\n",
        "              np.save(os.path.join(self.result_folder, str(self.drug_encoding) + '_' + str(self.target_encoding) \n",
        "                    + '_logits.npy'), np.array(logits))                \n",
        "      \n",
        "          ######### learning record ###########\n",
        "\n",
        "          ### 1. test results\n",
        "          prettytable_file = os.path.join(self.result_folder, \"test_markdowntable.txt\")\n",
        "          with open(prettytable_file, 'w') as fp:\n",
        "              fp.write(test_table.get_string())\n",
        "\n",
        "      ### 2. learning curve \n",
        "      fontsize = 16\n",
        "      iter_num = list(range(1,len(loss_history)+1))\n",
        "      plt.figure(3)\n",
        "      plt.plot(iter_num, loss_history, \"bo-\")\n",
        "      plt.xlabel(\"iteration\", fontsize = fontsize)\n",
        "      plt.ylabel(\"loss value\", fontsize = fontsize)\n",
        "      pkl_file = os.path.join(self.result_folder, \"loss_curve_iter.pkl\")\n",
        "      with open(pkl_file, 'wb') as pck:\n",
        "          pickle.dump(loss_history, pck)\n",
        "\n",
        "      fig_file = os.path.join(self.result_folder, \"loss_curve.png\")\n",
        "      plt.savefig(fig_file)\n",
        "      if verbose:\n",
        "          print('--- Training Finished ---')\n",
        "          writer.flush()\n",
        "          writer.close()\n",
        "          \n",
        "\n",
        "\n",
        "def model_pretrained(path_dir=None, model = None):\n",
        "    if model is not None:\n",
        "       path_dir = models.download_pretrained_model(model)\n",
        "    config = models.load_dict(path_dir)\n",
        "    model = ImbalancedDBTA(**config)\n",
        "    model.load_pretrained(path_dir + '/model.pt')    \n",
        "    return model"
      ],
      "metadata": {
        "id": "rnZp5rQ21mAn"
      },
      "execution_count": 11,
      "outputs": []
    },
    {
      "cell_type": "code",
      "execution_count": 12,
      "metadata": {
        "id": "YvnlG3VfnYUR",
        "outputId": "107d5aa6-8e6b-4195-bb16-dbce9ec0fd5c",
        "colab": {
          "base_uri": "https://localhost:8080/",
          "height": 89
        }
      },
      "outputs": [
        {
          "output_type": "stream",
          "name": "stderr",
          "text": [
            "@> 2874 atoms and 1 coordinate set(s) were parsed in 0.04s.\n",
            "DEBUG:.prody:2874 atoms and 1 coordinate set(s) were parsed in 0.04s.\n"
          ]
        },
        {
          "output_type": "execute_result",
          "data": {
            "application/vnd.google.colaboratory.intrinsic+json": {
              "type": "string"
            },
            "text/plain": [
              "'EVNSFSGYLKLTDNVYIKNADIVEEAKKVKPTVVVNAANVYLKHGGGVAGALNKATNNAMQVESDDYIATNGPLKVGGSCVLSGHNLAKHCLHVVGPNVNKGEDIQLLKSAYENFNQHEVLLAPLLSAGIFGADPIHSLRVCVDTVRTNVYLAVFDKNLYDKLVSSFLE'"
            ]
          },
          "metadata": {},
          "execution_count": 12
        }
      ],
      "source": [
        "\n",
        "structure = parsePDB((DATADIR / 'target.pdb').as_posix(), debug=False)\n",
        "#[x.name for x in structure.get_atoms() if not x.is_disordered()]\n",
        "# [x.get_resname() for x in structure.get_residues()]\n",
        "#structure.getSequence(), structure.getResnums(), [a for a in structure.iterAtoms()]\n",
        "list(structure.iterChains())\n",
        "calphas = structure.chain_A_and_calpha\n",
        "sequence = calphas.getSequence()\n",
        "sequence"
      ]
    },
    {
      "cell_type": "code",
      "execution_count": 13,
      "metadata": {
        "id": "Vg-ut4yZnYUT"
      },
      "outputs": [],
      "source": [
        "def balance_data(train_df, target_col=\"Label\"):\n",
        "    df = train_df[target_col].value_counts()\n",
        "    m = df.max()\n",
        "    new_index = []\n",
        "    for i, c in df.reset_index().values:\n",
        "        ids = train_df[target_col]==i\n",
        "        values = train_df[ids].index\n",
        "        if c == m:\n",
        "            new_index.extend(values)\n",
        "        else:\n",
        "            new_index.extend(np.random.choice(values, m))\n",
        "    np.random.shuffle(new_index)\n",
        "    return train_df.loc[new_index]\n",
        "\n"
      ]
    },
    {
      "cell_type": "code",
      "execution_count": 14,
      "metadata": {
        "id": "MU7L-hkEnYUU",
        "outputId": "012cd477-a5ce-4753-a003-8901e4a1c455",
        "colab": {
          "base_uri": "https://localhost:8080/",
          "height": 1000
        }
      },
      "outputs": [
        {
          "output_type": "stream",
          "name": "stdout",
          "text": [
            "Drug Target Interaction Prediction Mode...\n",
            "in total: 5557 drug-target pairs\n",
            "encoding drug...\n",
            "unique drugs: 5396\n",
            "rdkit not found this smiles: [I-].[K+] convert to all 0 features\n",
            "encoding protein...\n",
            "unique target sequence: 1\n",
            "-- Encoding AAC takes time. Time Reference: 24s for ~100 sequences in a CPU.\t\t\t\t Calculate your time by the unique target sequence #, instead of the entire dataset.\n",
            "splitting dataset...\n",
            "do not do train/test split on the data for already splitted data\n",
            "Dataset already downloaded in the local system...\n",
            "Let's use 1 GPU!\n",
            "--- Data Preparation ---\n",
            "--- Go for Training ---\n",
            "Training at Epoch 1 iteration 0 with loss 2.96702. Total time 0.00027 hours\n",
            "Validation at Epoch 1, AUROC: 0.49944 , AUPRC: 0.03746 , F1: 0.07407 , Cross-entropy Loss: 11.6477\n",
            "Training at Epoch 2 iteration 0 with loss 0.64825. Total time 0.00166 hours\n",
            "Validation at Epoch 2, AUROC: 0.62592 , AUPRC: 0.08318 , F1: 0.10989 , Cross-entropy Loss: 5.03182\n",
            "Training at Epoch 3 iteration 0 with loss 0.28504. Total time 0.0025 hours\n",
            "Validation at Epoch 3, AUROC: 0.61822 , AUPRC: 0.09350 , F1: 0.14583 , Cross-entropy Loss: 2.54695\n",
            "Training at Epoch 4 iteration 0 with loss 0.25441. Total time 0.00333 hours\n",
            "Validation at Epoch 4, AUROC: 0.64951 , AUPRC: 0.10977 , F1: 0.16883 , Cross-entropy Loss: 3.97575\n",
            "Training at Epoch 5 iteration 0 with loss 0.15510. Total time 0.00444 hours\n",
            "Validation at Epoch 5, AUROC: 0.68499 , AUPRC: 0.11142 , F1: 0.18867 , Cross-entropy Loss: 4.00682\n",
            "Training at Epoch 6 iteration 0 with loss 0.15835. Total time 0.00527 hours\n",
            "Validation at Epoch 6, AUROC: 0.67737 , AUPRC: 0.11505 , F1: 0.18705 , Cross-entropy Loss: 3.50984\n",
            "Training at Epoch 7 iteration 0 with loss 0.16698. Total time 0.00611 hours\n",
            "Validation at Epoch 7, AUROC: 0.68429 , AUPRC: 0.10988 , F1: 0.20238 , Cross-entropy Loss: 4.16212\n",
            "Training at Epoch 8 iteration 0 with loss 0.24067. Total time 0.00694 hours\n",
            "Validation at Epoch 8, AUROC: 0.69073 , AUPRC: 0.11146 , F1: 0.19540 , Cross-entropy Loss: 4.34849\n",
            "Training at Epoch 9 iteration 0 with loss 0.18838. Total time 0.00777 hours\n",
            "Validation at Epoch 9, AUROC: 0.68663 , AUPRC: 0.11375 , F1: 0.20645 , Cross-entropy Loss: 3.82045\n",
            "Training at Epoch 10 iteration 0 with loss 0.16750. Total time 0.00888 hours\n",
            "Validation at Epoch 10, AUROC: 0.69226 , AUPRC: 0.12293 , F1: 0.21768 , Cross-entropy Loss: 3.57197\n",
            "Training at Epoch 11 iteration 0 with loss 0.19294. Total time 0.00972 hours\n",
            "Validation at Epoch 11, AUROC: 0.68670 , AUPRC: 0.11073 , F1: 0.18320 , Cross-entropy Loss: 3.32348\n",
            "Training at Epoch 12 iteration 0 with loss 0.21239. Total time 0.01055 hours\n",
            "Validation at Epoch 12, AUROC: 0.69565 , AUPRC: 0.10235 , F1: 0.16410 , Cross-entropy Loss: 5.06288\n",
            "Training at Epoch 13 iteration 0 with loss 0.25329. Total time 0.01138 hours\n",
            "Validation at Epoch 13, AUROC: 0.67351 , AUPRC: 0.10962 , F1: 0.17808 , Cross-entropy Loss: 3.72727\n",
            "Training at Epoch 14 iteration 0 with loss 0.25254. Total time 0.0125 hours\n",
            "Validation at Epoch 14, AUROC: 0.68696 , AUPRC: 0.11137 , F1: 0.21917 , Cross-entropy Loss: 3.54090\n",
            "Training at Epoch 15 iteration 0 with loss 0.23574. Total time 0.01333 hours\n",
            "Validation at Epoch 15, AUROC: 0.68676 , AUPRC: 0.11954 , F1: 0.18333 , Cross-entropy Loss: 3.04393\n",
            "--- Go for Testing ---\n",
            "Validation at Epoch 15 , AUROC: 0.69226 , AUPRC: 0.12293 , F1: 0.21768 , Cross-entropy Loss: 3.57197\n",
            "--- Training Finished ---\n",
            "Dataset already downloaded in the local system...\n",
            "Let's use 1 GPU!\n",
            "--- Data Preparation ---\n",
            "--- Go for Training ---\n",
            "Training at Epoch 1 iteration 0 with loss 2.84573. Total time 0.0 hours\n",
            "Validation at Epoch 1, AUROC: 0.56404 , AUPRC: 0.07922 , F1: 0.07532 , Cross-entropy Loss: 28.9796\n",
            "Training at Epoch 2 iteration 0 with loss 0.63913. Total time 0.00083 hours\n",
            "Validation at Epoch 2, AUROC: 0.69659 , AUPRC: 0.11475 , F1: 0.13333 , Cross-entropy Loss: 4.84545\n",
            "Training at Epoch 3 iteration 0 with loss 0.29539. Total time 0.00166 hours\n",
            "Validation at Epoch 3, AUROC: 0.68740 , AUPRC: 0.10581 , F1: 0.14736 , Cross-entropy Loss: 5.03182\n",
            "Training at Epoch 4 iteration 0 with loss 0.18173. Total time 0.00277 hours\n",
            "Validation at Epoch 4, AUROC: 0.69103 , AUPRC: 0.13295 , F1: 0.17751 , Cross-entropy Loss: 4.31742\n",
            "Training at Epoch 5 iteration 0 with loss 0.13577. Total time 0.00361 hours\n",
            "Validation at Epoch 5, AUROC: 0.70903 , AUPRC: 0.13401 , F1: 0.16 , Cross-entropy Loss: 2.60908\n",
            "Training at Epoch 6 iteration 0 with loss 0.15452. Total time 0.00444 hours\n",
            "Validation at Epoch 6, AUROC: 0.70816 , AUPRC: 0.12097 , F1: 0.19540 , Cross-entropy Loss: 4.34848\n",
            "Training at Epoch 7 iteration 0 with loss 0.14312. Total time 0.00555 hours\n",
            "Validation at Epoch 7, AUROC: 0.71041 , AUPRC: 0.11779 , F1: 0.18181 , Cross-entropy Loss: 2.51589\n",
            "Training at Epoch 8 iteration 0 with loss 0.14296. Total time 0.00638 hours\n",
            "Validation at Epoch 8, AUROC: 0.70336 , AUPRC: 0.12741 , F1: 0.20725 , Cross-entropy Loss: 4.75228\n",
            "Training at Epoch 9 iteration 0 with loss 0.18587. Total time 0.00722 hours\n",
            "Validation at Epoch 9, AUROC: 0.71228 , AUPRC: 0.12274 , F1: 0.22500 , Cross-entropy Loss: 3.85151\n",
            "Training at Epoch 10 iteration 0 with loss 0.18748. Total time 0.00805 hours\n",
            "Validation at Epoch 10, AUROC: 0.70407 , AUPRC: 0.11824 , F1: 0.16216 , Cross-entropy Loss: 2.88862\n",
            "Training at Epoch 11 iteration 0 with loss 0.18714. Total time 0.00916 hours\n",
            "Validation at Epoch 11, AUROC: 0.71112 , AUPRC: 0.11738 , F1: 0.19867 , Cross-entropy Loss: 3.75833\n",
            "Training at Epoch 12 iteration 0 with loss 0.20525. Total time 0.01 hours\n",
            "Validation at Epoch 12, AUROC: 0.70712 , AUPRC: 0.13163 , F1: 0.23529 , Cross-entropy Loss: 3.23030\n",
            "Training at Epoch 13 iteration 0 with loss 0.21499. Total time 0.01083 hours\n",
            "Validation at Epoch 13, AUROC: 0.70890 , AUPRC: 0.12669 , F1: 0.20689 , Cross-entropy Loss: 2.85756\n",
            "Training at Epoch 14 iteration 0 with loss 0.21791. Total time 0.01194 hours\n",
            "Validation at Epoch 14, AUROC: 0.70774 , AUPRC: 0.13183 , F1: 0.21052 , Cross-entropy Loss: 4.19318\n",
            "Training at Epoch 15 iteration 0 with loss 0.24023. Total time 0.01305 hours\n",
            "Validation at Epoch 15, AUROC: 0.71101 , AUPRC: 0.13353 , F1: 0.14583 , Cross-entropy Loss: 2.54695\n",
            "--- Go for Testing ---\n",
            "Validation at Epoch 15 , AUROC: 0.70903 , AUPRC: 0.13401 , F1: 0.16 , Cross-entropy Loss: 2.60908\n",
            "--- Training Finished ---\n",
            "Dataset already downloaded in the local system...\n",
            "Let's use 1 GPU!\n",
            "--- Data Preparation ---\n",
            "--- Go for Training ---\n",
            "Training at Epoch 1 iteration 0 with loss 2.49585. Total time 0.0 hours\n",
            "Validation at Epoch 1, AUROC: 0.57127 , AUPRC: 0.04524 , F1: 0.07047 , Cross-entropy Loss: 30.3425\n",
            "Training at Epoch 2 iteration 0 with loss 0.64975. Total time 0.00083 hours\n",
            "Validation at Epoch 2, AUROC: 0.65117 , AUPRC: 0.08466 , F1: 0.13043 , Cross-entropy Loss: 4.97417\n",
            "Training at Epoch 3 iteration 0 with loss 0.23139. Total time 0.00166 hours\n",
            "Validation at Epoch 3, AUROC: 0.64834 , AUPRC: 0.08347 , F1: 0.09708 , Cross-entropy Loss: 2.89122\n",
            "Training at Epoch 4 iteration 0 with loss 0.15193. Total time 0.00277 hours\n",
            "Validation at Epoch 4, AUROC: 0.67317 , AUPRC: 0.10059 , F1: 0.13675 , Cross-entropy Loss: 3.13993\n",
            "Training at Epoch 5 iteration 0 with loss 0.15501. Total time 0.00361 hours\n",
            "Validation at Epoch 5, AUROC: 0.67228 , AUPRC: 0.08999 , F1: 0.14184 , Cross-entropy Loss: 3.76171\n",
            "Training at Epoch 6 iteration 0 with loss 0.11842. Total time 0.00444 hours\n",
            "Validation at Epoch 6, AUROC: 0.67515 , AUPRC: 0.09982 , F1: 0.15068 , Cross-entropy Loss: 3.85498\n",
            "Training at Epoch 7 iteration 0 with loss 0.15303. Total time 0.00555 hours\n",
            "Validation at Epoch 7, AUROC: 0.66658 , AUPRC: 0.10996 , F1: 0.13333 , Cross-entropy Loss: 3.23320\n",
            "Training at Epoch 8 iteration 0 with loss 0.14774. Total time 0.00638 hours\n",
            "Validation at Epoch 8, AUROC: 0.67426 , AUPRC: 0.09661 , F1: 0.13846 , Cross-entropy Loss: 3.48191\n",
            "Training at Epoch 9 iteration 0 with loss 0.18772. Total time 0.00722 hours\n",
            "Validation at Epoch 9, AUROC: 0.68365 , AUPRC: 0.09431 , F1: 0.14611 , Cross-entropy Loss: 5.81357\n",
            "Training at Epoch 10 iteration 0 with loss 0.21232. Total time 0.00833 hours\n",
            "Validation at Epoch 10, AUROC: 0.66775 , AUPRC: 0.09434 , F1: 0.144 , Cross-entropy Loss: 3.32647\n",
            "Training at Epoch 11 iteration 0 with loss 0.18534. Total time 0.00916 hours\n",
            "Validation at Epoch 11, AUROC: 0.67622 , AUPRC: 0.09181 , F1: 0.15267 , Cross-entropy Loss: 3.45082\n",
            "Training at Epoch 12 iteration 0 with loss 0.19812. Total time 0.01 hours\n",
            "Validation at Epoch 12, AUROC: 0.66507 , AUPRC: 0.09679 , F1: 0.14492 , Cross-entropy Loss: 3.66844\n",
            "Training at Epoch 13 iteration 0 with loss 0.20805. Total time 0.01111 hours\n",
            "Validation at Epoch 13, AUROC: 0.67254 , AUPRC: 0.09123 , F1: 0.15384 , Cross-entropy Loss: 4.78764\n",
            "Training at Epoch 14 iteration 0 with loss 0.21952. Total time 0.01222 hours\n",
            "Validation at Epoch 14, AUROC: 0.66644 , AUPRC: 0.08670 , F1: 0.15094 , Cross-entropy Loss: 2.79796\n",
            "Training at Epoch 15 iteration 0 with loss 0.22999. Total time 0.01305 hours\n",
            "Validation at Epoch 15, AUROC: 0.66564 , AUPRC: 0.08400 , F1: 0.16923 , Cross-entropy Loss: 3.35756\n",
            "--- Go for Testing ---\n",
            "Validation at Epoch 15 , AUROC: 0.66658 , AUPRC: 0.10996 , F1: 0.13333 , Cross-entropy Loss: 3.23320\n",
            "--- Training Finished ---\n",
            "Dataset already downloaded in the local system...\n",
            "Let's use 1 GPU!\n",
            "--- Data Preparation ---\n",
            "--- Go for Training ---\n",
            "Training at Epoch 1 iteration 0 with loss 2.46628. Total time 0.0 hours\n",
            "Validation at Epoch 1, AUROC: 0.54643 , AUPRC: 0.04257 , F1: 0.07692 , Cross-entropy Loss: 23.8761\n",
            "Training at Epoch 2 iteration 0 with loss 0.68940. Total time 0.00083 hours\n",
            "Validation at Epoch 2, AUROC: 0.65377 , AUPRC: 0.09061 , F1: 0.09267 , Cross-entropy Loss: 18.8708\n",
            "Training at Epoch 3 iteration 0 with loss 0.45810. Total time 0.00166 hours\n",
            "Validation at Epoch 3, AUROC: 0.69808 , AUPRC: 0.11328 , F1: 0.16064 , Cross-entropy Loss: 6.49752\n",
            "Training at Epoch 4 iteration 0 with loss 0.17294. Total time 0.00277 hours\n",
            "Validation at Epoch 4, AUROC: 0.69152 , AUPRC: 0.13447 , F1: 0.15730 , Cross-entropy Loss: 6.99494\n",
            "Training at Epoch 5 iteration 0 with loss 0.18454. Total time 0.00361 hours\n",
            "Validation at Epoch 5, AUROC: 0.66175 , AUPRC: 0.19781 , F1: 0.19642 , Cross-entropy Loss: 2.79796\n",
            "Training at Epoch 6 iteration 0 with loss 0.20885. Total time 0.00444 hours\n",
            "Validation at Epoch 6, AUROC: 0.68602 , AUPRC: 0.17430 , F1: 0.18705 , Cross-entropy Loss: 3.51300\n",
            "Training at Epoch 7 iteration 0 with loss 0.15973. Total time 0.00555 hours\n",
            "Validation at Epoch 7, AUROC: 0.67492 , AUPRC: 0.15583 , F1: 0.14814 , Cross-entropy Loss: 4.29022\n",
            "Training at Epoch 8 iteration 0 with loss 0.16127. Total time 0.00638 hours\n",
            "Validation at Epoch 8, AUROC: 0.69368 , AUPRC: 0.13592 , F1: 0.15238 , Cross-entropy Loss: 5.53377\n",
            "Training at Epoch 9 iteration 0 with loss 0.21893. Total time 0.00722 hours\n",
            "Validation at Epoch 9, AUROC: 0.69798 , AUPRC: 0.14332 , F1: 0.17877 , Cross-entropy Loss: 4.57002\n",
            "Training at Epoch 10 iteration 0 with loss 0.24386. Total time 0.00833 hours\n",
            "Validation at Epoch 10, AUROC: 0.67385 , AUPRC: 0.19269 , F1: 0.21428 , Cross-entropy Loss: 2.73578\n",
            "Training at Epoch 11 iteration 0 with loss 0.20037. Total time 0.00916 hours\n",
            "Validation at Epoch 11, AUROC: 0.67524 , AUPRC: 0.15847 , F1: 0.24489 , Cross-entropy Loss: 2.30054\n",
            "Training at Epoch 12 iteration 0 with loss 0.23175. Total time 0.01027 hours\n",
            "Validation at Epoch 12, AUROC: 0.67415 , AUPRC: 0.18025 , F1: 0.17647 , Cross-entropy Loss: 3.48191\n",
            "Training at Epoch 13 iteration 0 with loss 0.20078. Total time 0.01111 hours\n",
            "Validation at Epoch 13, AUROC: 0.67899 , AUPRC: 0.16794 , F1: 0.18897 , Cross-entropy Loss: 3.20211\n",
            "Training at Epoch 14 iteration 0 with loss 0.19723. Total time 0.01194 hours\n",
            "Validation at Epoch 14, AUROC: 0.68231 , AUPRC: 0.14037 , F1: 0.15853 , Cross-entropy Loss: 4.29022\n",
            "Training at Epoch 15 iteration 0 with loss 0.24085. Total time 0.01333 hours\n",
            "Validation at Epoch 15, AUROC: 0.67617 , AUPRC: 0.16807 , F1: 0.19834 , Cross-entropy Loss: 3.01558\n",
            "--- Go for Testing ---\n",
            "Validation at Epoch 15 , AUROC: 0.66175 , AUPRC: 0.19781 , F1: 0.19642 , Cross-entropy Loss: 2.79796\n",
            "--- Training Finished ---\n",
            "Dataset already downloaded in the local system...\n",
            "Let's use 1 GPU!\n",
            "--- Data Preparation ---\n",
            "--- Go for Training ---\n",
            "Training at Epoch 1 iteration 0 with loss 2.47203. Total time 0.0 hours\n",
            "Validation at Epoch 1, AUROC: 0.56339 , AUPRC: 0.04238 , F1: 0.08897 , Cross-entropy Loss: 14.6427\n",
            "Training at Epoch 2 iteration 0 with loss 0.64421. Total time 0.00083 hours\n",
            "Validation at Epoch 2, AUROC: 0.69772 , AUPRC: 0.14116 , F1: 0.17424 , Cross-entropy Loss: 6.77732\n",
            "Training at Epoch 3 iteration 0 with loss 0.25329. Total time 0.00194 hours\n",
            "Validation at Epoch 3, AUROC: 0.69416 , AUPRC: 0.14680 , F1: 0.23076 , Cross-entropy Loss: 2.48707\n",
            "Training at Epoch 4 iteration 0 with loss 0.19086. Total time 0.00277 hours\n",
            "Validation at Epoch 4, AUROC: 0.71098 , AUPRC: 0.17520 , F1: 0.22516 , Cross-entropy Loss: 3.63736\n",
            "Training at Epoch 5 iteration 0 with loss 0.14006. Total time 0.00388 hours\n",
            "Validation at Epoch 5, AUROC: 0.70175 , AUPRC: 0.15696 , F1: 0.26168 , Cross-entropy Loss: 2.45599\n",
            "Training at Epoch 6 iteration 0 with loss 0.18194. Total time 0.00472 hours\n",
            "Validation at Epoch 6, AUROC: 0.71285 , AUPRC: 0.20756 , F1: 0.18604 , Cross-entropy Loss: 5.44051\n",
            "Training at Epoch 7 iteration 0 with loss 0.14174. Total time 0.00583 hours\n",
            "Validation at Epoch 7, AUROC: 0.71031 , AUPRC: 0.20690 , F1: 0.21428 , Cross-entropy Loss: 4.10369\n",
            "Training at Epoch 8 iteration 0 with loss 0.17485. Total time 0.00666 hours\n",
            "Validation at Epoch 8, AUROC: 0.70699 , AUPRC: 0.24702 , F1: 0.225 , Cross-entropy Loss: 3.85498\n",
            "Training at Epoch 9 iteration 0 with loss 0.19507. Total time 0.00777 hours\n",
            "Validation at Epoch 9, AUROC: 0.70405 , AUPRC: 0.18249 , F1: 0.23943 , Cross-entropy Loss: 3.35756\n",
            "Training at Epoch 10 iteration 0 with loss 0.18456. Total time 0.00861 hours\n",
            "Validation at Epoch 10, AUROC: 0.70362 , AUPRC: 0.20462 , F1: 0.26086 , Cross-entropy Loss: 2.64252\n",
            "Training at Epoch 11 iteration 0 with loss 0.19542. Total time 0.00944 hours\n",
            "Validation at Epoch 11, AUROC: 0.70291 , AUPRC: 0.19080 , F1: 0.29059 , Cross-entropy Loss: 2.58034\n",
            "Training at Epoch 12 iteration 0 with loss 0.23230. Total time 0.01055 hours\n",
            "Validation at Epoch 12, AUROC: 0.70686 , AUPRC: 0.19986 , F1: 0.26984 , Cross-entropy Loss: 2.86014\n",
            "Training at Epoch 13 iteration 0 with loss 0.23734. Total time 0.01138 hours\n",
            "Validation at Epoch 13, AUROC: 0.70455 , AUPRC: 0.23684 , F1: 0.25 , Cross-entropy Loss: 2.79796\n",
            "Training at Epoch 14 iteration 0 with loss 0.23109. Total time 0.01222 hours\n",
            "Validation at Epoch 14, AUROC: 0.70371 , AUPRC: 0.22360 , F1: 0.22516 , Cross-entropy Loss: 3.63736\n",
            "Training at Epoch 15 iteration 0 with loss 0.22775. Total time 0.01333 hours\n",
            "Validation at Epoch 15, AUROC: 0.70444 , AUPRC: 0.25576 , F1: 0.24460 , Cross-entropy Loss: 3.26429\n",
            "--- Go for Testing ---\n",
            "Validation at Epoch 15 , AUROC: 0.70444 , AUPRC: 0.25576 , F1: 0.24460 , Cross-entropy Loss: 3.26429\n",
            "--- Training Finished ---\n"
          ]
        },
        {
          "output_type": "display_data",
          "data": {
            "image/png": "[encoded data removed]",
            "text/plain": [
              "<Figure size 432x288 with 1 Axes>"
            ]
          },
          "metadata": {
            "needs_background": "light"
          }
        },
        {
          "output_type": "display_data",
          "data": {
            "image/png": "[encoded data removed]",
            "text/plain": [
              "<Figure size 432x288 with 1 Axes>"
            ]
          },
          "metadata": {
            "needs_background": "light"
          }
        },
        {
          "output_type": "display_data",
          "data": {
            "image/png": "[encoded data removed]",
            "text/plain": [
              "<Figure size 432x288 with 1 Axes>"
            ]
          },
          "metadata": {
            "needs_background": "light"
          }
        }
      ],
      "source": [
        "from sklearn.model_selection import StratifiedKFold\n",
        "# Load Data, an array of SMILES for drug, an array of Amino Acid Sequence for Target and an array of binding values/0-1 label.\n",
        "# e.g. ['Cc1ccc(CNS(=O)(=O)c2ccc(s2)S(N)(=O)=O)cc1', ...], ['MSHHWGYGKHNGPEHWHKDFPIAKGERQSPVDIDTH...', ...], [0.46, 0.49, ...]\n",
        "# In this example, BindingDB with Kd binding score is used.\n",
        "# X_drug, X_target, y  = process_BindingDB(download_BindingDB(SAVE_PATH),\n",
        "# \t\t\t\t\t y = 'Kd', \n",
        "# \t\t\t\t\t binary = False, \n",
        "# \t\t\t\t\t convert_to_log = True)\n",
        "\n",
        "\n",
        "X_drug = list(train_df[SMILES_COL].values)\n",
        "X_target = [sequence] *train_df.shape[0]\n",
        "y = train_df.Active.values*1\n",
        "# Type in the encoding names for drug/protein.\n",
        "drug_encoding, target_encoding = 'Daylight', 'AAC'\n",
        "\n",
        "# Data processing, here we select cold protein split setup.\n",
        "train = data_process(\n",
        "    X_drug, X_target, y, \n",
        "    drug_encoding, target_encoding, \n",
        "    split_method=\"no_split\",\n",
        "    #split_method='random', \n",
        "    #frac=[0.9, 0.1, 0.0],\n",
        "    random_seed=RANDOM_SEED\n",
        ")\n",
        "#train_balanced = balance_data(train)\n",
        "\n",
        "# net = models.model_pretrained(model=MODEL_NAME, path_dir=TMP_DIR, )\n",
        "# net.config['train_epoch'] = 15*2\n",
        "# net.config['batch_size'] = 64\n",
        "# net.train(train_balanced, val)\n",
        "\n",
        "\n",
        "skf = StratifiedKFold(n_splits=NFOLDS, random_state=RANDOM_SEED, shuffle=True)\n",
        "for fold, (train_index, test_index) in enumerate(skf.split(train.index, train.Label)):\n",
        "    train_ds = train.loc[train_index].reset_index(drop=True)\n",
        "    val_ds = train.loc[test_index].reset_index(drop=True)\n",
        "    train_balanced = balance_data(train_ds)\n",
        "    net = model_pretrained(model=MODEL_NAME, path_dir=TMP_DIR/ f\"model{fold}\")\n",
        "    net.config['train_epoch'] = 5*3\n",
        "    net.config['batch_size'] = 64*2\n",
        "    net.config['decay'] = 0.1\n",
        "    net.config['result_folder'] = (TMP_DIR/\"results/\").as_posix()\n",
        "    net.train(train_balanced, val_ds, val_ds)\n",
        "    net.save_model((TMP_DIR/f\"model_save{fold}\").as_posix())\n",
        "    del net\n",
        "\n",
        "  # break"
      ]
    },
    {
      "cell_type": "code",
      "execution_count": 15,
      "metadata": {
        "id": "VqRFo-2rnYUV"
      },
      "outputs": [],
      "source": [
        "# net.config"
      ]
    },
    {
      "cell_type": "code",
      "execution_count": 16,
      "metadata": {
        "id": "PdP6tIINnYUV",
        "outputId": "43d7c286-62e0-43e8-d522-bd11ba3a7188",
        "colab": {
          "base_uri": "https://localhost:8080/"
        }
      },
      "outputs": [
        {
          "output_type": "stream",
          "name": "stdout",
          "text": [
            "Drug Target Interaction Prediction Mode...\n",
            "in total: 1614 drug-target pairs\n",
            "encoding drug...\n",
            "unique drugs: 1614\n",
            "encoding protein...\n",
            "unique target sequence: 1\n",
            "-- Encoding AAC takes time. Time Reference: 24s for ~100 sequences in a CPU.\t\t\t\t Calculate your time by the unique target sequence #, instead of the entire dataset.\n",
            "splitting dataset...\n",
            "do not do train/test split on the data for already splitted data\n",
            "Predicting with fold 0\n",
            "predicting...\n",
            "predicting...\n",
            "Predicting with fold 1\n",
            "predicting...\n",
            "predicting...\n",
            "Predicting with fold 2\n",
            "predicting...\n",
            "predicting...\n",
            "Predicting with fold 3\n",
            "predicting...\n",
            "predicting...\n",
            "Predicting with fold 4\n",
            "predicting...\n",
            "predicting...\n"
          ]
        }
      ],
      "source": [
        "X_drug = test_df.Smiles.values  # ['CC1=C2C=C(C=CC2=NN1)C3=CC(=CN=C3)OCC(CC4=CC=CC=C4)N']\n",
        "X_target = [sequence]*len(X_drug) # ['MKKFFDSRREQGGSGLGSGSSGGGGSTSGLGSGYIGRVFGIGRQQVTVDEVLAEGGFAIVFLVRTSNGMKCALKRMFVNNEHDLQVCKREIQIMRDLSGHKNIVGYIDSSINNVSSGDVWEVLILMDFCRGGQVVNLMNQRLQTGFTENEVLQIFCDTCEAVARLHQCKTPIIHRDLKVENILLHDRGHYVLCDFGSATNKFQNPQTEGVNAVEDEIKKYTTLSYRAPEMVNLYSGKIITTKADIWALGCLLYKLCYFTLPFGESQVAICDGNFTIPDNSRYSQDMHCLIRYMLEPDPDKRPDIYQVSYFSFKLLKKECPIPNVQNSPIPAKLPEPVKASEAAAKKTQPKARLTDPIPTTETSIAPRQRPKAGQTQPNPGILPIQPALTPRKRATVQPPPQAAGSSNQPGLLASVPQPKPQAPPSQPLPQTQAKQPQAPPTPQQTPSTQAQGLPAQAQATPQHQQQLFLKQQQQQQQPPPAQQQPAGTFYQQQQAQTQQFQAVHPATQKPAIAQFPVVSQGGSQQQLMQNFYQQQQQQQQQQQQQQLATALHQQQLMTQQAALQQKPTMAAGQQPQPQPAAAPQPAPAQEPAIQAPVRQQPKVQTTPPPAVQGQKVGSLTPPSSPKTQRAGHRRILSDVTHSAVFGVPASKSTQLLQAAAAEASLNKSKSATTTPSGSPRTSQQNVYNPSEGSTWNPFDDDNFSKLTAEELLNKDFAKLGEGKHPEKLGGSAESLIPGFQSTQGDAFATTSFSAGTAEKRKGGQTVDSGLPLLSVSDPFIPLQVPDAPEKLIEGLKSPDTSLLLPDLLPMTDPFGSTSDAVIEKADVAVESLIPGLEPPVPQRLPSQTESVTSNRTDSLTGEDSLLDCSLLSNPTTDLLEEFAPTAISAPVHKAAEDSNLISGFDVPEGSDKVAEDEFDPIPVLITKNPQGGHSRNSSGSSESSLPNLARSLLLVDQLIDL']\n",
        "y = [0.5]*len(X_drug)\n",
        "# from DeepPurpose import utils\n",
        "X_pred = data_process(\n",
        "    X_drug, X_target, y, \n",
        "    drug_encoding, target_encoding, \n",
        "    split_method='no_split',\n",
        "    random_seed=1\n",
        ")\n",
        "train_predictions = []\n",
        "test_predictions = []\n",
        "for fold in range(NFOLDS):\n",
        "    print(f\"Predicting with fold {fold}\")\n",
        "    net = model_pretrained((TMP_DIR/f\"model_save{fold}\").as_posix())\n",
        "    y_pred = net.predict(X_pred)\n",
        "    y_pred = np.asarray(y_pred)\n",
        "    test_predictions.append(y_pred)\n",
        "\n",
        "    train_pred = net.predict(train)\n",
        "    train_predictions.append(np.asarray(train_pred))"
      ]
    },
    {
      "cell_type": "code",
      "execution_count": 17,
      "metadata": {
        "id": "dDfUuW_SnYUW",
        "colab": {
          "base_uri": "https://localhost:8080/"
        },
        "outputId": "06fe24d8-f5e2-4d0c-c0ed-bdd1b211b81c"
      },
      "outputs": [
        {
          "output_type": "stream",
          "name": "stdout",
          "text": [
            "Optimal threshold: 0.4992350976914167\n",
            "F1 score: 0.6496\n"
          ]
        }
      ],
      "source": [
        "from sklearn.metrics import roc_curve, f1_score\n",
        "\n",
        "# todo: add cv\n",
        "def agg_strategy(predictions, method=\"mean\"):\n",
        "  predictions = np.stack(predictions)\n",
        "  if method == \"mean\":\n",
        "    return predictions.mean(0)\n",
        "  if method == \"median\":\n",
        "    return np.median(predictions, axis=0)\n",
        "  return predictions.min(0)\n",
        "\n",
        "train_scores = agg_strategy(train_predictions)\n",
        "\n",
        "fpr, tpr, thresholds = roc_curve(train.Label.values, train_scores)\n",
        "optimal_threshold = thresholds[np.argmax(tpr-fpr)]\n",
        "print(\"Optimal threshold:\", optimal_threshold)\n",
        "print(\"F1 score:\", f1_score(train.Label.values, train_scores >= optimal_threshold))"
      ]
    },
    {
      "cell_type": "code",
      "execution_count": 17,
      "metadata": {
        "id": "3hsxkfF7nYUW"
      },
      "outputs": [],
      "source": [
        ""
      ]
    },
    {
      "cell_type": "code",
      "source": [
        "\n",
        "test_df['Active'] = agg_strategy(test_predictions) >= optimal_threshold"
      ],
      "metadata": {
        "id": "w2kHMXenH2ZP"
      },
      "execution_count": 18,
      "outputs": []
    },
    {
      "cell_type": "code",
      "source": [
        "SUBMISSION_NAME = \"submission_deeppurpose_v0_v1.csv\"\n",
        "test_df.to_csv(SUBMISSION_NAME)"
      ],
      "metadata": {
        "id": "4BHOHvo8ITQq"
      },
      "execution_count": 19,
      "outputs": []
    },
    {
      "cell_type": "code",
      "source": [
        "from google.colab import files\n",
        "files.download(SUBMISSION_NAME) "
      ],
      "metadata": {
        "colab": {
          "base_uri": "https://localhost:8080/",
          "height": 17
        },
        "id": "M2ZjVDZyJWYT",
        "outputId": "fc14a58c-ba4e-413e-cd57-d64cf44b7320"
      },
      "execution_count": 20,
      "outputs": [
        {
          "output_type": "display_data",
          "data": {
            "application/javascript": [
              "\n",
              "    async function download(id, filename, size) {\n",
              "      if (!google.colab.kernel.accessAllowed) {\n",
              "        return;\n",
              "      }\n",
              "      const div = document.createElement('div');\n",
              "      const label = document.createElement('label');\n",
              "      label.textContent = `Downloading \"${filename}\": `;\n",
              "      div.appendChild(label);\n",
              "      const progress = document.createElement('progress');\n",
              "      progress.max = size;\n",
              "      div.appendChild(progress);\n",
              "      document.body.appendChild(div);\n",
              "\n",
              "      const buffers = [];\n",
              "      let downloaded = 0;\n",
              "\n",
              "      const channel = await google.colab.kernel.comms.open(id);\n",
              "      // Send a message to notify the kernel that we're ready.\n",
              "      channel.send({})\n",
              "\n",
              "      for await (const message of channel.messages) {\n",
              "        // Send a message to notify the kernel that we're ready.\n",
              "        channel.send({})\n",
              "        if (message.buffers) {\n",
              "          for (const buffer of message.buffers) {\n",
              "            buffers.push(buffer);\n",
              "            downloaded += buffer.byteLength;\n",
              "            progress.value = downloaded;\n",
              "          }\n",
              "        }\n",
              "      }\n",
              "      const blob = new Blob(buffers, {type: 'application/binary'});\n",
              "      const a = document.createElement('a');\n",
              "      a.href = window.URL.createObjectURL(blob);\n",
              "      a.download = filename;\n",
              "      div.appendChild(a);\n",
              "      a.click();\n",
              "      div.remove();\n",
              "    }\n",
              "  "
            ],
            "text/plain": [
              "<IPython.core.display.Javascript object>"
            ]
          },
          "metadata": {}
        },
        {
          "output_type": "display_data",
          "data": {
            "application/javascript": [
              "download(\"download_7f627b22-3bb3-41f0-8c3c-dff97ac76a20\", \"submission_deeppurpose_v0_v1.csv\", 178208)"
            ],
            "text/plain": [
              "<IPython.core.display.Javascript object>"
            ]
          },
          "metadata": {}
        }
      ]
    },
    {
      "cell_type": "code",
      "source": [
        ""
      ],
      "metadata": {
        "id": "pafrNnh7JwJd"
      },
      "execution_count": 20,
      "outputs": []
    }
  ],
  "metadata": {
    "interpreter": {
      "hash": "d632e93423067b2b9b1b8d52846f85c868da433699adad534ad2cc6673775271"
    },
    "kernelspec": {
      "display_name": "Python 3.7.12 ('data_env')",
      "language": "python",
      "name": "python3"
    },
    "language_info": {
      "codemirror_mode": {
        "name": "ipython",
        "version": 3
      },
      "file_extension": ".py",
      "mimetype": "text/x-python",
      "name": "python",
      "nbconvert_exporter": "python",
      "pygments_lexer": "ipython3",
      "version": "3.7.12"
    },
    "orig_nbformat": 4,
    "colab": {
      "name": "deep_purpose_v0.ipynb",
      "provenance": [],
      "collapsed_sections": []
    },
    "accelerator": "GPU"
  },
  "nbformat": 4,
  "nbformat_minor": 0
}