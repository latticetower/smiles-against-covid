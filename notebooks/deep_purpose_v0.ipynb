{
 "cells": [
  {
   "cell_type": "markdown",
   "metadata": {},
   "source": [
    "https://github.com/kexinhuang12345/DeepPurpose\n"
   ]
  },
  {
   "cell_type": "code",
   "execution_count": 71,
   "metadata": {},
   "outputs": [],
   "source": [
    "import warnings\n",
    "warnings.filterwarnings(\"ignore\")\n",
    "from pathlib import Path\n",
    "import pandas as pd\n",
    "from DeepPurpose import DTI as models\n",
    "from DeepPurpose.utils import *\n",
    "from DeepPurpose.dataset import *\n"
   ]
  },
  {
   "cell_type": "code",
   "execution_count": 72,
   "metadata": {},
   "outputs": [],
   "source": [
    "# Cell with constants\n",
    "DATADIR = Path(\"../data\")\n",
    "RANDOM_SEED = 2407\n",
    "\n",
    "TMP_DIR = Path(\"../tmp\")\n",
    "TMP_DIR.mkdir(exist_ok=True)\n",
    "\n",
    "train_df = pd.read_csv(DATADIR / \"train.csv\", index_col=0)\n",
    "test_df = pd.read_csv(DATADIR / \"test.csv\", index_col=0)\n",
    "\n",
    "MODEL_NAME = 'Morgan_AAC_BindingDB'"
   ]
  },
  {
   "cell_type": "code",
   "execution_count": 73,
   "metadata": {},
   "outputs": [
    {
     "name": "stderr",
     "output_type": "stream",
     "text": [
      "@> 2874 atoms and 1 coordinate set(s) were parsed in 0.11s.\n",
      "DEBUG:.prody:2874 atoms and 1 coordinate set(s) were parsed in 0.11s.\n"
     ]
    },
    {
     "data": {
      "text/plain": [
       "'EVNSFSGYLKLTDNVYIKNADIVEEAKKVKPTVVVNAANVYLKHGGGVAGALNKATNNAMQVESDDYIATNGPLKVGGSCVLSGHNLAKHCLHVVGPNVNKGEDIQLLKSAYENFNQHEVLLAPLLSAGIFGADPIHSLRVCVDTVRTNVYLAVFDKNLYDKLVSSFLE'"
      ]
     },
     "execution_count": 73,
     "metadata": {},
     "output_type": "execute_result"
    }
   ],
   "source": [
    "from prody import parsePDB\n",
    "structure = parsePDB((DATADIR / 'target.pdb').as_posix(), debug=False)\n",
    "#[x.name for x in structure.get_atoms() if not x.is_disordered()]\n",
    "# [x.get_resname() for x in structure.get_residues()]\n",
    "#structure.getSequence(), structure.getResnums(), [a for a in structure.iterAtoms()]\n",
    "list(structure.iterChains())\n",
    "calphas = structure.chain_A_and_calpha\n",
    "sequence = calphas.getSequence()\n",
    "sequence"
   ]
  },
  {
   "cell_type": "code",
   "execution_count": 115,
   "metadata": {},
   "outputs": [],
   "source": [
    "def balance_data(train_df, target_col=\"Label\"):\n",
    "    df = train_df[target_col].value_counts()\n",
    "    m = df.max()\n",
    "    new_index = []\n",
    "    for i, c in df.reset_index().values:\n",
    "        ids = train_df[target_col]==i\n",
    "        values = train_df[ids].index\n",
    "        if c == m:\n",
    "            new_index.extend(values)\n",
    "        else:\n",
    "            new_index.extend(np.random.choice(values, m))\n",
    "    return train_df.loc[new_index]"
   ]
  },
  {
   "cell_type": "code",
   "execution_count": 87,
   "metadata": {},
   "outputs": [
    {
     "name": "stdout",
     "output_type": "stream",
     "text": [
      "Drug Target Interaction Prediction Mode...\n",
      "in total: 5557 drug-target pairs\n",
      "encoding drug...\n",
      "unique drugs: 5557\n",
      "encoding protein...\n",
      "unique target sequence: 1\n",
      "-- Encoding AAC takes time. Time Reference: 24s for ~100 sequences in a CPU.\t\t\t\t Calculate your time by the unique target sequence #, instead of the entire dataset.\n",
      "splitting dataset...\n",
      "Done.\n",
      "Dataset already downloaded in the local system...\n",
      "Let's use CPU/s!\n",
      "--- Data Preparation ---\n",
      "--- Go for Training ---\n",
      "Training at Epoch 1 iteration 0 with loss 4.91981. Total time 0.00027 hours\n",
      "Validation at Epoch 1, AUROC: 0.43080 , AUPRC: 0.03290 , F1: 0.06608 , Cross-entropy Loss: 33.3592\n",
      "Training at Epoch 2 iteration 0 with loss 0.90398. Total time 0.00361 hours\n",
      "Validation at Epoch 2, AUROC: 0.47378 , AUPRC: 0.03251 , F1: 0.0 , Cross-entropy Loss: 1.18028\n",
      "Training at Epoch 3 iteration 0 with loss 0.20962. Total time 0.00722 hours\n",
      "Validation at Epoch 3, AUROC: 0.51190 , AUPRC: 0.03565 , F1: 0.0 , Cross-entropy Loss: 1.18028\n",
      "Training at Epoch 4 iteration 0 with loss 0.14193. Total time 0.00972 hours\n",
      "Validation at Epoch 4, AUROC: 0.55385 , AUPRC: 0.04170 , F1: 0.0 , Cross-entropy Loss: 1.18028\n",
      "Training at Epoch 5 iteration 0 with loss 0.12134. Total time 0.0125 hours\n",
      "Validation at Epoch 5, AUROC: 0.58718 , AUPRC: 0.04792 , F1: 0.0 , Cross-entropy Loss: 1.18028\n",
      "Training at Epoch 6 iteration 0 with loss 0.12769. Total time 0.015 hours\n",
      "Validation at Epoch 6, AUROC: 0.60707 , AUPRC: 0.05714 , F1: 0.0 , Cross-entropy Loss: 1.18028\n",
      "Training at Epoch 7 iteration 0 with loss 0.06448. Total time 0.01861 hours\n",
      "Validation at Epoch 7, AUROC: 0.62373 , AUPRC: 0.07159 , F1: 0.0 , Cross-entropy Loss: 1.18028\n",
      "Training at Epoch 8 iteration 0 with loss 0.03627. Total time 0.02444 hours\n",
      "Validation at Epoch 8, AUROC: 0.61589 , AUPRC: 0.08173 , F1: 0.09523 , Cross-entropy Loss: 1.18028\n",
      "Training at Epoch 9 iteration 0 with loss 0.02316. Total time 0.02833 hours\n",
      "Validation at Epoch 9, AUROC: 0.62040 , AUPRC: 0.11165 , F1: 0.08 , Cross-entropy Loss: 1.42876\n",
      "Training at Epoch 10 iteration 0 with loss 0.00762. Total time 0.03361 hours\n",
      "Validation at Epoch 10, AUROC: 0.62795 , AUPRC: 0.11206 , F1: 0.07407 , Cross-entropy Loss: 1.55301\n",
      "Training at Epoch 11 iteration 0 with loss 0.00032. Total time 0.03888 hours\n",
      "Validation at Epoch 11, AUROC: 0.62550 , AUPRC: 0.11403 , F1: 0.08695 , Cross-entropy Loss: 1.30452\n",
      "Training at Epoch 12 iteration 0 with loss 0.00904. Total time 0.04222 hours\n",
      "Validation at Epoch 12, AUROC: 0.61824 , AUPRC: 0.11179 , F1: 0.12903 , Cross-entropy Loss: 1.67725\n",
      "Training at Epoch 13 iteration 0 with loss 0.00051. Total time 0.045 hours\n",
      "Validation at Epoch 13, AUROC: 0.62618 , AUPRC: 0.11067 , F1: 0.08333 , Cross-entropy Loss: 1.36664\n",
      "Training at Epoch 14 iteration 0 with loss 0.00060. Total time 0.04833 hours\n",
      "Validation at Epoch 14, AUROC: 0.62491 , AUPRC: 0.10910 , F1: 0.08333 , Cross-entropy Loss: 1.36664\n",
      "Training at Epoch 15 iteration 0 with loss 0.00025. Total time 0.05222 hours\n",
      "Validation at Epoch 15, AUROC: 0.62266 , AUPRC: 0.10816 , F1: 0.07692 , Cross-entropy Loss: 1.49089\n",
      "Training at Epoch 16 iteration 0 with loss 0.00031. Total time 0.05583 hours\n",
      "Validation at Epoch 16, AUROC: 0.62001 , AUPRC: 0.10855 , F1: 0.07692 , Cross-entropy Loss: 1.49089\n",
      "Training at Epoch 17 iteration 0 with loss 6.63664. Total time 0.05916 hours\n",
      "Validation at Epoch 17, AUROC: 0.61756 , AUPRC: 0.10788 , F1: 0.08333 , Cross-entropy Loss: 1.36664\n",
      "Training at Epoch 18 iteration 0 with loss 4.92775. Total time 0.06194 hours\n",
      "Validation at Epoch 18, AUROC: 0.61775 , AUPRC: 0.10783 , F1: 0.08 , Cross-entropy Loss: 1.42876\n",
      "Training at Epoch 19 iteration 0 with loss 0.00720. Total time 0.06555 hours\n",
      "Validation at Epoch 19, AUROC: 0.61697 , AUPRC: 0.10806 , F1: 0.08333 , Cross-entropy Loss: 1.36664\n",
      "Training at Epoch 20 iteration 0 with loss 0.00067. Total time 0.06916 hours\n",
      "Validation at Epoch 20, AUROC: 0.61707 , AUPRC: 0.10851 , F1: 0.08333 , Cross-entropy Loss: 1.36664\n",
      "Training at Epoch 21 iteration 0 with loss 0.00010. Total time 0.07111 hours\n",
      "Validation at Epoch 21, AUROC: 0.61452 , AUPRC: 0.10819 , F1: 0.08 , Cross-entropy Loss: 1.42876\n",
      "Training at Epoch 22 iteration 0 with loss 5.10317. Total time 0.07333 hours\n",
      "Validation at Epoch 22, AUROC: 0.61060 , AUPRC: 0.10695 , F1: 0.08 , Cross-entropy Loss: 1.42876\n",
      "Training at Epoch 23 iteration 0 with loss 3.92708. Total time 0.07527 hours\n",
      "Validation at Epoch 23, AUROC: 0.60874 , AUPRC: 0.10707 , F1: 0.07692 , Cross-entropy Loss: 1.49089\n",
      "Training at Epoch 24 iteration 0 with loss 1.95744. Total time 0.0775 hours\n",
      "Validation at Epoch 24, AUROC: 0.60972 , AUPRC: 0.10677 , F1: 0.08 , Cross-entropy Loss: 1.42876\n",
      "Training at Epoch 25 iteration 0 with loss 1.48283. Total time 0.07944 hours\n",
      "Validation at Epoch 25, AUROC: 0.61050 , AUPRC: 0.10739 , F1: 0.08333 , Cross-entropy Loss: 1.36664\n",
      "Training at Epoch 26 iteration 0 with loss 1.37666. Total time 0.08166 hours\n",
      "Validation at Epoch 26, AUROC: 0.60305 , AUPRC: 0.06468 , F1: 0.0 , Cross-entropy Loss: 1.42876\n",
      "Training at Epoch 27 iteration 0 with loss 0.00018. Total time 0.08361 hours\n",
      "Validation at Epoch 27, AUROC: 0.60609 , AUPRC: 0.08064 , F1: 0.08 , Cross-entropy Loss: 1.42876\n",
      "Training at Epoch 28 iteration 0 with loss 0.00271. Total time 0.08555 hours\n",
      "Validation at Epoch 28, AUROC: 0.60550 , AUPRC: 0.07976 , F1: 0.08333 , Cross-entropy Loss: 1.36664\n",
      "Training at Epoch 29 iteration 0 with loss 0.00413. Total time 0.0875 hours\n",
      "Validation at Epoch 29, AUROC: 0.59590 , AUPRC: 0.06973 , F1: 0.08 , Cross-entropy Loss: 1.42876\n",
      "Training at Epoch 30 iteration 0 with loss 1.16420. Total time 0.09416 hours\n",
      "Validation at Epoch 30, AUROC: 0.59658 , AUPRC: 0.06617 , F1: 0.06896 , Cross-entropy Loss: 1.67725\n",
      "Training at Epoch 31 iteration 0 with loss 7.01063. Total time 0.09805 hours\n",
      "Validation at Epoch 31, AUROC: 0.59453 , AUPRC: 0.06880 , F1: 0.08 , Cross-entropy Loss: 1.42876\n",
      "Training at Epoch 32 iteration 0 with loss 0.00879. Total time 0.10138 hours\n",
      "Validation at Epoch 32, AUROC: 0.58992 , AUPRC: 0.07644 , F1: 0.08333 , Cross-entropy Loss: 1.36664\n",
      "Training at Epoch 33 iteration 0 with loss 0.01173. Total time 0.10416 hours\n",
      "Validation at Epoch 33, AUROC: 0.59364 , AUPRC: 0.07647 , F1: 0.08333 , Cross-entropy Loss: 1.36664\n",
      "Training at Epoch 34 iteration 0 with loss 0.00313. Total time 0.10694 hours\n",
      "Validation at Epoch 34, AUROC: 0.59717 , AUPRC: 0.07629 , F1: 0.08695 , Cross-entropy Loss: 1.30452\n",
      "Training at Epoch 35 iteration 0 with loss 1.33194. Total time 0.11055 hours\n",
      "Validation at Epoch 35, AUROC: 0.60413 , AUPRC: 0.07820 , F1: 0.08695 , Cross-entropy Loss: 1.30452\n",
      "Training at Epoch 36 iteration 0 with loss 4.66555. Total time 0.11305 hours\n",
      "Validation at Epoch 36, AUROC: 0.59894 , AUPRC: 0.06803 , F1: 0.08 , Cross-entropy Loss: 1.42876\n",
      "Training at Epoch 37 iteration 0 with loss 0.00222. Total time 0.11611 hours\n",
      "Validation at Epoch 37, AUROC: 0.59502 , AUPRC: 0.06599 , F1: 0.08 , Cross-entropy Loss: 1.42876\n",
      "Training at Epoch 38 iteration 0 with loss 8.82957. Total time 0.11833 hours\n",
      "Validation at Epoch 38, AUROC: 0.59355 , AUPRC: 0.07407 , F1: 0.08695 , Cross-entropy Loss: 1.30452\n",
      "Training at Epoch 39 iteration 0 with loss 2.28176. Total time 0.12138 hours\n",
      "Validation at Epoch 39, AUROC: 0.57159 , AUPRC: 0.07442 , F1: 0.09090 , Cross-entropy Loss: 1.24240\n",
      "Training at Epoch 40 iteration 0 with loss 0.01455. Total time 0.12416 hours\n",
      "Validation at Epoch 40, AUROC: 0.55150 , AUPRC: 0.05587 , F1: 0.06451 , Cross-entropy Loss: 1.80149\n",
      "Training at Epoch 41 iteration 0 with loss 0.03402. Total time 0.12666 hours\n",
      "Validation at Epoch 41, AUROC: 0.58796 , AUPRC: 0.07447 , F1: 0.07142 , Cross-entropy Loss: 1.61513\n",
      "Training at Epoch 42 iteration 0 with loss 0.00012. Total time 0.13 hours\n",
      "Validation at Epoch 42, AUROC: 0.57502 , AUPRC: 0.05635 , F1: 0.05128 , Cross-entropy Loss: 2.29847\n",
      "Training at Epoch 43 iteration 0 with loss 0.00019. Total time 0.13305 hours\n",
      "Validation at Epoch 43, AUROC: 0.59384 , AUPRC: 0.07738 , F1: 0.08333 , Cross-entropy Loss: 1.36664\n",
      "Training at Epoch 44 iteration 0 with loss 0.00279. Total time 0.13611 hours\n",
      "Validation at Epoch 44, AUROC: 0.61599 , AUPRC: 0.07606 , F1: 0.06896 , Cross-entropy Loss: 1.67725\n",
      "Training at Epoch 45 iteration 0 with loss 0.00042. Total time 0.13833 hours\n",
      "Validation at Epoch 45, AUROC: 0.63148 , AUPRC: 0.07554 , F1: 0.0625 , Cross-entropy Loss: 1.86362\n",
      "Training at Epoch 46 iteration 0 with loss 0.00650. Total time 0.14083 hours\n",
      "Validation at Epoch 46, AUROC: 0.63510 , AUPRC: 0.07249 , F1: 0.07142 , Cross-entropy Loss: 1.61513\n",
      "Training at Epoch 47 iteration 0 with loss 0.00021. Total time 0.14305 hours\n",
      "Validation at Epoch 47, AUROC: 0.62765 , AUPRC: 0.07186 , F1: 0.06451 , Cross-entropy Loss: 1.80149\n",
      "Training at Epoch 48 iteration 0 with loss 4.10098. Total time 0.14555 hours\n",
      "Validation at Epoch 48, AUROC: 0.62599 , AUPRC: 0.07232 , F1: 0.06666 , Cross-entropy Loss: 1.73937\n",
      "Training at Epoch 49 iteration 0 with loss 0.39073. Total time 0.14888 hours\n",
      "Validation at Epoch 49, AUROC: 0.62383 , AUPRC: 0.07114 , F1: 0.07407 , Cross-entropy Loss: 1.55301\n",
      "Training at Epoch 50 iteration 0 with loss 3.68543. Total time 0.15222 hours\n",
      "Validation at Epoch 50, AUROC: 0.62511 , AUPRC: 0.07155 , F1: 0.07407 , Cross-entropy Loss: 1.55301\n",
      "Training at Epoch 51 iteration 0 with loss 1.68440. Total time 0.15527 hours\n",
      "Validation at Epoch 51, AUROC: 0.62530 , AUPRC: 0.07133 , F1: 0.07407 , Cross-entropy Loss: 1.55301\n",
      "Training at Epoch 52 iteration 0 with loss 2.80125. Total time 0.15861 hours\n",
      "Validation at Epoch 52, AUROC: 0.62560 , AUPRC: 0.07154 , F1: 0.06896 , Cross-entropy Loss: 1.67725\n",
      "Training at Epoch 53 iteration 0 with loss 4.00535. Total time 0.16111 hours\n",
      "Validation at Epoch 53, AUROC: 0.62462 , AUPRC: 0.07107 , F1: 0.06666 , Cross-entropy Loss: 1.73937\n",
      "Training at Epoch 54 iteration 0 with loss 9.26512. Total time 0.16416 hours\n",
      "Validation at Epoch 54, AUROC: 0.62413 , AUPRC: 0.07055 , F1: 0.06896 , Cross-entropy Loss: 1.67725\n",
      "Training at Epoch 55 iteration 0 with loss 3.69279. Total time 0.16666 hours\n",
      "Validation at Epoch 55, AUROC: 0.62388 , AUPRC: 0.06607 , F1: 0.06896 , Cross-entropy Loss: 1.67725\n",
      "Training at Epoch 56 iteration 0 with loss 1.83936. Total time 0.16916 hours\n",
      "Validation at Epoch 56, AUROC: 0.62417 , AUPRC: 0.06595 , F1: 0.07142 , Cross-entropy Loss: 1.61513\n",
      "Training at Epoch 57 iteration 0 with loss 1.86264. Total time 0.17194 hours\n",
      "Validation at Epoch 57, AUROC: 0.62368 , AUPRC: 0.06583 , F1: 0.06896 , Cross-entropy Loss: 1.67725\n",
      "Training at Epoch 58 iteration 0 with loss 4.21424. Total time 0.17444 hours\n",
      "Validation at Epoch 58, AUROC: 0.62339 , AUPRC: 0.06581 , F1: 0.06896 , Cross-entropy Loss: 1.67725\n",
      "Training at Epoch 59 iteration 0 with loss 9.96523. Total time 0.17722 hours\n",
      "Validation at Epoch 59, AUROC: 0.62349 , AUPRC: 0.06583 , F1: 0.06666 , Cross-entropy Loss: 1.73937\n",
      "Training at Epoch 60 iteration 0 with loss 8.35009. Total time 0.17972 hours\n",
      "Validation at Epoch 60, AUROC: 0.62319 , AUPRC: 0.06575 , F1: 0.06666 , Cross-entropy Loss: 1.73937\n",
      "Training at Epoch 61 iteration 0 with loss 2.46341. Total time 0.18222 hours\n",
      "Validation at Epoch 61, AUROC: 0.62319 , AUPRC: 0.06568 , F1: 0.06896 , Cross-entropy Loss: 1.67725\n",
      "Training at Epoch 62 iteration 0 with loss 6.65901. Total time 0.18527 hours\n",
      "Validation at Epoch 62, AUROC: 0.62310 , AUPRC: 0.06576 , F1: 0.06666 , Cross-entropy Loss: 1.73937\n",
      "Training at Epoch 63 iteration 0 with loss 1.44355. Total time 0.18777 hours\n",
      "Validation at Epoch 63, AUROC: 0.62261 , AUPRC: 0.06562 , F1: 0.06666 , Cross-entropy Loss: 1.73937\n",
      "Training at Epoch 64 iteration 0 with loss 0.00215. Total time 0.19027 hours\n",
      "Validation at Epoch 64, AUROC: 0.62359 , AUPRC: 0.06631 , F1: 0.06666 , Cross-entropy Loss: 1.73937\n",
      "Training at Epoch 65 iteration 0 with loss 0.00221. Total time 0.19305 hours\n",
      "Validation at Epoch 65, AUROC: 0.62339 , AUPRC: 0.06630 , F1: 0.06666 , Cross-entropy Loss: 1.73937\n",
      "Training at Epoch 66 iteration 0 with loss 2.79397. Total time 0.19527 hours\n",
      "Validation at Epoch 66, AUROC: 0.62114 , AUPRC: 0.06580 , F1: 0.06666 , Cross-entropy Loss: 1.73937\n",
      "Training at Epoch 67 iteration 0 with loss 3.46918. Total time 0.19777 hours\n",
      "Validation at Epoch 67, AUROC: 0.62202 , AUPRC: 0.06616 , F1: 0.06666 , Cross-entropy Loss: 1.73937\n",
      "Training at Epoch 68 iteration 0 with loss 3.05008. Total time 0.20055 hours\n",
      "Validation at Epoch 68, AUROC: 0.62221 , AUPRC: 0.06601 , F1: 0.06666 , Cross-entropy Loss: 1.73937\n",
      "Training at Epoch 69 iteration 0 with loss 3.18978. Total time 0.20277 hours\n",
      "Validation at Epoch 69, AUROC: 0.62221 , AUPRC: 0.06591 , F1: 0.06666 , Cross-entropy Loss: 1.73937\n",
      "Training at Epoch 70 iteration 0 with loss 2.78940. Total time 0.20527 hours\n",
      "Validation at Epoch 70, AUROC: 0.62290 , AUPRC: 0.06609 , F1: 0.06666 , Cross-entropy Loss: 1.73937\n",
      "Training at Epoch 71 iteration 0 with loss 0.00270. Total time 0.20777 hours\n",
      "Validation at Epoch 71, AUROC: 0.62290 , AUPRC: 0.06602 , F1: 0.06666 , Cross-entropy Loss: 1.73937\n",
      "Training at Epoch 72 iteration 0 with loss 7.21775. Total time 0.21027 hours\n",
      "Validation at Epoch 72, AUROC: 0.62261 , AUPRC: 0.06598 , F1: 0.06666 , Cross-entropy Loss: 1.73937\n",
      "Training at Epoch 73 iteration 0 with loss 2.56113. Total time 0.21277 hours\n",
      "Validation at Epoch 73, AUROC: 0.62221 , AUPRC: 0.06583 , F1: 0.06666 , Cross-entropy Loss: 1.73937\n",
      "Training at Epoch 74 iteration 0 with loss 1.39698. Total time 0.21527 hours\n",
      "Validation at Epoch 74, AUROC: 0.62212 , AUPRC: 0.06566 , F1: 0.06666 , Cross-entropy Loss: 1.73937\n",
      "Training at Epoch 75 iteration 0 with loss 0.00266. Total time 0.21777 hours\n",
      "Validation at Epoch 75, AUROC: 0.62290 , AUPRC: 0.06584 , F1: 0.06896 , Cross-entropy Loss: 1.67725\n",
      "Training at Epoch 76 iteration 0 with loss 0.39062. Total time 0.22027 hours\n",
      "Validation at Epoch 76, AUROC: 0.62094 , AUPRC: 0.06556 , F1: 0.06666 , Cross-entropy Loss: 1.73937\n",
      "Training at Epoch 77 iteration 0 with loss 5.35510. Total time 0.22277 hours\n",
      "Validation at Epoch 77, AUROC: 0.62153 , AUPRC: 0.06572 , F1: 0.06666 , Cross-entropy Loss: 1.73937\n",
      "Training at Epoch 78 iteration 0 with loss 1.49011. Total time 0.22527 hours\n",
      "Validation at Epoch 78, AUROC: 0.62182 , AUPRC: 0.06566 , F1: 0.06666 , Cross-entropy Loss: 1.73937\n",
      "Training at Epoch 79 iteration 0 with loss 2.06570. Total time 0.22777 hours\n",
      "Validation at Epoch 79, AUROC: 0.62163 , AUPRC: 0.06557 , F1: 0.06666 , Cross-entropy Loss: 1.73937\n",
      "Training at Epoch 80 iteration 0 with loss 2.32830. Total time 0.23027 hours\n",
      "Validation at Epoch 80, AUROC: 0.62339 , AUPRC: 0.06658 , F1: 0.06666 , Cross-entropy Loss: 1.73937\n",
      "Training at Epoch 81 iteration 0 with loss 1.23400. Total time 0.23277 hours\n",
      "Validation at Epoch 81, AUROC: 0.62334 , AUPRC: 0.06101 , F1: 0.06666 , Cross-entropy Loss: 1.73937\n",
      "Training at Epoch 82 iteration 0 with loss 0.0. Total time 0.23527 hours\n",
      "Validation at Epoch 82, AUROC: 0.62324 , AUPRC: 0.06093 , F1: 0.06666 , Cross-entropy Loss: 1.73937\n",
      "Training at Epoch 83 iteration 0 with loss 1.04162. Total time 0.23777 hours\n",
      "Validation at Epoch 83, AUROC: 0.62310 , AUPRC: 0.06211 , F1: 0.06666 , Cross-entropy Loss: 1.73937\n",
      "Training at Epoch 84 iteration 0 with loss 1.00117. Total time 0.24027 hours\n",
      "Validation at Epoch 84, AUROC: 0.62167 , AUPRC: 0.06080 , F1: 0.06451 , Cross-entropy Loss: 1.80149\n",
      "Training at Epoch 85 iteration 0 with loss 1.16415. Total time 0.24305 hours\n",
      "Validation at Epoch 85, AUROC: 0.62246 , AUPRC: 0.06057 , F1: 0.06451 , Cross-entropy Loss: 1.80149\n",
      "Training at Epoch 86 iteration 0 with loss 0.0. Total time 0.24555 hours\n",
      "Validation at Epoch 86, AUROC: 0.62266 , AUPRC: 0.06361 , F1: 0.06666 , Cross-entropy Loss: 1.73937\n",
      "Training at Epoch 87 iteration 0 with loss 0.0. Total time 0.24805 hours\n",
      "Validation at Epoch 87, AUROC: 0.62329 , AUPRC: 0.06639 , F1: 0.06896 , Cross-entropy Loss: 1.67725\n",
      "Training at Epoch 88 iteration 0 with loss 2.32830. Total time 0.25083 hours\n",
      "Validation at Epoch 88, AUROC: 0.62310 , AUPRC: 0.06634 , F1: 0.06896 , Cross-entropy Loss: 1.67725\n",
      "Training at Epoch 89 iteration 0 with loss 3.25963. Total time 0.25333 hours\n",
      "Validation at Epoch 89, AUROC: 0.62339 , AUPRC: 0.06634 , F1: 0.06896 , Cross-entropy Loss: 1.67725\n",
      "Training at Epoch 90 iteration 0 with loss 2.32830. Total time 0.25611 hours\n",
      "Validation at Epoch 90, AUROC: 0.62310 , AUPRC: 0.06634 , F1: 0.06896 , Cross-entropy Loss: 1.67725\n",
      "Training at Epoch 91 iteration 0 with loss 1.16415. Total time 0.25888 hours\n",
      "Validation at Epoch 91, AUROC: 0.62315 , AUPRC: 0.06365 , F1: 0.06896 , Cross-entropy Loss: 1.67725\n",
      "Training at Epoch 92 iteration 0 with loss 0.39062. Total time 0.26138 hours\n",
      "Validation at Epoch 92, AUROC: 0.62319 , AUPRC: 0.06212 , F1: 0.06896 , Cross-entropy Loss: 1.67725\n",
      "Training at Epoch 93 iteration 0 with loss 0.00323. Total time 0.26416 hours\n",
      "Validation at Epoch 93, AUROC: 0.62285 , AUPRC: 0.06072 , F1: 0.06666 , Cross-entropy Loss: 1.73937\n",
      "Training at Epoch 94 iteration 0 with loss 2.32830. Total time 0.26666 hours\n",
      "Validation at Epoch 94, AUROC: 0.62285 , AUPRC: 0.06077 , F1: 0.06451 , Cross-entropy Loss: 1.80149\n",
      "Training at Epoch 95 iteration 0 with loss 0.39062. Total time 0.26916 hours\n",
      "Validation at Epoch 95, AUROC: 0.62305 , AUPRC: 0.06084 , F1: 0.06896 , Cross-entropy Loss: 1.67725\n",
      "Training at Epoch 96 iteration 0 with loss 0.0. Total time 0.27194 hours\n",
      "Validation at Epoch 96, AUROC: 0.62315 , AUPRC: 0.06099 , F1: 0.06896 , Cross-entropy Loss: 1.67725\n",
      "Training at Epoch 97 iteration 0 with loss 0.0. Total time 0.27472 hours\n",
      "Validation at Epoch 97, AUROC: 0.62315 , AUPRC: 0.06105 , F1: 0.06451 , Cross-entropy Loss: 1.80149\n",
      "Training at Epoch 98 iteration 0 with loss 4.65661. Total time 0.27722 hours\n",
      "Validation at Epoch 98, AUROC: 0.62275 , AUPRC: 0.06094 , F1: 0.06451 , Cross-entropy Loss: 1.80149\n",
      "Training at Epoch 99 iteration 0 with loss 0.39062. Total time 0.28 hours\n",
      "Validation at Epoch 99, AUROC: 0.62315 , AUPRC: 0.06107 , F1: 0.06451 , Cross-entropy Loss: 1.80149\n",
      "Training at Epoch 100 iteration 0 with loss 4.65661. Total time 0.28305 hours\n",
      "Validation at Epoch 100, AUROC: 0.62295 , AUPRC: 0.06105 , F1: 0.06451 , Cross-entropy Loss: 1.80149\n",
      "--- Go for Testing ---\n",
      "Validation at Epoch 100 , AUROC: 0.70486 , AUPRC: 0.23864 , F1: 0.14285 , Cross-entropy Loss: 1.11916\n",
      "--- Training Finished ---\n"
     ]
    },
    {
     "data": {
      "image/png": "[encoded data removed]",
      "text/plain": [
       "<Figure size 432x288 with 1 Axes>"
      ]
     },
     "metadata": {
      "needs_background": "light"
     },
     "output_type": "display_data"
    },
    {
     "data": {
      "image/png": "[encoded data removed]",
      "text/plain": [
       "<Figure size 432x288 with 1 Axes>"
      ]
     },
     "metadata": {
      "needs_background": "light"
     },
     "output_type": "display_data"
    },
    {
     "data": {
      "image/png": "[encoded data removed]",
      "text/plain": [
       "<Figure size 432x288 with 1 Axes>"
      ]
     },
     "metadata": {
      "needs_background": "light"
     },
     "output_type": "display_data"
    }
   ],
   "source": [
    "\n",
    "# Load Data, an array of SMILES for drug, an array of Amino Acid Sequence for Target and an array of binding values/0-1 label.\n",
    "# e.g. ['Cc1ccc(CNS(=O)(=O)c2ccc(s2)S(N)(=O)=O)cc1', ...], ['MSHHWGYGKHNGPEHWHKDFPIAKGERQSPVDIDTH...', ...], [0.46, 0.49, ...]\n",
    "# In this example, BindingDB with Kd binding score is used.\n",
    "# X_drug, X_target, y  = process_BindingDB(download_BindingDB(SAVE_PATH),\n",
    "# \t\t\t\t\t y = 'Kd', \n",
    "# \t\t\t\t\t binary = False, \n",
    "# \t\t\t\t\t convert_to_log = True)\n",
    "\n",
    "X_drug = list(train_df.Smiles.values)\n",
    "X_target = [sequence] *train_df.shape[0]\n",
    "y = train_df.Active.values*1\n",
    "# Type in the encoding names for drug/protein.\n",
    "drug_encoding, target_encoding = 'Morgan', 'AAC'\n",
    "\n",
    "# Data processing, here we select cold protein split setup.\n",
    "train, val, test = data_process(X_drug, X_target, y, \n",
    "                                drug_encoding, target_encoding, \n",
    "                                split_method='random', \n",
    "                                frac=[0.7,0.1,0.2])\n",
    "train_balanced = balance_data(train)\n",
    "\n",
    "# Generate new model using default parameters; also allow model tuning via input parameters.\n",
    "# config = generate_config(drug_encoding, target_encoding, transformer_n_layer_target = 8)\n",
    "# net = models.model_initialize(**config)\n",
    "\n",
    "# or simply load pretrained model from a model directory path or reproduced model name such as DeepDTA\n",
    "net = models.model_pretrained(model=MODEL_NAME, path_dir=TMP_DIR, )\n",
    "\n",
    "# Train the new model.\n",
    "# Detailed output including a tidy table storing validation loss, metrics, AUC curves figures and etc. are stored in the ./result folder.\n",
    "net.train(train_balanceds, val, test)\n",
    "#save_path=(TMP_DIR / \"deep_purpose_save\").as_posix(), verbose=True)\n",
    "\n",
    "\n",
    "# Repurpose using the trained model or pre-trained model\n",
    "# In this example, loading repurposing dataset using Broad Repurposing Hub and SARS-CoV 3CL Protease Target.\n",
    "#X_repurpose, drug_name, drug_cid = load_broad_repurposing_hub(SAVE_PATH)\n",
    "# target, target_name = load_SARS_CoV_Protease_3CL()\n",
    "\n",
    "#_ = models.repurpose(X_repurpose, target, net, drug_name, target_name)\n",
    "\n",
    "# Virtual screening using the trained model or pre-trained model \n",
    "#X_repurpose, drug_name, target, target_name = ['CCCCCCCOc1cccc(c1)C([O-])=O', ...], ['16007391', ...], ['MLARRKPVLPALTINPTIAEGPSPTSEGASEANLVDLQKKLEEL...', ...], ['P36896', 'P00374']\n",
    "\n",
    "#_ = models.virtual_screening(X_repurpose, target, net, drug_name, target_name)\n"
   ]
  },
  {
   "cell_type": "code",
   "execution_count": 112,
   "metadata": {},
   "outputs": [
    {
     "data": {
      "text/plain": [
       "0.038046272493573265"
      ]
     },
     "execution_count": 112,
     "metadata": {},
     "output_type": "execute_result"
    }
   ],
   "source": [
    "train.Label.mean()"
   ]
  },
  {
   "cell_type": "code",
   "execution_count": 91,
   "metadata": {},
   "outputs": [
    {
     "data": {
      "text/plain": [
       "(0.0341726618705036, 0.0351035103510351)"
      ]
     },
     "execution_count": 91,
     "metadata": {},
     "output_type": "execute_result"
    }
   ],
   "source": [
    "val.Label.mean(), test.Label.mean()"
   ]
  },
  {
   "cell_type": "code",
   "execution_count": 116,
   "metadata": {},
   "outputs": [
    {
     "data": {
      "text/plain": [
       "0.5"
      ]
     },
     "execution_count": 116,
     "metadata": {},
     "output_type": "execute_result"
    }
   ],
   "source": [
    "balance_data(train).Label.mean()"
   ]
  },
  {
   "cell_type": "code",
   "execution_count": null,
   "metadata": {},
   "outputs": [],
   "source": []
  }
 ],
 "metadata": {
  "interpreter": {
   "hash": "d632e93423067b2b9b1b8d52846f85c868da433699adad534ad2cc6673775271"
  },
  "kernelspec": {
   "display_name": "Python 3.7.12 ('data_env')",
   "language": "python",
   "name": "python3"
  },
  "language_info": {
   "codemirror_mode": {
    "name": "ipython",
    "version": 3
   },
   "file_extension": ".py",
   "mimetype": "text/x-python",
   "name": "python",
   "nbconvert_exporter": "python",
   "pygments_lexer": "ipython3",
   "version": "3.7.12"
  },
  "orig_nbformat": 4
 },
 "nbformat": 4,
 "nbformat_minor": 2
}
