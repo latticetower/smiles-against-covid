{
 "cells": [
  {
   "cell_type": "code",
   "execution_count": null,
   "metadata": {},
   "outputs": [],
   "source": []
  },
  {
   "cell_type": "markdown",
   "metadata": {},
   "source": [
    "# Description\n",
    "This notebook will contain basic code to align pharmacophores (based on recently seen paper). For the starters I will use pharmacophores from align-it (also check the reader code)"
   ]
  },
  {
   "cell_type": "code",
   "execution_count": 1,
   "metadata": {},
   "outputs": [],
   "source": [
    "import pandas as pd\n",
    "import numpy as np\n",
    "from pathlib import Path\n",
    "import random\n",
    "import torch\n",
    "import sys"
   ]
  },
  {
   "cell_type": "code",
   "execution_count": 2,
   "metadata": {},
   "outputs": [],
   "source": [
    "%load_ext autoreload\n",
    "%autoreload 2"
   ]
  },
  {
   "cell_type": "code",
   "execution_count": 3,
   "metadata": {},
   "outputs": [],
   "source": [
    "CODEDIR = \"../code/common\"\n",
    "if not CODEDIR in sys.path:\n",
    "    sys.path.append(CODEDIR)\n",
    "from alignit import read_pharm_set"
   ]
  },
  {
   "cell_type": "code",
   "execution_count": 4,
   "metadata": {},
   "outputs": [
    {
     "name": "stdout",
     "output_type": "stream",
     "text": [
      "[PosixPath('../tmp/pharmacophores/alignit/alignit_test.phar'), PosixPath('../tmp/pharmacophores/alignit/alignit_train.phar')]\n"
     ]
    }
   ],
   "source": [
    "\n",
    "# constants\n",
    "\n",
    "def seed_everything(seed=42):\n",
    "    np.random.seed(seed)\n",
    "    random.seed(seed)\n",
    "    torch.manual_seed(seed)\n",
    "    pass\n",
    "\n",
    "# Cell with constants\n",
    "DATADIR = Path(\"../data\")\n",
    "if not DATADIR.exists():\n",
    "  # DATADIR.mkdir(DATADIR)\n",
    "  !gdown --id 1qnvNxd6SvhwHPxD0huTpmODB270ENs7j\n",
    "  !tar -xzvf inhibitors_data.tar.gz\n",
    "\n",
    "RANDOM_SEED = 2407\n",
    "seed_everything(RANDOM_SEED)\n",
    "\n",
    "TMP_DIR = Path(\"../tmp\")\n",
    "TMP_DIR.mkdir(exist_ok=True)\n",
    "\n",
    "train_df = pd.read_csv(DATADIR / \"train.csv\", index_col=0)\n",
    "test_df = pd.read_csv(DATADIR / \"test.csv\", index_col=0)\n",
    "\n",
    "# train_df['canonical'] = train_df.Smiles.apply(smiles2canonical)\n",
    "# test_df['canonical'] = test_df.Smiles.apply(smiles2canonical)\n",
    "\n",
    "# the name of the baseline BERT model which is getting fine-tuned\n",
    "SMILES_COL = \"Smiles\"  # \"canonical\" \n",
    "NFOLDS = 5\n",
    "\n",
    "PHARM_DIR = TMP_DIR / \"pharmacophores\" / \"alignit\"\n",
    "print(list(PHARM_DIR.iterdir()))\n",
    "phar_files = list(PHARM_DIR.iterdir())\n",
    "\n"
   ]
  },
  {
   "cell_type": "code",
   "execution_count": 5,
   "metadata": {},
   "outputs": [],
   "source": [
    "file_data = dict()\n",
    "for file in phar_files:\n",
    "    with open(file.as_posix()) as f:\n",
    "        file_data[file.name] = list(read_pharm_set(f))"
   ]
  },
  {
   "cell_type": "code",
   "execution_count": 6,
   "metadata": {},
   "outputs": [],
   "source": [
    "train_pharmacophores = file_data[\"alignit_train.phar\"]\n",
    "test_pharmacophores = file_data[\"alignit_test.phar\"]"
   ]
  },
  {
   "cell_type": "code",
   "execution_count": 125,
   "metadata": {},
   "outputs": [],
   "source": [
    "p = train_pharmacophores[0]\n",
    "q = train_pharmacophores[1]"
   ]
  },
  {
   "cell_type": "code",
   "execution_count": 126,
   "metadata": {},
   "outputs": [
    {
     "name": "stdout",
     "output_type": "stream",
     "text": [
      "1.8669588904548011\n"
     ]
    }
   ],
   "source": [
    "from scipy.optimize import linear_sum_assignment\n",
    "\n",
    "def get_distance(p, q):\n",
    "    coords_p = (p.x, p.y, p.z)\n",
    "    coords_q = (q.x, q.y, q.z)\n",
    "    d = np.sum([(pc - qc)**2 for pc, qc in zip(coords_p, coords_q)])\n",
    "    return np.sqrt(d)\n",
    "\n",
    "def describe_pharmacophore_neigborhood(p):\n",
    "    # print(p.phar)\n",
    "    props_neigbors = []\n",
    "    for prop1 in p.phar:\n",
    "        neigbor_list = []\n",
    "        \n",
    "        for i, prop2 in enumerate(p.phar):\n",
    "            d = get_distance(prop1, prop2)\n",
    "            #if d > 0:\n",
    "            # print(d)\n",
    "            neigbor_list.append(d)\n",
    "            # type_list.append(prop1.name == prop2.name)\n",
    "        #neigbor_list = sorted(neigbor_list, key=lambda x: x[0])\n",
    "        props_neigbors.append(neigbor_list)\n",
    "        # props_types.append(type_list)\n",
    "    return np.asarray(props_neigbors)\n",
    "\n",
    "\n",
    "def compute_distance_matrix(features_p, features_q, p, q):\n",
    "    distance_matrix = []\n",
    "    ntypes = []\n",
    "    for k, dp in enumerate(features_p):\n",
    "        dist_list = []\n",
    "        type_list = []\n",
    "        for m, dq in enumerate(features_q):\n",
    "            # print(dp, dq, p.phar[k], q.phar[m])\n",
    "            ap = p.phar[k].a\n",
    "            aq = q.phar[m].a\n",
    "            d = np.abs(dp - dq)*ap*aq/(ap+aq)\n",
    "            dist_list.append(d)\n",
    "            type_list.append((p.phar[k].name == q.phar[m].name) and (d < 1))\n",
    "        ntypes.append(type_list)\n",
    "        distance_matrix.append(dist_list)\n",
    "    return np.asarray(distance_matrix), np.asarray(ntypes)\n",
    "\n",
    "\n",
    "def get_neighborhood_diff(p, q):\n",
    "    distances_p  = describe_pharmacophore_neigborhood(p)\n",
    "    distances_q  = describe_pharmacophore_neigborhood(q)\n",
    "    # print(distances_p,\"\\n\\n\", distances_q)\n",
    "    psize = len(p.phar)\n",
    "    qsize = len(q.phar)\n",
    "    size = max(psize, qsize)\n",
    "    table = []\n",
    "    for i, prop_p in enumerate(p.phar):\n",
    "        line = []\n",
    "        for j, prop_q in enumerate(q.phar):\n",
    "            if prop_p.name!= prop_q.name:\n",
    "                line.append(np.inf)\n",
    "                continue\n",
    "            distances, ntypes = compute_distance_matrix(distances_p[i], distances_q[j], p, q)\n",
    "            #print(distances, \"\\n---\\n\", ntypes)\n",
    "            distances[~ntypes] = np.inf\n",
    "            reachable_cols = np.where((distances < np.inf).any(0))[0]\n",
    "            reachable_rows = np.where((distances < np.inf).any(1))[0]\n",
    "            #print(distances)\n",
    "            dm = distances[reachable_rows][:, reachable_cols]\n",
    "            row_ind, col_ind = linear_sum_assignment(dm)\n",
    "            min_cost = dm[row_ind, col_ind].sum()/size\n",
    "            # aligned_indices = reachable_rows[row_ind], reachable_cols[col_ind]\n",
    "            line.append(min_cost)\n",
    "        table.append(line)\n",
    "    return np.asarray(table)\n",
    "\n",
    "    \n",
    "def build_neighborhood_matrix(p, q):\n",
    "    table = get_neighborhood_diff(p, q)\n",
    "    reachable_cols = np.where((table < np.inf).any(0))[0]\n",
    "    reachable_rows = np.where((table < np.inf).any(1))[0]\n",
    "    subtable = table[reachable_rows][:, reachable_cols]\n",
    "    row_ind, col_ind = linear_sum_assignment(subtable)\n",
    "    top3_indices = np.argsort(subtable[row_ind, col_ind])\n",
    "    row_ind = row_ind[top3_indices]\n",
    "    col_ind = col_ind[top3_indices]\n",
    "    return reachable_rows[row_ind], reachable_cols[col_ind], subtable[row_ind, col_ind]\n",
    "    # distances[np.eye(distances.shape[0]) == 1] = np.inf\n",
    "\n",
    "p_ids, q_ids, costs = build_neighborhood_matrix(p, q)\n",
    "p_features = [p.phar[i] for i in p_ids]\n",
    "q_features = [q.phar[i] for i in q_ids]\n",
    "p_matrix = np.asarray([[p.x, p.y, p.z] for p in p_features])\n",
    "q_matrix = np.asarray([[q.x, q.y, q.z] for q in q_features])\n",
    "print(np.sqrt(np.mean((p_matrix - q_matrix)**2)))\n",
    "p_centroid = p_matrix.mean(0)\n",
    "p_matrix -= p_centroid\n",
    "q_centroid = q_matrix.mean(0)\n",
    "q_matrix -= q_centroid\n"
   ]
  },
  {
   "cell_type": "code",
   "execution_count": 127,
   "metadata": {},
   "outputs": [],
   "source": [
    "covariance_matrix = np.dot(p_matrix.T, q_matrix)"
   ]
  },
  {
   "cell_type": "code",
   "execution_count": 128,
   "metadata": {},
   "outputs": [],
   "source": [
    "u, s, vh = np.linalg.svd(covariance_matrix)"
   ]
  },
  {
   "cell_type": "code",
   "execution_count": 141,
   "metadata": {},
   "outputs": [],
   "source": [
    "sign = np.sign(np.linalg.det(u @ vh))\n",
    "#sign = (np.linalg.det(u) * np.linalg.det(vh)) < 0.0\n",
    "s[-1] = sign\n",
    "s = np.array([1, 1, sign])\n",
    "rot_matrix = np.dot((u*np.array([1, 1, sign])), vh)"
   ]
  },
  {
   "cell_type": "code",
   "execution_count": 142,
   "metadata": {},
   "outputs": [
    {
     "data": {
      "text/plain": [
       "array([[-0.29063933,  1.727593  , -0.11276967],\n",
       "       [-2.62808733,  0.046882  ,  0.19367033],\n",
       "       [ 2.91872667, -1.774475  , -0.08090067]])"
      ]
     },
     "execution_count": 142,
     "metadata": {},
     "output_type": "execute_result"
    }
   ],
   "source": [
    "q_matrix "
   ]
  },
  {
   "cell_type": "code",
   "execution_count": 143,
   "metadata": {},
   "outputs": [
    {
     "data": {
      "text/plain": [
       "1.2272055792651013"
      ]
     },
     "execution_count": 143,
     "metadata": {},
     "output_type": "execute_result"
    }
   ],
   "source": [
    "np.sqrt(np.mean((np.dot(p_matrix, rot_matrix) - q_matrix)**2))"
   ]
  },
  {
   "cell_type": "code",
   "execution_count": 144,
   "metadata": {},
   "outputs": [
    {
     "data": {
      "text/plain": [
       "1.6694651833343161"
      ]
     },
     "execution_count": 144,
     "metadata": {},
     "output_type": "execute_result"
    }
   ],
   "source": [
    "# from scipy.spatial.transform import Rotation # align_vectors\n",
    "np.sqrt(np.mean((p_matrix - q_matrix)**2))"
   ]
  },
  {
   "cell_type": "code",
   "execution_count": null,
   "metadata": {},
   "outputs": [],
   "source": []
  },
  {
   "cell_type": "code",
   "execution_count": null,
   "metadata": {},
   "outputs": [],
   "source": []
  }
 ],
 "metadata": {
  "interpreter": {
   "hash": "d632e93423067b2b9b1b8d52846f85c868da433699adad534ad2cc6673775271"
  },
  "kernelspec": {
   "display_name": "Python 3.7.12 ('data_env')",
   "language": "python",
   "name": "python3"
  },
  "language_info": {
   "codemirror_mode": {
    "name": "ipython",
    "version": 3
   },
   "file_extension": ".py",
   "mimetype": "text/x-python",
   "name": "python",
   "nbconvert_exporter": "python",
   "pygments_lexer": "ipython3",
   "version": "3.7.12"
  },
  "orig_nbformat": 4
 },
 "nbformat": 4,
 "nbformat_minor": 2
}
