{
 "cells": [
  {
   "cell_type": "code",
   "execution_count": null,
   "metadata": {},
   "outputs": [],
   "source": []
  },
  {
   "cell_type": "markdown",
   "metadata": {},
   "source": [
    "# Description\n",
    "This notebook will contain basic code to align pharmacophores (based on recently seen paper). For the starters I will use pharmacophores from align-it (also check the reader code)"
   ]
  },
  {
   "cell_type": "code",
   "execution_count": 1,
   "metadata": {},
   "outputs": [
    {
     "name": "stderr",
     "output_type": "stream",
     "text": [
      "In /Users/lacemaker/anaconda3/envs/data_env/lib/python3.7/site-packages/matplotlib/mpl-data/stylelib/_classic_test.mplstyle: \n",
      "The text.latex.preview rcparam was deprecated in Matplotlib 3.3 and will be removed two minor releases later.\n",
      "In /Users/lacemaker/anaconda3/envs/data_env/lib/python3.7/site-packages/matplotlib/mpl-data/stylelib/_classic_test.mplstyle: \n",
      "The mathtext.fallback_to_cm rcparam was deprecated in Matplotlib 3.3 and will be removed two minor releases later.\n",
      "In /Users/lacemaker/anaconda3/envs/data_env/lib/python3.7/site-packages/matplotlib/mpl-data/stylelib/_classic_test.mplstyle: Support for setting the 'mathtext.fallback_to_cm' rcParam is deprecated since 3.3 and will be removed two minor releases later; use 'mathtext.fallback : 'cm' instead.\n",
      "In /Users/lacemaker/anaconda3/envs/data_env/lib/python3.7/site-packages/matplotlib/mpl-data/stylelib/_classic_test.mplstyle: \n",
      "The validate_bool_maybe_none function was deprecated in Matplotlib 3.3 and will be removed two minor releases later.\n",
      "In /Users/lacemaker/anaconda3/envs/data_env/lib/python3.7/site-packages/matplotlib/mpl-data/stylelib/_classic_test.mplstyle: \n",
      "The savefig.jpeg_quality rcparam was deprecated in Matplotlib 3.3 and will be removed two minor releases later.\n",
      "In /Users/lacemaker/anaconda3/envs/data_env/lib/python3.7/site-packages/matplotlib/mpl-data/stylelib/_classic_test.mplstyle: \n",
      "The keymap.all_axes rcparam was deprecated in Matplotlib 3.3 and will be removed two minor releases later.\n",
      "In /Users/lacemaker/anaconda3/envs/data_env/lib/python3.7/site-packages/matplotlib/mpl-data/stylelib/_classic_test.mplstyle: \n",
      "The animation.avconv_path rcparam was deprecated in Matplotlib 3.3 and will be removed two minor releases later.\n",
      "In /Users/lacemaker/anaconda3/envs/data_env/lib/python3.7/site-packages/matplotlib/mpl-data/stylelib/_classic_test.mplstyle: \n",
      "The animation.avconv_args rcparam was deprecated in Matplotlib 3.3 and will be removed two minor releases later.\n"
     ]
    }
   ],
   "source": [
    "import pandas as pd\n",
    "import numpy as np\n",
    "from pathlib import Path\n",
    "import random\n",
    "import torch\n",
    "import sys\n",
    "import json\n",
    "import pyalignit"
   ]
  },
  {
   "cell_type": "code",
   "execution_count": 2,
   "metadata": {},
   "outputs": [],
   "source": [
    "%load_ext autoreload\n",
    "%autoreload 2"
   ]
  },
  {
   "cell_type": "code",
   "execution_count": 3,
   "metadata": {},
   "outputs": [],
   "source": [
    "CODEDIR = \"../code/common\"\n",
    "if not CODEDIR in sys.path:\n",
    "    sys.path.append(CODEDIR)\n",
    "from alignit import read_pharm_set"
   ]
  },
  {
   "cell_type": "code",
   "execution_count": 144,
   "metadata": {},
   "outputs": [
    {
     "name": "stdout",
     "output_type": "stream",
     "text": [
      "[PosixPath('../tmp/pharmacophores/alignit/alignit_test.phar'), PosixPath('../tmp/pharmacophores/alignit/alignit_train.phar')]\n"
     ]
    }
   ],
   "source": [
    "\n",
    "# constants\n",
    "\n",
    "def seed_everything(seed=42):\n",
    "    np.random.seed(seed)\n",
    "    random.seed(seed)\n",
    "    torch.manual_seed(seed)\n",
    "    pass\n",
    "\n",
    "# Cell with constants\n",
    "DATADIR = Path(\"../data\")\n",
    "if not DATADIR.exists():\n",
    "  # DATADIR.mkdir(DATADIR)\n",
    "  !gdown --id 1qnvNxd6SvhwHPxD0huTpmODB270ENs7j\n",
    "  !tar -xzvf inhibitors_data.tar.gz\n",
    "\n",
    "RANDOM_SEED = 2407\n",
    "seed_everything(RANDOM_SEED)\n",
    "\n",
    "TMP_DIR = Path(\"../tmp\")\n",
    "TMP_DIR.mkdir(exist_ok=True)\n",
    "\n",
    "train_df = pd.read_csv(DATADIR / \"train_splitted_val.csv\", index_col=0)\n",
    "test_df = pd.read_csv(DATADIR / \"test_splitted.csv\", index_col=0)\n",
    "\n",
    "# train_df['canonical'] = train_df.Smiles.apply(smiles2canonical)\n",
    "# test_df['canonical'] = test_df.Smiles.apply(smiles2canonical)\n",
    "\n",
    "# the name of the baseline BERT model which is getting fine-tuned\n",
    "SMILES_COL = \"Smiles\"  # \"canonical\" \n",
    "NFOLDS = 5\n",
    "\n",
    "PHARM_DIR = TMP_DIR / \"pharmacophores\" / \"alignit\"\n",
    "print(list(PHARM_DIR.iterdir()))\n",
    "phar_files = list(PHARM_DIR.iterdir())\n",
    "MOL_INFO = TMP_DIR / \"pharmacophores\" / \"molecules\" / \"conformers_info.json\"\n",
    "with open(MOL_INFO.as_posix()) as f:\n",
    "    mol_info = json.load(f)\n",
    "mol_info = {k: np.asarray(v) for k, v in mol_info.items()}\n",
    "\n"
   ]
  },
  {
   "cell_type": "code",
   "execution_count": 145,
   "metadata": {},
   "outputs": [],
   "source": [
    "file_data = dict()\n",
    "for file in phar_files:\n",
    "    with open(file.as_posix()) as f:\n",
    "        file_data[file.name] = list(read_pharm_set(f))"
   ]
  },
  {
   "cell_type": "code",
   "execution_count": 146,
   "metadata": {},
   "outputs": [],
   "source": [
    "train_pharmacophores = file_data[\"alignit_train.phar\"]\n",
    "test_pharmacophores = file_data[\"alignit_test.phar\"]"
   ]
  },
  {
   "cell_type": "code",
   "execution_count": null,
   "metadata": {},
   "outputs": [],
   "source": []
  },
  {
   "cell_type": "code",
   "execution_count": 147,
   "metadata": {},
   "outputs": [],
   "source": [
    "train_df.loc[:, \"pharmacophore\"] = \"\"\n",
    "test_df.loc[:, \"pharmacophore\"] = \"\"\n",
    "train2pharm = {\n",
    "    index: train_pharmacophores[i]\n",
    "    for i, index in enumerate(mol_info[\"train\"])\n",
    "}\n",
    "test2pharm = {\n",
    "    index:test_pharmacophores[i]\n",
    "    for i, index in enumerate(mol_info[\"test\"])\n",
    "}\n"
   ]
  },
  {
   "cell_type": "code",
   "execution_count": 148,
   "metadata": {},
   "outputs": [],
   "source": [
    "p = train_pharmacophores[0]\n",
    "q = train_pharmacophores[1]"
   ]
  },
  {
   "cell_type": "code",
   "execution_count": 163,
   "metadata": {},
   "outputs": [
    {
     "name": "stdout",
     "output_type": "stream",
     "text": [
      "2.577107535412155\n"
     ]
    }
   ],
   "source": [
    "from scipy.optimize import linear_sum_assignment\n",
    "\n",
    "def get_distance(p, q):\n",
    "    coords_p = (p.x, p.y, p.z)\n",
    "    coords_q = (q.x, q.y, q.z)\n",
    "    d = np.sum([(pc - qc)**2 for pc, qc in zip(coords_p, coords_q)])\n",
    "    return np.sqrt(d)\n",
    "\n",
    "def describe_pharmacophore_neigborhood(p):\n",
    "    # print(p.phar)\n",
    "    props_neigbors = []\n",
    "    for prop1 in p.phar:\n",
    "        neigbor_list = []\n",
    "        \n",
    "        for i, prop2 in enumerate(p.phar):\n",
    "            d = get_distance(prop1, prop2)\n",
    "            #if d > 0:\n",
    "            # print(d)\n",
    "            neigbor_list.append(d)\n",
    "            # type_list.append(prop1.name == prop2.name)\n",
    "        #neigbor_list = sorted(neigbor_list, key=lambda x: x[0])\n",
    "        props_neigbors.append(neigbor_list)\n",
    "        # props_types.append(type_list)\n",
    "    return np.asarray(props_neigbors)\n",
    "\n",
    "def process_one(p, q):\n",
    "    assert len(p.phar)==1\n",
    "    prop0 = p.phar[0]\n",
    "    q_ids = [i for i, qprop in enumerate(q.phar) if prop0.name == qprop.name]\n",
    "    if len(q_ids) == 0:\n",
    "        return None\n",
    "    dist_list = []\n",
    "    for q_id in q_ids:\n",
    "        ap = prop0.a\n",
    "        aq = q.phar[q_id].a\n",
    "        d = np.abs(ap - aq)\n",
    "        dist_list.append((q_id, d))\n",
    "    dist_list = sorted(dist_list, key=lambda x: x[1])\n",
    "    q_id, cost = dist_list[0]\n",
    "    return [0], [q_id], cost, []\n",
    "\n",
    "\n",
    "\n",
    "def compute_distance_matrix(features_p, features_q, p, q):\n",
    "    distance_matrix = []\n",
    "    ntypes = []\n",
    "    for k, dp in enumerate(features_p):\n",
    "        dist_list = []\n",
    "        type_list = []\n",
    "        for m, dq in enumerate(features_q):\n",
    "            # print(dp, dq, p.phar[k], q.phar[m])\n",
    "            ap = p.phar[k].a\n",
    "            aq = q.phar[m].a\n",
    "            d = np.abs(dp - dq)*ap*aq/(ap+aq)\n",
    "            dist_list.append(d)\n",
    "            type_list.append((p.phar[k].name == q.phar[m].name) and (d < 1))\n",
    "        ntypes.append(type_list)\n",
    "        distance_matrix.append(dist_list)\n",
    "    return np.asarray(distance_matrix), np.asarray(ntypes)\n",
    "\n",
    "\n",
    "def get_neighborhood_diff(p, q):\n",
    "    distances_p  = describe_pharmacophore_neigborhood(p)\n",
    "    distances_q  = describe_pharmacophore_neigborhood(q)\n",
    "    # print(distances_p,\"\\n\\n\", distances_q)\n",
    "    psize = len(p.phar)\n",
    "    qsize = len(q.phar)\n",
    "    size = max(psize, qsize)\n",
    "    table = []\n",
    "    for i, prop_p in enumerate(p.phar):\n",
    "        line = []\n",
    "        for j, prop_q in enumerate(q.phar):\n",
    "            if prop_p.name != prop_q.name:\n",
    "                line.append(np.inf)\n",
    "                continue\n",
    "            distances, ntypes = compute_distance_matrix(distances_p[i], distances_q[j], p, q)\n",
    "            #print(distances, \"\\n---\\n\", ntypes)\n",
    "            distances[~ntypes] = np.inf\n",
    "            reachable_cols = np.where((distances < np.inf).any(0))[0]\n",
    "            reachable_rows = np.where((distances < np.inf).any(1))[0]\n",
    "            #print(distances)\n",
    "            dm = distances[reachable_rows][:, reachable_cols]\n",
    "            \n",
    "            row_ind, col_ind = linear_sum_assignment(dm)\n",
    "\n",
    "            min_cost = dm[row_ind, col_ind].sum()/size\n",
    "            # aligned_indices = reachable_rows[row_ind], reachable_cols[col_ind]\n",
    "            line.append(min_cost)\n",
    "        table.append(line)\n",
    "    return np.asarray(table)\n",
    "\n",
    "    \n",
    "def build_neighborhood_matrix(p, q):\n",
    "    if len(p.phar) == 1:\n",
    "        return process_one(p, q)\n",
    "    if len(q.phar) == 1:\n",
    "        return process_one(q, p)\n",
    "    try:\n",
    "        table = get_neighborhood_diff(p, q)\n",
    "    except Exception as e:\n",
    "        # print(\"Matrix error:\", e)\n",
    "        return None\n",
    "    if len(table.shape) < 2:\n",
    "        return None\n",
    "    reachable_cols = np.where((table < np.inf).any(0))\n",
    "    if len(reachable_cols) < 1:\n",
    "        return None\n",
    "    reachable_cols = reachable_cols[0]\n",
    "    reachable_rows = np.where((table < np.inf).any(1))\n",
    "    if len(reachable_rows) < 1:\n",
    "        return None\n",
    "    reachable_rows = reachable_rows[0]\n",
    "    subtable = table[reachable_rows][:, reachable_cols]\n",
    "    try:\n",
    "        row_ind, col_ind = linear_sum_assignment(subtable)\n",
    "    except:\n",
    "        return None\n",
    "    top3_indices = np.argsort(subtable[row_ind, col_ind])\n",
    "    row_ind = row_ind[top3_indices]\n",
    "    col_ind = col_ind[top3_indices]\n",
    "    # print(row_ind, col_ind, subtable, reachable_rows, reachable_cols)\n",
    "    return reachable_rows[row_ind], reachable_cols[col_ind], subtable[row_ind, col_ind], subtable\n",
    "    # distances[np.eye(distances.shape[0]) == 1] = np.inf\n",
    "\n",
    "result = build_neighborhood_matrix(p, q)\n",
    "if result is None:\n",
    "    p_ids, q_ids, costs, subtable = [], [], [], []\n",
    "else:\n",
    "    p_ids, q_ids, costs, subtable = result\n",
    "\n",
    "p_features = [p.phar[i] for i in p_ids]\n",
    "q_features = [q.phar[i] for i in q_ids]\n",
    "p_matrix = np.asarray([[p.x, p.y, p.z] for p in p_features])\n",
    "q_matrix = np.asarray([[q.x, q.y, q.z] for q in q_features])\n",
    "print(np.sqrt(np.mean((p_matrix - q_matrix)**2)))\n",
    "p_centroid = p_matrix.mean(0)\n",
    "p_matrix -= p_centroid\n",
    "q_centroid = q_matrix.mean(0)\n",
    "q_matrix -= q_centroid\n"
   ]
  },
  {
   "cell_type": "code",
   "execution_count": 164,
   "metadata": {},
   "outputs": [
    {
     "data": {
      "text/plain": [
       "(array([1, 4, 0]),\n",
       " array([0, 2, 1]),\n",
       " array([0.02890202, 0.03575805, 0.16170719]),\n",
       " array([[0.20473045, 0.16170719,        inf],\n",
       "        [0.02890202, 0.0627753 ,        inf],\n",
       "        [0.17127669, 0.18256629,        inf],\n",
       "        [       inf,        inf, 0.06616799],\n",
       "        [       inf,        inf, 0.03575805]]))"
      ]
     },
     "execution_count": 164,
     "metadata": {},
     "output_type": "execute_result"
    }
   ],
   "source": [
    "result = build_neighborhood_matrix(p, q)\n",
    "if result is None:\n",
    "    p_ids, q_ids, costs, subtable = [], [], [], []\n",
    "else:\n",
    "    p_ids, q_ids, costs, subtable = result\n",
    "p_ids, q_ids, costs, subtable"
   ]
  },
  {
   "cell_type": "code",
   "execution_count": 165,
   "metadata": {},
   "outputs": [],
   "source": [
    "covariance_matrix = np.dot(p_matrix.T, q_matrix)"
   ]
  },
  {
   "cell_type": "code",
   "execution_count": 166,
   "metadata": {},
   "outputs": [],
   "source": [
    "u, s, vh = np.linalg.svd(covariance_matrix)"
   ]
  },
  {
   "cell_type": "code",
   "execution_count": 167,
   "metadata": {},
   "outputs": [],
   "source": [
    "sign = np.sign(np.linalg.det(u @ vh))\n",
    "#sign = (np.linalg.det(u) * np.linalg.det(vh)) < 0.0\n",
    "s[-1] = sign\n",
    "s = np.array([1, 1, sign])\n",
    "rot_matrix = np.dot((u*np.array([1, 1, sign])), vh)"
   ]
  },
  {
   "cell_type": "code",
   "execution_count": 168,
   "metadata": {},
   "outputs": [
    {
     "data": {
      "text/plain": [
       "array([[ 3.43932233,  0.43697633,  0.03335433],\n",
       "       [ 0.25750733,  0.50890133,  0.19955133],\n",
       "       [-3.69682967, -0.94587767, -0.23290567]])"
      ]
     },
     "execution_count": 168,
     "metadata": {},
     "output_type": "execute_result"
    }
   ],
   "source": [
    "q_matrix "
   ]
  },
  {
   "cell_type": "code",
   "execution_count": 169,
   "metadata": {},
   "outputs": [
    {
     "data": {
      "text/plain": [
       "1.2872907954210564"
      ]
     },
     "execution_count": 169,
     "metadata": {},
     "output_type": "execute_result"
    }
   ],
   "source": [
    "np.sqrt(np.mean((np.dot(p_matrix, rot_matrix) - q_matrix)**2))"
   ]
  },
  {
   "cell_type": "code",
   "execution_count": 170,
   "metadata": {},
   "outputs": [
    {
     "data": {
      "text/plain": [
       "2.558211199521013"
      ]
     },
     "execution_count": 170,
     "metadata": {},
     "output_type": "execute_result"
    }
   ],
   "source": [
    "# from scipy.spatial.transform import Rotation # align_vectors\n",
    "np.sqrt(np.mean((p_matrix - q_matrix)**2))"
   ]
  },
  {
   "cell_type": "code",
   "execution_count": 171,
   "metadata": {},
   "outputs": [],
   "source": [
    "# train_pharmacophores[:3]\n",
    "pharm_targets = train_df.Active.values[mol_info['train']]"
   ]
  },
  {
   "cell_type": "code",
   "execution_count": 172,
   "metadata": {},
   "outputs": [],
   "source": [
    "pos_ids = np.where(pharm_targets)[0]\n",
    "neg_ids = np.where(pharm_targets==0)[0]"
   ]
  },
  {
   "cell_type": "code",
   "execution_count": 173,
   "metadata": {},
   "outputs": [],
   "source": [
    "pos_pharmacophores = [train_pharmacophores[i] for i in pos_ids]\n",
    "neg_pharmacophores = [train_pharmacophores[i] for i in neg_ids]"
   ]
  },
  {
   "cell_type": "code",
   "execution_count": 174,
   "metadata": {},
   "outputs": [],
   "source": [
    "result = build_neighborhood_matrix(p, q)\n",
    "if result is None:\n",
    "    p_ids, q_ids, costs, subtable = [], [], [], []\n",
    "else:\n",
    "    p_ids, q_ids, costs, subtable = result"
   ]
  },
  {
   "cell_type": "code",
   "execution_count": 175,
   "metadata": {},
   "outputs": [
    {
     "name": "stderr",
     "output_type": "stream",
     "text": [
      "100%|██████████| 217/217 [01:38<00:00,  2.20it/s]\n"
     ]
    }
   ],
   "source": [
    "train_neighborhood = dict()\n",
    "for i, p in enumerate(tqdm(pos_pharmacophores)):\n",
    "    for j, q in enumerate(pos_pharmacophores[i+1:]):\n",
    "        # print(len(p.phar), len(q.phar))\n",
    "        result = build_neighborhood_matrix(p, q)\n",
    "        # if len(p.phar)==1 or len(q.phar) == 1:\n",
    "        #     print(result)\n",
    "        if result is not None:\n",
    "            train_neighborhood[(i, j)] = result"
   ]
  },
  {
   "cell_type": "code",
   "execution_count": 183,
   "metadata": {},
   "outputs": [],
   "source": [
    "from scipy.sparse import dok_matrix\n",
    "n = len(pos_pharmacophores)\n",
    "dist = dok_matrix((n, n))\n",
    "for (i, j), info in train_neighborhood.items():\n",
    "    if info is None:\n",
    "        continue\n",
    "    if isinstance(info[2], float):\n",
    "        dist[i, j] = info[2]\n",
    "        dist[j, i] = info[2]\n",
    "        continue\n",
    "    if len(info[2]) == 0:\n",
    "        continue\n",
    "    dist[i, j] = np.mean(info[2])\n",
    "    dist[j, i] = np.mean(info[2])\n",
    "\n"
   ]
  },
  {
   "cell_type": "code",
   "execution_count": 186,
   "metadata": {},
   "outputs": [
    {
     "ename": "TypeError",
     "evalue": "A sparse matrix was passed, but dense data is required. Use X.toarray() to convert to a dense numpy array.",
     "output_type": "error",
     "traceback": [
      "\u001b[0;31m---------------------------------------------------------------------------\u001b[0m",
      "\u001b[0;31mTypeError\u001b[0m                                 Traceback (most recent call last)",
      "\u001b[0;32m<ipython-input-186-49c23a428224>\u001b[0m in \u001b[0;36m<module>\u001b[0;34m\u001b[0m\n\u001b[1;32m      1\u001b[0m \u001b[0;32mfrom\u001b[0m \u001b[0msklearn\u001b[0m\u001b[0;34m.\u001b[0m\u001b[0mcluster\u001b[0m \u001b[0;32mimport\u001b[0m \u001b[0mAgglomerativeClustering\u001b[0m\u001b[0;34m\u001b[0m\u001b[0;34m\u001b[0m\u001b[0m\n\u001b[1;32m      2\u001b[0m \u001b[0mclusters\u001b[0m \u001b[0;34m=\u001b[0m \u001b[0mAgglomerativeClustering\u001b[0m\u001b[0;34m(\u001b[0m\u001b[0;34m)\u001b[0m\u001b[0;34m\u001b[0m\u001b[0;34m\u001b[0m\u001b[0m\n\u001b[0;32m----> 3\u001b[0;31m \u001b[0mclusters\u001b[0m\u001b[0;34m.\u001b[0m\u001b[0mfit\u001b[0m\u001b[0;34m(\u001b[0m\u001b[0mdist\u001b[0m\u001b[0;34m)\u001b[0m\u001b[0;34m\u001b[0m\u001b[0;34m\u001b[0m\u001b[0m\n\u001b[0m\u001b[1;32m      4\u001b[0m \u001b[0mclusters\u001b[0m\u001b[0;34m.\u001b[0m\u001b[0mlabels_\u001b[0m\u001b[0;34m\u001b[0m\u001b[0;34m\u001b[0m\u001b[0m\n",
      "\u001b[0;32m~/anaconda3/envs/data_env/lib/python3.7/site-packages/sklearn/cluster/_agglomerative.py\u001b[0m in \u001b[0;36mfit\u001b[0;34m(self, X, y)\u001b[0m\n\u001b[1;32m    915\u001b[0m             \u001b[0mReturns\u001b[0m \u001b[0mthe\u001b[0m \u001b[0mfitted\u001b[0m \u001b[0minstance\u001b[0m\u001b[0;34m.\u001b[0m\u001b[0;34m\u001b[0m\u001b[0;34m\u001b[0m\u001b[0m\n\u001b[1;32m    916\u001b[0m         \"\"\"\n\u001b[0;32m--> 917\u001b[0;31m         \u001b[0mX\u001b[0m \u001b[0;34m=\u001b[0m \u001b[0mself\u001b[0m\u001b[0;34m.\u001b[0m\u001b[0m_validate_data\u001b[0m\u001b[0;34m(\u001b[0m\u001b[0mX\u001b[0m\u001b[0;34m,\u001b[0m \u001b[0mensure_min_samples\u001b[0m\u001b[0;34m=\u001b[0m\u001b[0;36m2\u001b[0m\u001b[0;34m,\u001b[0m \u001b[0mestimator\u001b[0m\u001b[0;34m=\u001b[0m\u001b[0mself\u001b[0m\u001b[0;34m)\u001b[0m\u001b[0;34m\u001b[0m\u001b[0;34m\u001b[0m\u001b[0m\n\u001b[0m\u001b[1;32m    918\u001b[0m         \u001b[0;32mreturn\u001b[0m \u001b[0mself\u001b[0m\u001b[0;34m.\u001b[0m\u001b[0m_fit\u001b[0m\u001b[0;34m(\u001b[0m\u001b[0mX\u001b[0m\u001b[0;34m)\u001b[0m\u001b[0;34m\u001b[0m\u001b[0;34m\u001b[0m\u001b[0m\n\u001b[1;32m    919\u001b[0m \u001b[0;34m\u001b[0m\u001b[0m\n",
      "\u001b[0;32m~/anaconda3/envs/data_env/lib/python3.7/site-packages/sklearn/base.py\u001b[0m in \u001b[0;36m_validate_data\u001b[0;34m(self, X, y, reset, validate_separately, **check_params)\u001b[0m\n\u001b[1;32m    564\u001b[0m             \u001b[0;32mraise\u001b[0m \u001b[0mValueError\u001b[0m\u001b[0;34m(\u001b[0m\u001b[0;34m\"Validation should be done on X, y or both.\"\u001b[0m\u001b[0;34m)\u001b[0m\u001b[0;34m\u001b[0m\u001b[0;34m\u001b[0m\u001b[0m\n\u001b[1;32m    565\u001b[0m         \u001b[0;32melif\u001b[0m \u001b[0;32mnot\u001b[0m \u001b[0mno_val_X\u001b[0m \u001b[0;32mand\u001b[0m \u001b[0mno_val_y\u001b[0m\u001b[0;34m:\u001b[0m\u001b[0;34m\u001b[0m\u001b[0;34m\u001b[0m\u001b[0m\n\u001b[0;32m--> 566\u001b[0;31m             \u001b[0mX\u001b[0m \u001b[0;34m=\u001b[0m \u001b[0mcheck_array\u001b[0m\u001b[0;34m(\u001b[0m\u001b[0mX\u001b[0m\u001b[0;34m,\u001b[0m \u001b[0;34m**\u001b[0m\u001b[0mcheck_params\u001b[0m\u001b[0;34m)\u001b[0m\u001b[0;34m\u001b[0m\u001b[0;34m\u001b[0m\u001b[0m\n\u001b[0m\u001b[1;32m    567\u001b[0m             \u001b[0mout\u001b[0m \u001b[0;34m=\u001b[0m \u001b[0mX\u001b[0m\u001b[0;34m\u001b[0m\u001b[0;34m\u001b[0m\u001b[0m\n\u001b[1;32m    568\u001b[0m         \u001b[0;32melif\u001b[0m \u001b[0mno_val_X\u001b[0m \u001b[0;32mand\u001b[0m \u001b[0;32mnot\u001b[0m \u001b[0mno_val_y\u001b[0m\u001b[0;34m:\u001b[0m\u001b[0;34m\u001b[0m\u001b[0;34m\u001b[0m\u001b[0m\n",
      "\u001b[0;32m~/anaconda3/envs/data_env/lib/python3.7/site-packages/sklearn/utils/validation.py\u001b[0m in \u001b[0;36mcheck_array\u001b[0;34m(array, accept_sparse, accept_large_sparse, dtype, order, copy, force_all_finite, ensure_2d, allow_nd, ensure_min_samples, ensure_min_features, estimator)\u001b[0m\n\u001b[1;32m    724\u001b[0m             \u001b[0mcopy\u001b[0m\u001b[0;34m=\u001b[0m\u001b[0mcopy\u001b[0m\u001b[0;34m,\u001b[0m\u001b[0;34m\u001b[0m\u001b[0;34m\u001b[0m\u001b[0m\n\u001b[1;32m    725\u001b[0m             \u001b[0mforce_all_finite\u001b[0m\u001b[0;34m=\u001b[0m\u001b[0mforce_all_finite\u001b[0m\u001b[0;34m,\u001b[0m\u001b[0;34m\u001b[0m\u001b[0;34m\u001b[0m\u001b[0m\n\u001b[0;32m--> 726\u001b[0;31m             \u001b[0maccept_large_sparse\u001b[0m\u001b[0;34m=\u001b[0m\u001b[0maccept_large_sparse\u001b[0m\u001b[0;34m,\u001b[0m\u001b[0;34m\u001b[0m\u001b[0;34m\u001b[0m\u001b[0m\n\u001b[0m\u001b[1;32m    727\u001b[0m         )\n\u001b[1;32m    728\u001b[0m     \u001b[0;32melse\u001b[0m\u001b[0;34m:\u001b[0m\u001b[0;34m\u001b[0m\u001b[0;34m\u001b[0m\u001b[0m\n",
      "\u001b[0;32m~/anaconda3/envs/data_env/lib/python3.7/site-packages/sklearn/utils/validation.py\u001b[0m in \u001b[0;36m_ensure_sparse_format\u001b[0;34m(spmatrix, accept_sparse, dtype, copy, force_all_finite, accept_large_sparse)\u001b[0m\n\u001b[1;32m    439\u001b[0m     \u001b[0;32mif\u001b[0m \u001b[0maccept_sparse\u001b[0m \u001b[0;32mis\u001b[0m \u001b[0;32mFalse\u001b[0m\u001b[0;34m:\u001b[0m\u001b[0;34m\u001b[0m\u001b[0;34m\u001b[0m\u001b[0m\n\u001b[1;32m    440\u001b[0m         raise TypeError(\n\u001b[0;32m--> 441\u001b[0;31m             \u001b[0;34m\"A sparse matrix was passed, but dense \"\u001b[0m\u001b[0;34m\u001b[0m\u001b[0;34m\u001b[0m\u001b[0m\n\u001b[0m\u001b[1;32m    442\u001b[0m             \u001b[0;34m\"data is required. Use X.toarray() to \"\u001b[0m\u001b[0;34m\u001b[0m\u001b[0;34m\u001b[0m\u001b[0m\n\u001b[1;32m    443\u001b[0m             \u001b[0;34m\"convert to a dense numpy array.\"\u001b[0m\u001b[0;34m\u001b[0m\u001b[0;34m\u001b[0m\u001b[0m\n",
      "\u001b[0;31mTypeError\u001b[0m: A sparse matrix was passed, but dense data is required. Use X.toarray() to convert to a dense numpy array."
     ]
    }
   ],
   "source": [
    "from sklearn.cluster import AgglomerativeClustering\n",
    "clusters = AgglomerativeClustering()\n",
    "clusters.fit(dist)\n",
    "clusters.labels_"
   ]
  },
  {
   "cell_type": "code",
   "execution_count": 162,
   "metadata": {},
   "outputs": [
    {
     "name": "stderr",
     "output_type": "stream",
     "text": [
      " 18%|█▊        | 39/217 [04:51<22:10,  7.47s/it]\n"
     ]
    },
    {
     "ename": "KeyboardInterrupt",
     "evalue": "",
     "output_type": "error",
     "traceback": [
      "\u001b[0;31m---------------------------------------------------------------------------\u001b[0m",
      "\u001b[0;31mKeyboardInterrupt\u001b[0m                         Traceback (most recent call last)",
      "\u001b[0;32m<ipython-input-162-ce0f8489a11b>\u001b[0m in \u001b[0;36m<module>\u001b[0;34m\u001b[0m\n\u001b[1;32m      3\u001b[0m     \u001b[0;32mfor\u001b[0m \u001b[0mj\u001b[0m\u001b[0;34m,\u001b[0m \u001b[0mq\u001b[0m \u001b[0;32min\u001b[0m \u001b[0menumerate\u001b[0m\u001b[0;34m(\u001b[0m\u001b[0mtest_pharmacophores\u001b[0m\u001b[0;34m)\u001b[0m\u001b[0;34m:\u001b[0m\u001b[0;34m\u001b[0m\u001b[0;34m\u001b[0m\u001b[0m\n\u001b[1;32m      4\u001b[0m         \u001b[0;31m# print(len(p.phar), len(q.phar))\u001b[0m\u001b[0;34m\u001b[0m\u001b[0;34m\u001b[0m\u001b[0;34m\u001b[0m\u001b[0m\n\u001b[0;32m----> 5\u001b[0;31m         \u001b[0mresult\u001b[0m \u001b[0;34m=\u001b[0m \u001b[0mbuild_neighborhood_matrix\u001b[0m\u001b[0;34m(\u001b[0m\u001b[0mp\u001b[0m\u001b[0;34m,\u001b[0m \u001b[0mq\u001b[0m\u001b[0;34m)\u001b[0m\u001b[0;34m\u001b[0m\u001b[0;34m\u001b[0m\u001b[0m\n\u001b[0m\u001b[1;32m      6\u001b[0m         \u001b[0;31m# if len(p.phar)==1 or len(q.phar) == 1:\u001b[0m\u001b[0;34m\u001b[0m\u001b[0;34m\u001b[0m\u001b[0;34m\u001b[0m\u001b[0m\n\u001b[1;32m      7\u001b[0m         \u001b[0;31m#     print(result)\u001b[0m\u001b[0;34m\u001b[0m\u001b[0;34m\u001b[0m\u001b[0;34m\u001b[0m\u001b[0m\n",
      "\u001b[0;32m<ipython-input-149-d78fedc6fc98>\u001b[0m in \u001b[0;36mbuild_neighborhood_matrix\u001b[0;34m(p, q)\u001b[0m\n\u001b[1;32m     76\u001b[0m \u001b[0;32mdef\u001b[0m \u001b[0mbuild_neighborhood_matrix\u001b[0m\u001b[0;34m(\u001b[0m\u001b[0mp\u001b[0m\u001b[0;34m,\u001b[0m \u001b[0mq\u001b[0m\u001b[0;34m)\u001b[0m\u001b[0;34m:\u001b[0m\u001b[0;34m\u001b[0m\u001b[0;34m\u001b[0m\u001b[0m\n\u001b[1;32m     77\u001b[0m     \u001b[0;32mtry\u001b[0m\u001b[0;34m:\u001b[0m\u001b[0;34m\u001b[0m\u001b[0;34m\u001b[0m\u001b[0m\n\u001b[0;32m---> 78\u001b[0;31m         \u001b[0mtable\u001b[0m \u001b[0;34m=\u001b[0m \u001b[0mget_neighborhood_diff\u001b[0m\u001b[0;34m(\u001b[0m\u001b[0mp\u001b[0m\u001b[0;34m,\u001b[0m \u001b[0mq\u001b[0m\u001b[0;34m)\u001b[0m\u001b[0;34m\u001b[0m\u001b[0;34m\u001b[0m\u001b[0m\n\u001b[0m\u001b[1;32m     79\u001b[0m     \u001b[0;32mexcept\u001b[0m \u001b[0mException\u001b[0m \u001b[0;32mas\u001b[0m \u001b[0me\u001b[0m\u001b[0;34m:\u001b[0m\u001b[0;34m\u001b[0m\u001b[0;34m\u001b[0m\u001b[0m\n\u001b[1;32m     80\u001b[0m         \u001b[0;31m# print(\"Matrix error:\", e)\u001b[0m\u001b[0;34m\u001b[0m\u001b[0;34m\u001b[0m\u001b[0;34m\u001b[0m\u001b[0m\n",
      "\u001b[0;32m<ipython-input-149-d78fedc6fc98>\u001b[0m in \u001b[0;36mget_neighborhood_diff\u001b[0;34m(p, q)\u001b[0m\n\u001b[1;32m     57\u001b[0m                 \u001b[0mline\u001b[0m\u001b[0;34m.\u001b[0m\u001b[0mappend\u001b[0m\u001b[0;34m(\u001b[0m\u001b[0mnp\u001b[0m\u001b[0;34m.\u001b[0m\u001b[0minf\u001b[0m\u001b[0;34m)\u001b[0m\u001b[0;34m\u001b[0m\u001b[0;34m\u001b[0m\u001b[0m\n\u001b[1;32m     58\u001b[0m                 \u001b[0;32mcontinue\u001b[0m\u001b[0;34m\u001b[0m\u001b[0;34m\u001b[0m\u001b[0m\n\u001b[0;32m---> 59\u001b[0;31m             \u001b[0mdistances\u001b[0m\u001b[0;34m,\u001b[0m \u001b[0mntypes\u001b[0m \u001b[0;34m=\u001b[0m \u001b[0mcompute_distance_matrix\u001b[0m\u001b[0;34m(\u001b[0m\u001b[0mdistances_p\u001b[0m\u001b[0;34m[\u001b[0m\u001b[0mi\u001b[0m\u001b[0;34m]\u001b[0m\u001b[0;34m,\u001b[0m \u001b[0mdistances_q\u001b[0m\u001b[0;34m[\u001b[0m\u001b[0mj\u001b[0m\u001b[0;34m]\u001b[0m\u001b[0;34m,\u001b[0m \u001b[0mp\u001b[0m\u001b[0;34m,\u001b[0m \u001b[0mq\u001b[0m\u001b[0;34m)\u001b[0m\u001b[0;34m\u001b[0m\u001b[0;34m\u001b[0m\u001b[0m\n\u001b[0m\u001b[1;32m     60\u001b[0m             \u001b[0;31m#print(distances, \"\\n---\\n\", ntypes)\u001b[0m\u001b[0;34m\u001b[0m\u001b[0;34m\u001b[0m\u001b[0;34m\u001b[0m\u001b[0m\n\u001b[1;32m     61\u001b[0m             \u001b[0mdistances\u001b[0m\u001b[0;34m[\u001b[0m\u001b[0;34m~\u001b[0m\u001b[0mntypes\u001b[0m\u001b[0;34m]\u001b[0m \u001b[0;34m=\u001b[0m \u001b[0mnp\u001b[0m\u001b[0;34m.\u001b[0m\u001b[0minf\u001b[0m\u001b[0;34m\u001b[0m\u001b[0;34m\u001b[0m\u001b[0m\n",
      "\u001b[0;32m<ipython-input-149-d78fedc6fc98>\u001b[0m in \u001b[0;36mcompute_distance_matrix\u001b[0;34m(features_p, features_q, p, q)\u001b[0m\n\u001b[1;32m     35\u001b[0m             \u001b[0map\u001b[0m \u001b[0;34m=\u001b[0m \u001b[0mp\u001b[0m\u001b[0;34m.\u001b[0m\u001b[0mphar\u001b[0m\u001b[0;34m[\u001b[0m\u001b[0mk\u001b[0m\u001b[0;34m]\u001b[0m\u001b[0;34m.\u001b[0m\u001b[0ma\u001b[0m\u001b[0;34m\u001b[0m\u001b[0;34m\u001b[0m\u001b[0m\n\u001b[1;32m     36\u001b[0m             \u001b[0maq\u001b[0m \u001b[0;34m=\u001b[0m \u001b[0mq\u001b[0m\u001b[0;34m.\u001b[0m\u001b[0mphar\u001b[0m\u001b[0;34m[\u001b[0m\u001b[0mm\u001b[0m\u001b[0;34m]\u001b[0m\u001b[0;34m.\u001b[0m\u001b[0ma\u001b[0m\u001b[0;34m\u001b[0m\u001b[0;34m\u001b[0m\u001b[0m\n\u001b[0;32m---> 37\u001b[0;31m             \u001b[0md\u001b[0m \u001b[0;34m=\u001b[0m \u001b[0mnp\u001b[0m\u001b[0;34m.\u001b[0m\u001b[0mabs\u001b[0m\u001b[0;34m(\u001b[0m\u001b[0mdp\u001b[0m \u001b[0;34m-\u001b[0m \u001b[0mdq\u001b[0m\u001b[0;34m)\u001b[0m\u001b[0;34m*\u001b[0m\u001b[0map\u001b[0m\u001b[0;34m*\u001b[0m\u001b[0maq\u001b[0m\u001b[0;34m/\u001b[0m\u001b[0;34m(\u001b[0m\u001b[0map\u001b[0m\u001b[0;34m+\u001b[0m\u001b[0maq\u001b[0m\u001b[0;34m)\u001b[0m\u001b[0;34m\u001b[0m\u001b[0;34m\u001b[0m\u001b[0m\n\u001b[0m\u001b[1;32m     38\u001b[0m             \u001b[0mdist_list\u001b[0m\u001b[0;34m.\u001b[0m\u001b[0mappend\u001b[0m\u001b[0;34m(\u001b[0m\u001b[0md\u001b[0m\u001b[0;34m)\u001b[0m\u001b[0;34m\u001b[0m\u001b[0;34m\u001b[0m\u001b[0m\n\u001b[1;32m     39\u001b[0m             \u001b[0mtype_list\u001b[0m\u001b[0;34m.\u001b[0m\u001b[0mappend\u001b[0m\u001b[0;34m(\u001b[0m\u001b[0;34m(\u001b[0m\u001b[0mp\u001b[0m\u001b[0;34m.\u001b[0m\u001b[0mphar\u001b[0m\u001b[0;34m[\u001b[0m\u001b[0mk\u001b[0m\u001b[0;34m]\u001b[0m\u001b[0;34m.\u001b[0m\u001b[0mname\u001b[0m \u001b[0;34m==\u001b[0m \u001b[0mq\u001b[0m\u001b[0;34m.\u001b[0m\u001b[0mphar\u001b[0m\u001b[0;34m[\u001b[0m\u001b[0mm\u001b[0m\u001b[0;34m]\u001b[0m\u001b[0;34m.\u001b[0m\u001b[0mname\u001b[0m\u001b[0;34m)\u001b[0m \u001b[0;32mand\u001b[0m \u001b[0;34m(\u001b[0m\u001b[0md\u001b[0m \u001b[0;34m<\u001b[0m \u001b[0;36m1\u001b[0m\u001b[0;34m)\u001b[0m\u001b[0;34m)\u001b[0m\u001b[0;34m\u001b[0m\u001b[0;34m\u001b[0m\u001b[0m\n",
      "\u001b[0;31mKeyboardInterrupt\u001b[0m: "
     ]
    }
   ],
   "source": [
    "test_neighborhood = dict()\n",
    "for i, p in enumerate(tqdm(pos_pharmacophores[:10])):\n",
    "    for j, q in enumerate(test_pharmacophores):\n",
    "        # print(len(p.phar), len(q.phar))\n",
    "        result = build_neighborhood_matrix(p, q)\n",
    "        # if len(p.phar)==1 or len(q.phar) == 1:\n",
    "        #     print(result)\n",
    "        if result is not None:\n",
    "            test_neighborhood[(i, j)] = result"
   ]
  },
  {
   "cell_type": "code",
   "execution_count": 49,
   "metadata": {},
   "outputs": [
    {
     "data": {
      "text/html": [
       "<div>\n",
       "<style scoped>\n",
       "    .dataframe tbody tr th:only-of-type {\n",
       "        vertical-align: middle;\n",
       "    }\n",
       "\n",
       "    .dataframe tbody tr th {\n",
       "        vertical-align: top;\n",
       "    }\n",
       "\n",
       "    .dataframe thead th {\n",
       "        text-align: right;\n",
       "    }\n",
       "</style>\n",
       "<table border=\"1\" class=\"dataframe\">\n",
       "  <thead>\n",
       "    <tr style=\"text-align: right;\">\n",
       "      <th></th>\n",
       "      <th>HYBL</th>\n",
       "      <th>HDON</th>\n",
       "      <th>HYBH</th>\n",
       "      <th>HACC</th>\n",
       "      <th>NEGC</th>\n",
       "      <th>POSC</th>\n",
       "    </tr>\n",
       "  </thead>\n",
       "  <tbody>\n",
       "    <tr>\n",
       "      <th>0</th>\n",
       "      <td>2.0</td>\n",
       "      <td>1.0</td>\n",
       "      <td>1.0</td>\n",
       "      <td>NaN</td>\n",
       "      <td>NaN</td>\n",
       "      <td>NaN</td>\n",
       "    </tr>\n",
       "    <tr>\n",
       "      <th>1</th>\n",
       "      <td>2.0</td>\n",
       "      <td>NaN</td>\n",
       "      <td>1.0</td>\n",
       "      <td>NaN</td>\n",
       "      <td>NaN</td>\n",
       "      <td>NaN</td>\n",
       "    </tr>\n",
       "    <tr>\n",
       "      <th>2</th>\n",
       "      <td>3.0</td>\n",
       "      <td>1.0</td>\n",
       "      <td>1.0</td>\n",
       "      <td>3.0</td>\n",
       "      <td>NaN</td>\n",
       "      <td>NaN</td>\n",
       "    </tr>\n",
       "    <tr>\n",
       "      <th>3</th>\n",
       "      <td>5.0</td>\n",
       "      <td>2.0</td>\n",
       "      <td>NaN</td>\n",
       "      <td>1.0</td>\n",
       "      <td>NaN</td>\n",
       "      <td>NaN</td>\n",
       "    </tr>\n",
       "    <tr>\n",
       "      <th>4</th>\n",
       "      <td>4.0</td>\n",
       "      <td>2.0</td>\n",
       "      <td>NaN</td>\n",
       "      <td>NaN</td>\n",
       "      <td>NaN</td>\n",
       "      <td>NaN</td>\n",
       "    </tr>\n",
       "    <tr>\n",
       "      <th>...</th>\n",
       "      <td>...</td>\n",
       "      <td>...</td>\n",
       "      <td>...</td>\n",
       "      <td>...</td>\n",
       "      <td>...</td>\n",
       "      <td>...</td>\n",
       "    </tr>\n",
       "    <tr>\n",
       "      <th>5753</th>\n",
       "      <td>4.0</td>\n",
       "      <td>NaN</td>\n",
       "      <td>1.0</td>\n",
       "      <td>3.0</td>\n",
       "      <td>1.0</td>\n",
       "      <td>1.0</td>\n",
       "    </tr>\n",
       "    <tr>\n",
       "      <th>5754</th>\n",
       "      <td>3.0</td>\n",
       "      <td>2.0</td>\n",
       "      <td>1.0</td>\n",
       "      <td>NaN</td>\n",
       "      <td>NaN</td>\n",
       "      <td>NaN</td>\n",
       "    </tr>\n",
       "    <tr>\n",
       "      <th>5755</th>\n",
       "      <td>2.0</td>\n",
       "      <td>NaN</td>\n",
       "      <td>1.0</td>\n",
       "      <td>NaN</td>\n",
       "      <td>NaN</td>\n",
       "      <td>NaN</td>\n",
       "    </tr>\n",
       "    <tr>\n",
       "      <th>5756</th>\n",
       "      <td>5.0</td>\n",
       "      <td>NaN</td>\n",
       "      <td>1.0</td>\n",
       "      <td>NaN</td>\n",
       "      <td>NaN</td>\n",
       "      <td>NaN</td>\n",
       "    </tr>\n",
       "    <tr>\n",
       "      <th>5757</th>\n",
       "      <td>1.0</td>\n",
       "      <td>1.0</td>\n",
       "      <td>NaN</td>\n",
       "      <td>1.0</td>\n",
       "      <td>NaN</td>\n",
       "      <td>NaN</td>\n",
       "    </tr>\n",
       "  </tbody>\n",
       "</table>\n",
       "<p>5758 rows × 6 columns</p>\n",
       "</div>"
      ],
      "text/plain": [
       "      HYBL  HDON  HYBH  HACC  NEGC  POSC\n",
       "0      2.0   1.0   1.0   NaN   NaN   NaN\n",
       "1      2.0   NaN   1.0   NaN   NaN   NaN\n",
       "2      3.0   1.0   1.0   3.0   NaN   NaN\n",
       "3      5.0   2.0   NaN   1.0   NaN   NaN\n",
       "4      4.0   2.0   NaN   NaN   NaN   NaN\n",
       "...    ...   ...   ...   ...   ...   ...\n",
       "5753   4.0   NaN   1.0   3.0   1.0   1.0\n",
       "5754   3.0   2.0   1.0   NaN   NaN   NaN\n",
       "5755   2.0   NaN   1.0   NaN   NaN   NaN\n",
       "5756   5.0   NaN   1.0   NaN   NaN   NaN\n",
       "5757   1.0   1.0   NaN   1.0   NaN   NaN\n",
       "\n",
       "[5758 rows x 6 columns]"
      ]
     },
     "execution_count": 49,
     "metadata": {},
     "output_type": "execute_result"
    }
   ],
   "source": [
    "def get_features(phar):\n",
    "    data = {}\n",
    "    for p in phar.phar:\n",
    "        if not p.name in data:\n",
    "            data[p.name] = 0\n",
    "        data[p.name]+=1\n",
    "    return data\n",
    "    pass\n",
    "from tqdm.auto import tqdm\n",
    "# features_df = []\n",
    "# for phar in tqdm(pos_pharmacophores):\n",
    "#     data = get_features(phar)\n",
    "#     data[\"active\"] = 1\n",
    "#     features_df.append(data)\n",
    "# for phar in tqdm(neg_pharmacophores):\n",
    "#     data = get_features(phar)\n",
    "#     data[\"active\"] = 0\n",
    "#     features_df.append(data)\n",
    "\n",
    "# df = pd.DataFrame(features_df).fillna(0)\n",
    "# df.head()\n",
    "train_features = []\n",
    "for i in train_df.index:\n",
    "    if not i in train2pharm:\n",
    "        train_features.append({})\n",
    "        continue\n",
    "    features = get_features(train2pharm[i])\n",
    "    train_features.append(features)\n",
    "    \n",
    "pd.DataFrame(train_features)"
   ]
  },
  {
   "cell_type": "code",
   "execution_count": 83,
   "metadata": {},
   "outputs": [
    {
     "data": {
      "text/html": [
       "<div>\n",
       "<style scoped>\n",
       "    .dataframe tbody tr th:only-of-type {\n",
       "        vertical-align: middle;\n",
       "    }\n",
       "\n",
       "    .dataframe tbody tr th {\n",
       "        vertical-align: top;\n",
       "    }\n",
       "\n",
       "    .dataframe thead tr th {\n",
       "        text-align: left;\n",
       "    }\n",
       "\n",
       "    .dataframe thead tr:last-of-type th {\n",
       "        text-align: right;\n",
       "    }\n",
       "</style>\n",
       "<table border=\"1\" class=\"dataframe\">\n",
       "  <thead>\n",
       "    <tr>\n",
       "      <th></th>\n",
       "      <th colspan=\"8\" halign=\"left\">HYBL</th>\n",
       "      <th colspan=\"2\" halign=\"left\">HDON</th>\n",
       "      <th>...</th>\n",
       "      <th colspan=\"2\" halign=\"left\">POSC</th>\n",
       "      <th colspan=\"8\" halign=\"left\">NEGC</th>\n",
       "    </tr>\n",
       "    <tr>\n",
       "      <th></th>\n",
       "      <th>count</th>\n",
       "      <th>mean</th>\n",
       "      <th>std</th>\n",
       "      <th>min</th>\n",
       "      <th>25%</th>\n",
       "      <th>50%</th>\n",
       "      <th>75%</th>\n",
       "      <th>max</th>\n",
       "      <th>count</th>\n",
       "      <th>mean</th>\n",
       "      <th>...</th>\n",
       "      <th>75%</th>\n",
       "      <th>max</th>\n",
       "      <th>count</th>\n",
       "      <th>mean</th>\n",
       "      <th>std</th>\n",
       "      <th>min</th>\n",
       "      <th>25%</th>\n",
       "      <th>50%</th>\n",
       "      <th>75%</th>\n",
       "      <th>max</th>\n",
       "    </tr>\n",
       "    <tr>\n",
       "      <th>active</th>\n",
       "      <th></th>\n",
       "      <th></th>\n",
       "      <th></th>\n",
       "      <th></th>\n",
       "      <th></th>\n",
       "      <th></th>\n",
       "      <th></th>\n",
       "      <th></th>\n",
       "      <th></th>\n",
       "      <th></th>\n",
       "      <th></th>\n",
       "      <th></th>\n",
       "      <th></th>\n",
       "      <th></th>\n",
       "      <th></th>\n",
       "      <th></th>\n",
       "      <th></th>\n",
       "      <th></th>\n",
       "      <th></th>\n",
       "      <th></th>\n",
       "      <th></th>\n",
       "    </tr>\n",
       "  </thead>\n",
       "  <tbody>\n",
       "    <tr>\n",
       "      <th>0</th>\n",
       "      <td>5306.0</td>\n",
       "      <td>3.025631</td>\n",
       "      <td>1.676050</td>\n",
       "      <td>0.0</td>\n",
       "      <td>2.0</td>\n",
       "      <td>3.0</td>\n",
       "      <td>4.0</td>\n",
       "      <td>16.0</td>\n",
       "      <td>5306.0</td>\n",
       "      <td>1.042782</td>\n",
       "      <td>...</td>\n",
       "      <td>0.0</td>\n",
       "      <td>6.0</td>\n",
       "      <td>5306.0</td>\n",
       "      <td>0.081040</td>\n",
       "      <td>0.332118</td>\n",
       "      <td>0.0</td>\n",
       "      <td>0.0</td>\n",
       "      <td>0.0</td>\n",
       "      <td>0.0</td>\n",
       "      <td>6.0</td>\n",
       "    </tr>\n",
       "    <tr>\n",
       "      <th>1</th>\n",
       "      <td>205.0</td>\n",
       "      <td>2.829268</td>\n",
       "      <td>1.560895</td>\n",
       "      <td>0.0</td>\n",
       "      <td>2.0</td>\n",
       "      <td>3.0</td>\n",
       "      <td>4.0</td>\n",
       "      <td>8.0</td>\n",
       "      <td>205.0</td>\n",
       "      <td>0.858537</td>\n",
       "      <td>...</td>\n",
       "      <td>0.0</td>\n",
       "      <td>4.0</td>\n",
       "      <td>205.0</td>\n",
       "      <td>0.180488</td>\n",
       "      <td>0.561519</td>\n",
       "      <td>0.0</td>\n",
       "      <td>0.0</td>\n",
       "      <td>0.0</td>\n",
       "      <td>0.0</td>\n",
       "      <td>4.0</td>\n",
       "    </tr>\n",
       "  </tbody>\n",
       "</table>\n",
       "<p>2 rows × 48 columns</p>\n",
       "</div>"
      ],
      "text/plain": [
       "          HYBL                                                  HDON  \\\n",
       "         count      mean       std  min  25%  50%  75%   max   count   \n",
       "active                                                                 \n",
       "0       5306.0  3.025631  1.676050  0.0  2.0  3.0  4.0  16.0  5306.0   \n",
       "1        205.0  2.829268  1.560895  0.0  2.0  3.0  4.0   8.0   205.0   \n",
       "\n",
       "                  ... POSC         NEGC                                     \\\n",
       "            mean  ...  75%  max   count      mean       std  min  25%  50%   \n",
       "active            ...                                                        \n",
       "0       1.042782  ...  0.0  6.0  5306.0  0.081040  0.332118  0.0  0.0  0.0   \n",
       "1       0.858537  ...  0.0  4.0   205.0  0.180488  0.561519  0.0  0.0  0.0   \n",
       "\n",
       "                  \n",
       "        75%  max  \n",
       "active            \n",
       "0       0.0  6.0  \n",
       "1       0.0  4.0  \n",
       "\n",
       "[2 rows x 48 columns]"
      ]
     },
     "execution_count": 83,
     "metadata": {},
     "output_type": "execute_result"
    }
   ],
   "source": [
    "df.groupby(\"active\").describe()"
   ]
  },
  {
   "cell_type": "code",
   "execution_count": 77,
   "metadata": {},
   "outputs": [
    {
     "data": {
      "text/plain": [
       "HYBL    0.946341\n",
       "HDON    0.463415\n",
       "HYBH    0.502439\n",
       "HACC    0.663415\n",
       "POSC    0.131707\n",
       "NEGC    0.126829\n",
       "dtype: float64"
      ]
     },
     "execution_count": 77,
     "metadata": {},
     "output_type": "execute_result"
    }
   ],
   "source": [
    "(df > 0).mean()"
   ]
  },
  {
   "cell_type": "code",
   "execution_count": null,
   "metadata": {},
   "outputs": [],
   "source": []
  }
 ],
 "metadata": {
  "interpreter": {
   "hash": "d632e93423067b2b9b1b8d52846f85c868da433699adad534ad2cc6673775271"
  },
  "kernelspec": {
   "display_name": "Python 3.7.12 ('data_env')",
   "language": "python",
   "name": "python3"
  },
  "language_info": {
   "codemirror_mode": {
    "name": "ipython",
    "version": 3
   },
   "file_extension": ".py",
   "mimetype": "text/x-python",
   "name": "python",
   "nbconvert_exporter": "python",
   "pygments_lexer": "ipython3",
   "version": "3.7.12"
  },
  "orig_nbformat": 4
 },
 "nbformat": 4,
 "nbformat_minor": 2
}
