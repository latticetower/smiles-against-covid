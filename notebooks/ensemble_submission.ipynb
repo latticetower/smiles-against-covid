{
 "cells": [
  {
   "cell_type": "code",
   "execution_count": 2,
   "metadata": {},
   "outputs": [],
   "source": [
    "import pandas as pd\n",
    "import numpy as np\n",
    "from pathlib import Path"
   ]
  },
  {
   "cell_type": "code",
   "execution_count": 3,
   "metadata": {},
   "outputs": [],
   "source": [
    "DATA_DIR = Path(\"../data\")\n",
    "test_df = pd.read_csv(DATA_DIR / \"test.csv\", index_col=0)\n",
    "TMP_DIR = Path(\"../tmp\")\n",
    "prev_submits = {\n",
    "    \"submission_pubchem_fingerprints.csv\": 0.21455938697318,\n",
    "    \"submission_pubchem_fingerprints-21644685397.csv\": 0.2979,\n",
    "    \"catboost_predictions_v01644711680.csv\": 0.37096774193548,\n",
    "    \"submission_deeppurpose_v0.csv\": 0.179,\n",
    "    \"catboost_predictions_v0_1.csv\": 0.3740,#0.3577\n",
    "    \"submission_deeppurpose_v0_v1.csv\": 0.2158,\n",
    "    \"catboost_predictions_v0_2.csv\": 0.2555,\n",
    "    \"catboost_predictions_v0_31644833081.csv\": 0.2596,#0.3125,#0.2596,\n",
    "    \"catboost_predictions_v0_31644833581.csv\":0.3125,\n",
    "    \"catboost_predictions_v1.csv\": 0.29,\n",
    "    \"multinomial_nb_all_frags.csv\": 0.2637,\n",
    "    \"multinomial_nb_all_frags_opt.csv\": 0.3068,\n",
    "    \"multinomial_nb_all_frags_opt_v2.csv\": 0.3609\n",
    "}"
   ]
  },
  {
   "cell_type": "code",
   "execution_count": 6,
   "metadata": {},
   "outputs": [],
   "source": [
    "all_df = []\n",
    "for prev_submit in prev_submits:\n",
    "    prev_submit_path = TMP_DIR / prev_submit\n",
    "    df = pd.read_csv(prev_submit_path, index_col=0)\n",
    "    all_df.append(df.Active.values*1)\n"
   ]
  },
  {
   "cell_type": "code",
   "execution_count": 11,
   "metadata": {},
   "outputs": [],
   "source": [
    "ensemble_predictions = (np.stack(all_df, 0).mean(0) > 0.5)"
   ]
  },
  {
   "cell_type": "code",
   "execution_count": 12,
   "metadata": {},
   "outputs": [],
   "source": [
    "test_df[\"Active\"] = ensemble_predictions\n",
    "test_df.to_csv(TMP_DIR / \"ensemble_submission.csv\")"
   ]
  },
  {
   "cell_type": "code",
   "execution_count": null,
   "metadata": {},
   "outputs": [],
   "source": []
  }
 ],
 "metadata": {
  "interpreter": {
   "hash": "d632e93423067b2b9b1b8d52846f85c868da433699adad534ad2cc6673775271"
  },
  "kernelspec": {
   "display_name": "Python 3.7.12 ('data_env')",
   "language": "python",
   "name": "python3"
  },
  "language_info": {
   "codemirror_mode": {
    "name": "ipython",
    "version": 3
   },
   "file_extension": ".py",
   "mimetype": "text/x-python",
   "name": "python",
   "nbconvert_exporter": "python",
   "pygments_lexer": "ipython3",
   "version": "3.7.12"
  },
  "orig_nbformat": 4
 },
 "nbformat": 4,
 "nbformat_minor": 2
}
